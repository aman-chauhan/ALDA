{
 "cells": [
  {
   "cell_type": "code",
   "execution_count": 1,
   "metadata": {},
   "outputs": [],
   "source": [
    "#Q4 (C) \n",
    "import math"
   ]
  },
  {
   "cell_type": "code",
   "execution_count": 26,
   "metadata": {},
   "outputs": [
    {
     "name": "stdout",
     "output_type": "stream",
     "text": [
      "Inital Weight: 0.09090909090909091\n"
     ]
    }
   ],
   "source": [
    "init_weight = 1 / 11\n",
    "print(f'Inital Weight: {init_weight}')"
   ]
  },
  {
   "cell_type": "code",
   "execution_count": 28,
   "metadata": {},
   "outputs": [
    {
     "name": "stdout",
     "output_type": "stream",
     "text": [
      "Epsilon: 0.09090909090909091\n"
     ]
    }
   ],
   "source": [
    "epsilon = 1 * init_weight\n",
    "print(f'Epsilon: {epsilon}')"
   ]
  },
  {
   "cell_type": "code",
   "execution_count": 38,
   "metadata": {},
   "outputs": [
    {
     "name": "stdout",
     "output_type": "stream",
     "text": [
      "Alpha: 1.151292546497023\n"
     ]
    }
   ],
   "source": [
    "alpha = 0.5 * math.log((1-epsilon)/epsilon)\n",
    "print(f'Alpha: {alpha}')"
   ]
  },
  {
   "cell_type": "code",
   "execution_count": 39,
   "metadata": {},
   "outputs": [],
   "source": [
    "#correctly classified"
   ]
  },
  {
   "cell_type": "code",
   "execution_count": 40,
   "metadata": {},
   "outputs": [
    {
     "name": "stdout",
     "output_type": "stream",
     "text": [
      "Correctly Classified  : 0.028747978728803445\n"
     ]
    }
   ],
   "source": [
    "exp_correct = init_weight * math.exp(-1*alpha)\n",
    "print(f'Correctly Classified  : {exp_correct}')"
   ]
  },
  {
   "cell_type": "code",
   "execution_count": 41,
   "metadata": {},
   "outputs": [
    {
     "name": "stdout",
     "output_type": "stream",
     "text": [
      "Incorrectly Classified : 0.2874797872880345\n"
     ]
    }
   ],
   "source": [
    "exp_incorrect = init_weight * math.exp(alpha)\n",
    "print(f'Incorrectly Classified : {exp_incorrect}')"
   ]
  },
  {
   "cell_type": "code",
   "execution_count": 44,
   "metadata": {},
   "outputs": [],
   "source": [
    "# Normalization"
   ]
  },
  {
   "cell_type": "code",
   "execution_count": 45,
   "metadata": {},
   "outputs": [
    {
     "name": "stdout",
     "output_type": "stream",
     "text": [
      "Normalization Factor: 0.5749595745760689\n"
     ]
    }
   ],
   "source": [
    "z = 1 * exp_incorrect + 10 * exp_correct\n",
    "print(f'Normalization Factor: {z}')"
   ]
  },
  {
   "cell_type": "code",
   "execution_count": 46,
   "metadata": {},
   "outputs": [
    {
     "name": "stdout",
     "output_type": "stream",
     "text": [
      "W2_Correct: 0.049999999999999996\n"
     ]
    }
   ],
   "source": [
    "w2_correct = exp_correct / z\n",
    "print(f'W2_Correct: {w2_correct}')"
   ]
  },
  {
   "cell_type": "code",
   "execution_count": 47,
   "metadata": {},
   "outputs": [
    {
     "name": "stdout",
     "output_type": "stream",
     "text": [
      "W2_InCorrect: 0.5000000000000001\n"
     ]
    }
   ],
   "source": [
    "w2_incorrect = exp_incorrect / z\n",
    "print(f'W2_InCorrect: {w2_incorrect}')"
   ]
  },
  {
   "cell_type": "code",
   "execution_count": 48,
   "metadata": {},
   "outputs": [],
   "source": [
    "# Weighted Error"
   ]
  },
  {
   "cell_type": "code",
   "execution_count": 49,
   "metadata": {},
   "outputs": [
    {
     "name": "stdout",
     "output_type": "stream",
     "text": [
      "Weighted Error: 0.5000000000000001\n"
     ]
    }
   ],
   "source": [
    "weighted_error = w2_incorrect * 1\n",
    "print(f'Weighted Error: {weighted_error}')"
   ]
  }
 ],
 "metadata": {
  "kernelspec": {
   "display_name": "Python 3",
   "language": "python",
   "name": "python3"
  },
  "language_info": {
   "codemirror_mode": {
    "name": "ipython",
    "version": 3
   },
   "file_extension": ".py",
   "mimetype": "text/x-python",
   "name": "python",
   "nbconvert_exporter": "python",
   "pygments_lexer": "ipython3",
   "version": "3.6.4"
  }
 },
 "nbformat": 4,
 "nbformat_minor": 2
}
