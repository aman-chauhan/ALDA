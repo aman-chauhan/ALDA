{
 "cells": [
  {
   "cell_type": "markdown",
   "metadata": {},
   "source": [
    "# Q1 - PCA"
   ]
  },
  {
   "cell_type": "markdown",
   "metadata": {},
   "source": [
    "## Import the libraries"
   ]
  },
  {
   "cell_type": "code",
   "execution_count": null,
   "metadata": {},
   "outputs": [],
   "source": [
    "import matplotlib.pyplot as plt\n",
    "import numpy as np\n",
    "import os\n",
    "%matplotlib inline"
   ]
  },
  {
   "cell_type": "markdown",
   "metadata": {},
   "source": [
    "## (A) Load the Data"
   ]
  },
  {
   "cell_type": "code",
   "execution_count": null,
   "metadata": {},
   "outputs": [],
   "source": [
    "def data_and_headers(filename):\n",
    "    data = None\n",
    "    with open(filename) as fp:\n",
    "        data = [x.strip().split(',') for x in fp.readlines()]\n",
    "    headers = data[0]\n",
    "    headers = np.asarray(headers)\n",
    "    class_field = len(headers) - 1\n",
    "    data_x = [[float(x[i]) for i in range(class_field)] for x in data[1:]]\n",
    "    data_x = np.asarray(data_x)\n",
    "    data_y = [[str(x[i]) for i in range(class_field, class_field + 1)] for x in data[1:]]\n",
    "    data_y = np.asarray(data_y)\n",
    "    return headers, data_x, data_y"
   ]
  },
  {
   "cell_type": "code",
   "execution_count": null,
   "metadata": {},
   "outputs": [],
   "source": [
    "headers, train_x, train_y = data_and_headers('Data' + os.sep + 'hw2q1_train.csv')\n",
    "headers, test_x, test_y = data_and_headers('Data' + os.sep + 'hw2q1_test.csv')"
   ]
  },
  {
   "cell_type": "code",
   "execution_count": null,
   "metadata": {},
   "outputs": [],
   "source": [
    "print('Training Data')\n",
    "print('Number of features - ' + str(train_x.shape[1]))\n",
    "print('Number of target features - ' + str(train_y.shape[1]))\n",
    "print('Number of observations - ' + str(train_x.shape[0]))\n",
    "print('Number of observations in category R - ' + str(train_y[train_y=='R'].shape[0]))\n",
    "print('Number of observations in category M - ' + str(train_y[train_y=='M'].shape[0]))\n",
    "print()\n",
    "print('Testing Data')\n",
    "print('Number of features - ' + str(test_x.shape[1]))\n",
    "print('Number of target features - ' + str(test_y.shape[1]))\n",
    "print('Number of observations - ' + str(test_x.shape[0]))\n",
    "print('Number of observations in category R - ' + str(test_y[test_y=='R'].shape[0]))\n",
    "print('Number of observations in category M - ' + str(test_y[test_y=='M'].shape[0]))"
   ]
  },
  {
   "cell_type": "markdown",
   "metadata": {},
   "source": [
    "## (B) Normalization and PCA"
   ]
  },
  {
   "cell_type": "code",
   "execution_count": null,
   "metadata": {},
   "outputs": [],
   "source": [
    "def normalize(data, minima, maxima):\n",
    "    normal = np.copy(data)\n",
    "    normal = (normal - minima) / (maxima - minima)\n",
    "    return normal"
   ]
  },
  {
   "cell_type": "code",
   "execution_count": null,
   "metadata": {},
   "outputs": [],
   "source": [
    "normal_train = normalize(train_x, np.amin(train_x, axis=0), np.amax(train_x, axis=0))\n",
    "normal_test = normalize(test_x, np.amin(train_x, axis=0), np.amax(train_x, axis=0))"
   ]
  },
  {
   "cell_type": "markdown",
   "metadata": {},
   "source": [
    "### (i) Covariance of Training Dataset"
   ]
  },
  {
   "cell_type": "code",
   "execution_count": null,
   "metadata": {},
   "outputs": [],
   "source": [
    "covariance = np.cov(normal_train, rowvar=False)\n",
    "fig, axes = plt.subplots(nrows=1, ncols=1)\n",
    "fig.set_figheight(12)\n",
    "fig.set_figwidth(15)\n",
    "im = axes.pcolor(covariance, cmap='CMRmap')\n",
    "fig.colorbar(im, ax=axes)\n",
    "plt.show()"
   ]
  },
  {
   "cell_type": "markdown",
   "metadata": {},
   "source": [
    "### (ii) Eigenvalue and Eigenvectors"
   ]
  },
  {
   "cell_type": "code",
   "execution_count": null,
   "metadata": {},
   "outputs": [],
   "source": [
    "print('Size of covariance matrix - ' + str(covariance.shape))\n",
    "w,v = np.linalg.eig(covariance)\n",
    "print('Top 5 Eigenvalues - ' + ', '.join(['{:.3f}'.format(x) for x in sorted(w[np.argsort(w)[-5:]])]))"
   ]
  },
  {
   "cell_type": "markdown",
   "metadata": {},
   "source": [
    "### (iii) Plot of Eigenvalues"
   ]
  },
  {
   "cell_type": "code",
   "execution_count": null,
   "metadata": {},
   "outputs": [],
   "source": [
    "fig, axes = plt.subplots(nrows=1, ncols=2)\n",
    "fig.set_figheight(9)\n",
    "fig.set_figwidth(24)\n",
    "axes[0].bar(np.arange(60), w)\n",
    "axes[1].plot(np.arange(60), np.cumsum(w)/np.sum(w))\n",
    "plt.show()"
   ]
  }
 ],
 "metadata": {
  "kernelspec": {
   "display_name": "Python 3",
   "language": "python",
   "name": "python3"
  },
  "language_info": {
   "codemirror_mode": {
    "name": "ipython",
    "version": 3
   },
   "file_extension": ".py",
   "mimetype": "text/x-python",
   "name": "python",
   "nbconvert_exporter": "python",
   "pygments_lexer": "ipython3",
   "version": "3.6.5"
  }
 },
 "nbformat": 4,
 "nbformat_minor": 2
}
