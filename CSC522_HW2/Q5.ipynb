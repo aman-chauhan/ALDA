{
 "cells": [
  {
   "cell_type": "markdown",
   "metadata": {},
   "source": [
    "# Q5 - Naive Bayes and Decision Trees"
   ]
  },
  {
   "cell_type": "markdown",
   "metadata": {},
   "source": [
    "## Import the libraries"
   ]
  },
  {
   "cell_type": "code",
   "execution_count": 17,
   "metadata": {
    "scrolled": true
   },
   "outputs": [],
   "source": [
    "from sklearn.naive_bayes import MultinomialNB\n",
    "from IPython.display import display\n",
    "from IPython.display import SVG\n",
    "from id3 import export_graphviz\n",
    "from id3 import Id3Estimator\n",
    "from sklearn import tree\n",
    "\n",
    "import matplotlib.pyplot as plt\n",
    "import numpy as np\n",
    "import graphviz\n",
    "import os\n",
    "%matplotlib inline"
   ]
  },
  {
   "cell_type": "markdown",
   "metadata": {},
   "source": [
    "## Load the data"
   ]
  },
  {
   "cell_type": "code",
   "execution_count": 18,
   "metadata": {
    "scrolled": true
   },
   "outputs": [],
   "source": [
    "def data_and_headers(filename):\n",
    "    data = None\n",
    "    with open(filename) as fp:\n",
    "        data = [x.strip().split(',') for x in fp.readlines()]\n",
    "    headers = data[0]\n",
    "    headers = np.asarray(headers)\n",
    "    class_field = len(headers) - 1\n",
    "    data_x = [[x[i] for i in range(class_field)] for x in data[1:]]\n",
    "    data_x = np.asarray(data_x)\n",
    "    data_y = [[x[i] for i in range(class_field, class_field + 1)] for x in data[1:]]\n",
    "    data_y = np.asarray(data_y)\n",
    "    return headers, data_x, data_y"
   ]
  },
  {
   "cell_type": "code",
   "execution_count": 19,
   "metadata": {
    "scrolled": true
   },
   "outputs": [],
   "source": [
    "headers, X, Y = data_and_headers('Data' + os.sep + 'hw2q5.csv')\n",
    "indexes=[int(x) for x in list(X[:,0])]\n",
    "X=X[:,1:]"
   ]
  },
  {
   "cell_type": "markdown",
   "metadata": {},
   "source": [
    "## K-Fold Splits"
   ]
  },
  {
   "cell_type": "code",
   "execution_count": 20,
   "metadata": {
    "scrolled": true
   },
   "outputs": [],
   "source": [
    "def createfolds(indexes):\n",
    "    folds = {i:{'train':[], 'test':[]} for i in range(1,6)}\n",
    "    for i in range(len(indexes)):\n",
    "        for j in range(1,6):\n",
    "            if indexes[i] % 5 == j-1:\n",
    "                folds[j]['test'].append(i)\n",
    "            else:\n",
    "                folds[j]['train'].append(i)\n",
    "    return folds"
   ]
  },
  {
   "cell_type": "code",
   "execution_count": 21,
   "metadata": {
    "scrolled": true
   },
   "outputs": [],
   "source": [
    "folds = createfolds(indexes)"
   ]
  },
  {
   "cell_type": "markdown",
   "metadata": {},
   "source": [
    "## Naive Bayes"
   ]
  },
  {
   "cell_type": "code",
   "execution_count": 22,
   "metadata": {
    "scrolled": true
   },
   "outputs": [],
   "source": [
    "X = X.tolist()\n",
    "Y = np.ravel(Y).tolist()\n",
    "d1={'presbyopic':2, 'pre-presbyopic':1, 'young':0, 'myope':0, 'hypermetrope':1, 'no':0, 'yes':1, 'normal':1, 'reduced':0}\n",
    "d2={'Yes':1, 'No':0}\n",
    "X = [[d1[X[i][j]] for j in range(len(X[0]))] for i in range(len(X))]\n",
    "X = np.asarray(X)\n",
    "Y = [d2[Y[i]] for i in range(len(Y))]\n",
    "Y = np.asarray(Y)"
   ]
  },
  {
   "cell_type": "code",
   "execution_count": 23,
   "metadata": {},
   "outputs": [
    {
     "name": "stdout",
     "output_type": "stream",
     "text": [
      "Fold 1\n",
      "\tTest IID -\t5, 10, 15, 20\n",
      "\tActual -\tNo, Yes, No, Yes\n",
      "\tPredict -\tNo, No, No, No\n",
      "\tProbabilities - \n",
      "\t\tP(patient age|Class=Yes) = 0.472\n",
      "\t\tP(spectacle prescription|Class=Yes) = 0.194\n",
      "\t\tP(astigmatic|Class=Yes) = 0.222\n",
      "\t\tP(tear production rate|Class=Yes) = 0.111\n",
      "\t\tP(patient age|Class=No) = 0.227\n",
      "\t\tP(spectacle prescription|Class=No) = 0.227\n",
      "\t\tP(astigmatic|Class=No) = 0.182\n",
      "\t\tP(tear production rate|Class=No) = 0.364\n",
      "Fold 2\n",
      "\tTest IID -\t1, 6, 11, 16, 21\n",
      "\tActual -\tNo, Yes, No, No, No\n",
      "\tPredict -\tNo, Yes, No, Yes, No\n",
      "\tProbabilities - \n",
      "\t\tP(patient age|Class=Yes) = 0.452\n",
      "\t\tP(spectacle prescription|Class=Yes) = 0.226\n",
      "\t\tP(astigmatic|Class=Yes) = 0.226\n",
      "\t\tP(tear production rate|Class=Yes) = 0.097\n",
      "\t\tP(patient age|Class=No) = 0.308\n",
      "\t\tP(spectacle prescription|Class=No) = 0.154\n",
      "\t\tP(astigmatic|Class=No) = 0.192\n",
      "\t\tP(tear production rate|Class=No) = 0.346\n",
      "Fold 3\n",
      "\tTest IID -\t2, 7, 12, 17, 22\n",
      "\tActual -\tYes, No, Yes, No, Yes\n",
      "\tPredict -\tYes, No, No, No, No\n",
      "\tProbabilities - \n",
      "\t\tP(patient age|Class=Yes) = 0.444\n",
      "\t\tP(spectacle prescription|Class=Yes) = 0.222\n",
      "\t\tP(astigmatic|Class=Yes) = 0.222\n",
      "\t\tP(tear production rate|Class=Yes) = 0.111\n",
      "\t\tP(patient age|Class=No) = 0.250\n",
      "\t\tP(spectacle prescription|Class=No) = 0.200\n",
      "\t\tP(astigmatic|Class=No) = 0.200\n",
      "\t\tP(tear production rate|Class=No) = 0.350\n",
      "Fold 4\n",
      "\tTest IID -\t3, 8, 13, 18, 23\n",
      "\tActual -\tNo, Yes, No, No, No\n",
      "\tPredict -\tNo, Yes, No, Yes, No\n",
      "\tProbabilities - \n",
      "\t\tP(patient age|Class=Yes) = 0.433\n",
      "\t\tP(spectacle prescription|Class=Yes) = 0.233\n",
      "\t\tP(astigmatic|Class=Yes) = 0.233\n",
      "\t\tP(tear production rate|Class=Yes) = 0.100\n",
      "\t\tP(patient age|Class=No) = 0.320\n",
      "\t\tP(spectacle prescription|Class=No) = 0.160\n",
      "\t\tP(astigmatic|Class=No) = 0.160\n",
      "\t\tP(tear production rate|Class=No) = 0.360\n",
      "Fold 5\n",
      "\tTest IID -\t4, 9, 14, 19, 24\n",
      "\tActual -\tYes, No, Yes, No, No\n",
      "\tPredict -\tYes, No, Yes, No, No\n",
      "\tProbabilities - \n",
      "\t\tP(patient age|Class=Yes) = 0.419\n",
      "\t\tP(spectacle prescription|Class=Yes) = 0.258\n",
      "\t\tP(astigmatic|Class=Yes) = 0.226\n",
      "\t\tP(tear production rate|Class=Yes) = 0.097\n",
      "\t\tP(patient age|Class=No) = 0.304\n",
      "\t\tP(spectacle prescription|Class=No) = 0.174\n",
      "\t\tP(astigmatic|Class=No) = 0.174\n",
      "\t\tP(tear production rate|Class=No) = 0.348\n",
      "\n",
      "Naive-Bayes 5-fold CV accuracy - 75.0%\n"
     ]
    }
   ],
   "source": [
    "cnt = 0\n",
    "subheaders = headers[1:-1]\n",
    "for i in sorted(folds.keys()):\n",
    "    print('Fold '+str(i))\n",
    "    nb = MultinomialNB(alpha=1)\n",
    "    nb=nb.fit(X[folds[i]['train'],:],Y[folds[i]['train']])\n",
    "    ypred=nb.predict(X[folds[i]['test'],:])\n",
    "    print('\\tTest IID -\\t' + ', '.join([str(x) for x in np.asarray(indexes)[folds[i]['test']]]))\n",
    "    print('\\tActual -\\t'+', '.join(['Yes' if x==1 else 'No' for x in Y[folds[i]['test']]]))\n",
    "    print('\\tPredict -\\t' + ', '.join(['Yes' if x==1 else 'No' for x in ypred]))\n",
    "    for j in range(len(ypred)):\n",
    "        if ypred[j]!=Y[folds[i]['test']][j]:\n",
    "            cnt+=1\n",
    "    print('\\tProbabilities - ')\n",
    "    dt={0:'Yes', 1:'No'}\n",
    "    for i in range(len(nb.feature_log_prob_)):\n",
    "        for j in range(len(subheaders)):\n",
    "            print('\\t\\tP({}|Class={}) = {:.3f}'.format(subheaders[j], dt[i], np.exp(nb.feature_log_prob_)[i][j]))\n",
    "print('\\nNaive-Bayes 5-fold CV accuracy - '+ str((24-cnt)*100/24) + '%')"
   ]
  },
  {
   "cell_type": "markdown",
   "metadata": {},
   "source": [
    "## Decision Tree"
   ]
  },
  {
   "cell_type": "code",
   "execution_count": 24,
   "metadata": {},
   "outputs": [],
   "source": [
    "headers, X, Y = data_and_headers('Data' + os.sep + 'hw2q5.csv')\n",
    "indexes=[int(x) for x in list(X[:,0])]\n",
    "X=X[:,1:]"
   ]
  },
  {
   "cell_type": "code",
   "execution_count": 25,
   "metadata": {
    "scrolled": false
   },
   "outputs": [
    {
     "name": "stdout",
     "output_type": "stream",
     "text": [
      "Fold 1\n",
      "\tTest IID -\t5, 10, 15, 20\n",
      "\tActual -\tNo, Yes, No, Yes\n",
      "\tPredict -\tNo, Yes, No, No\n",
      "Fold 2\n",
      "\tTest IID -\t1, 6, 11, 16, 21\n",
      "\tActual -\tNo, Yes, No, No, No\n",
      "\tPredict -\tNo, Yes, No, Yes, No\n",
      "Fold 3\n",
      "\tTest IID -\t2, 7, 12, 17, 22\n",
      "\tActual -\tYes, No, Yes, No, Yes\n",
      "\tPredict -\tYes, No, No, No, No\n",
      "Fold 4\n",
      "\tTest IID -\t3, 8, 13, 18, 23\n",
      "\tActual -\tNo, Yes, No, No, No\n",
      "\tPredict -\tNo, No, No, Yes, No\n",
      "Fold 5\n",
      "\tTest IID -\t4, 9, 14, 19, 24\n",
      "\tActual -\tYes, No, Yes, No, No\n",
      "\tPredict -\tYes, No, No, No, Yes\n",
      "\n",
      "Decision Tree 5-fold CV accuracy - 66.66666666666667%\n"
     ]
    },
    {
     "name": "stderr",
     "output_type": "stream",
     "text": [
      "/Users/achauhan/anaconda3/lib/python3.6/site-packages/sklearn/utils/validation.py:578: DataConversionWarning: A column-vector y was passed when a 1d array was expected. Please change the shape of y to (n_samples, ), for example using ravel().\n",
      "  y = column_or_1d(y, warn=True)\n",
      "/Users/achauhan/anaconda3/lib/python3.6/site-packages/sklearn/preprocessing/label.py:151: DeprecationWarning: The truth value of an empty array is ambiguous. Returning False, but in future this will result in an error. Use `array.size > 0` to check that an array is not empty.\n",
      "  if diff:\n",
      "/Users/achauhan/anaconda3/lib/python3.6/site-packages/sklearn/preprocessing/label.py:151: DeprecationWarning: The truth value of an empty array is ambiguous. Returning False, but in future this will result in an error. Use `array.size > 0` to check that an array is not empty.\n",
      "  if diff:\n",
      "/Users/achauhan/anaconda3/lib/python3.6/site-packages/sklearn/preprocessing/label.py:151: DeprecationWarning: The truth value of an empty array is ambiguous. Returning False, but in future this will result in an error. Use `array.size > 0` to check that an array is not empty.\n",
      "  if diff:\n",
      "/Users/achauhan/anaconda3/lib/python3.6/site-packages/sklearn/preprocessing/label.py:151: DeprecationWarning: The truth value of an empty array is ambiguous. Returning False, but in future this will result in an error. Use `array.size > 0` to check that an array is not empty.\n",
      "  if diff:\n",
      "/Users/achauhan/anaconda3/lib/python3.6/site-packages/sklearn/preprocessing/label.py:151: DeprecationWarning: The truth value of an empty array is ambiguous. Returning False, but in future this will result in an error. Use `array.size > 0` to check that an array is not empty.\n",
      "  if diff:\n"
     ]
    }
   ],
   "source": [
    "cnt = 0\n",
    "subheaders = headers[1:-1]\n",
    "for i in sorted(folds.keys()):\n",
    "    print('Fold '+str(i))\n",
    "    #dt = tree.DecisionTreeClassifier(criterion='entropy', splitter='best')\n",
    "    dt = Id3Estimator(gain_ratio=True)\n",
    "    dt = dt.fit(X[folds[i]['train'],:],Y[folds[i]['train']])\n",
    "    ypred=dt.predict(X[folds[i]['test'],:])\n",
    "    print('\\tTest IID -\\t' + ', '.join([str(x) for x in np.asarray(indexes)[folds[i]['test']]]))\n",
    "    print('\\tActual -\\t'+', '.join(np.ravel(Y[folds[i]['test']])))\n",
    "    print('\\tPredict -\\t' + ', '.join(ypred))\n",
    "#     print('\\tActual -\\t'+', '.join(['Yes' if x==1 else 'No' for x in Y[folds[i]['test']]]))\n",
    "#     print('\\tPredict -\\t' + ', '.join(['Yes' if x==1 else 'No' for x in ypred]))\n",
    "    for j in range(len(ypred)):\n",
    "        if ypred[j]!=Y[folds[i]['test']][j]:\n",
    "            cnt+=1\n",
    "    dot_data = export_graphviz(dt.tree_, 'fold'+str(i)+'.dot',feature_names = subheaders)\n",
    "print('\\nDecision Tree 5-fold CV accuracy - '+ str((24-cnt)*100/24) + '%')"
   ]
  },
  {
   "cell_type": "markdown",
   "metadata": {},
   "source": [
    "## Naive Bayes for Full Data"
   ]
  },
  {
   "cell_type": "code",
   "execution_count": 26,
   "metadata": {},
   "outputs": [],
   "source": [
    "X = X.tolist()\n",
    "Y = np.ravel(Y).tolist()\n",
    "d1={'presbyopic':2, 'pre-presbyopic':1, 'young':0, 'myope':0, 'hypermetrope':1, 'no':0, 'yes':1, 'normal':1, 'reduced':0}\n",
    "d2={'Yes':1, 'No':0}\n",
    "X = [[d1[X[i][j]] for j in range(len(X[0]))] for i in range(len(X))]\n",
    "X = np.asarray(X)\n",
    "Y = [d2[Y[i]] for i in range(len(Y))]\n",
    "Y = np.asarray(Y)"
   ]
  },
  {
   "cell_type": "code",
   "execution_count": 27,
   "metadata": {},
   "outputs": [
    {
     "name": "stdout",
     "output_type": "stream",
     "text": [
      "Final Model for Naive Bayes\n",
      "Probabilities - \n",
      "\tP(patient age|Class=Yes) = 0.450\n",
      "\tP(spectacle prescription|Class=Yes) = 0.225\n",
      "\tP(astigmatic|Class=Yes) = 0.225\n",
      "\tP(tear production rate|Class=Yes) = 0.100\n",
      "\tP(patient age|Class=No) = 0.286\n",
      "\tP(spectacle prescription|Class=No) = 0.179\n",
      "\tP(astigmatic|Class=No) = 0.179\n",
      "\tP(tear production rate|Class=No) = 0.357\n"
     ]
    }
   ],
   "source": [
    "nb = MultinomialNB(alpha=1)\n",
    "nb=nb.fit(X,Y)\n",
    "print('Final Model for Naive Bayes')\n",
    "print('Probabilities - ')\n",
    "dt={0:'Yes', 1:'No'}\n",
    "for i in range(len(nb.feature_log_prob_)):\n",
    "    for j in range(len(subheaders)):\n",
    "        print('\\tP({}|Class={}) = {:.3f}'.format(subheaders[j], dt[i], np.exp(nb.feature_log_prob_)[i][j]))"
   ]
  }
 ],
 "metadata": {
  "kernelspec": {
   "display_name": "Python 3",
   "language": "python",
   "name": "python3"
  },
  "language_info": {
   "codemirror_mode": {
    "name": "ipython",
    "version": 3
   },
   "file_extension": ".py",
   "mimetype": "text/x-python",
   "name": "python",
   "nbconvert_exporter": "python",
   "pygments_lexer": "ipython3",
   "version": "3.6.5"
  }
 },
 "nbformat": 4,
 "nbformat_minor": 2
}
