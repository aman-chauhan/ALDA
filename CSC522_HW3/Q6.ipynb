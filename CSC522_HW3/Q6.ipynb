{
 "cells": [
  {
   "cell_type": "markdown",
   "metadata": {},
   "source": [
    "# Q6 - SVM Programming\n",
    "\n",
    "***In this question, you will employ SVM to solve a classification problem for the provided data file \"hw3q6.csv\". Each row in the data file indicates a sample. The first 12 columns are features and the last column \"Class\" indicates the label, with 1 and 0 indicating the positive and negative samples, respectively.***"
   ]
  },
  {
   "cell_type": "markdown",
   "metadata": {},
   "source": [
    "## Import Libraries"
   ]
  },
  {
   "cell_type": "code",
   "execution_count": null,
   "metadata": {},
   "outputs": [],
   "source": [
    "from sklearn.model_selection import train_test_split\n",
    "from sklearn.svm import SVC\n",
    "\n",
    "import matplotlib.pyplot as plt\n",
    "import numpy as np\n",
    "import sys\n",
    "import os\n",
    "\n",
    "%matplotlib inline"
   ]
  },
  {
   "cell_type": "markdown",
   "metadata": {},
   "source": [
    "## (a) Load data. Report the size of positive and negative samples in dataset"
   ]
  },
  {
   "cell_type": "code",
   "execution_count": null,
   "metadata": {},
   "outputs": [],
   "source": [
    "def data_and_headers(filename):\n",
    "    data = None\n",
    "    with open(filename) as fp:\n",
    "        data = [x.strip().split(',') for x in fp.readlines()]\n",
    "    headers = data[0]\n",
    "    headers = np.asarray(headers)\n",
    "    class_field = len(headers) - 1\n",
    "    data_x = [[float(x[i]) for i in range(class_field)] for x in data[1:]]\n",
    "    data_x = np.asarray(data_x)\n",
    "    data_y = [[int(x[i]) for i in range(class_field, class_field + 1)] for x in data[1:]]\n",
    "    data_y = np.asarray(data_y)\n",
    "    return headers, data_x, data_y"
   ]
  },
  {
   "cell_type": "code",
   "execution_count": null,
   "metadata": {},
   "outputs": [],
   "source": [
    "headers, features_x, labels_y = data_and_headers('Data' + os.sep + 'hw3q6.csv')"
   ]
  },
  {
   "cell_type": "code",
   "execution_count": null,
   "metadata": {},
   "outputs": [],
   "source": [
    "print('Data')\n",
    "print('Number of features - ' + str(features_x.shape[1]))\n",
    "print('Total Number of observations - ' + str(features_x.shape[0]))\n",
    "print('Number of Positive Samples - ' + str(labels_y[labels_y==1].shape[0]))\n",
    "print('Number of Negative Samples - ' + str(labels_y[labels_y==0].shape[0]))\n",
    "print()"
   ]
  },
  {
   "cell_type": "markdown",
   "metadata": {},
   "source": [
    "## (b) Use stratified random sampling to divide the dataset into training data (75%) and testing data (25%). Report the number of positive and negative samples in both training and testing data."
   ]
  },
  {
   "cell_type": "code",
   "execution_count": null,
   "metadata": {},
   "outputs": [],
   "source": [
    "train_x, test_x, train_y, test_y = train_test_split(features_x,\n",
    "                                                    labels_y,\n",
    "                                                    test_size=0.25,\n",
    "                                                    random_state=10,\n",
    "                                                    shuffle=True,\n",
    "                                                    stratify=labels_y)"
   ]
  },
  {
   "cell_type": "code",
   "execution_count": null,
   "metadata": {},
   "outputs": [],
   "source": [
    "print('Training Data')\n",
    "print('Number of features - ' + str(train_x.shape[1]))\n",
    "print('Total Number of observations - ' + str(train_x.shape[0]))\n",
    "print('Number of Positive Samples - ' + str(train_y[train_y==1].shape[0]))\n",
    "print('Number of Negative Samples - ' + str(train_y[train_y==0].shape[0]))\n",
    "print()\n",
    "print('Testing Data')\n",
    "print('Number of features - ' + str(test_x.shape[1]))\n",
    "print('Total Number of observations - ' + str(test_x.shape[0]))\n",
    "print('Number of Positive Samples - ' + str(test_y[test_y==1].shape[0]))\n",
    "print('Number of Negative Samples - ' + str(test_y[test_y==0].shape[0]))\n",
    "print()"
   ]
  },
  {
   "cell_type": "markdown",
   "metadata": {},
   "source": [
    "## (c) Take SVM with linear kernel as classifier (third-party packages are allowed to use) and set the regularization parameter C as: [0.1, 0.5, 1, 5, 10, 50, 100], respectively. For each value of C, train a SVM classifier with the training data and get the number of support vectors (SVs). Generate a plot with C as the horizontal axis and number of SVs as the vertical axis. Give a brief analysis for the plot."
   ]
  },
  {
   "cell_type": "code",
   "execution_count": null,
   "metadata": {},
   "outputs": [],
   "source": [
    "C = [0.1, 0.5, 1, 5, 10, 50, 100]\n",
    "models = [SVC(C[i],'linear',random_state=10).fit(train_x,train_y.flatten()) for i in range(len(C))]"
   ]
  },
  {
   "cell_type": "code",
   "execution_count": null,
   "metadata": {},
   "outputs": [],
   "source": [
    "fig, ax = plt.subplots(figsize=(16,9))\n",
    "ax.set_title('Regularization vs Support Vectors')\n",
    "ax.set_ylabel('Number of Support Vectors')\n",
    "ax.set_xlabel('Regularization Parameter')\n",
    "plty = [x.support_.shape[0] for x in models]\n",
    "ax.bar(C, plty, color='orange')\n",
    "ax.plot(C, plty)\n",
    "for i, txt in enumerate(C):\n",
    "    ax.annotate(plty[i], (C[i], plty[i]))\n",
    "plt.show()"
   ]
  },
  {
   "cell_type": "markdown",
   "metadata": {},
   "source": [
    "## (d) Compare 4 different kernel functions, including linear, polynomial, radial basic function (Gaussian kernel), and sigmoid kernel. Make a table to record the accuracy, precision, recall and f-measure of the classification results for the 4 kernel functions. Try to tune the parameters via grid search and report your best results with the optimal parameters. Based on the results, which kernel function will you choose?"
   ]
  },
  {
   "cell_type": "code",
   "execution_count": null,
   "metadata": {},
   "outputs": [],
   "source": []
  }
 ],
 "metadata": {
  "kernelspec": {
   "display_name": "Python 3",
   "language": "python",
   "name": "python3"
  },
  "language_info": {
   "codemirror_mode": {
    "name": "ipython",
    "version": 3
   },
   "file_extension": ".py",
   "mimetype": "text/x-python",
   "name": "python",
   "nbconvert_exporter": "python",
   "pygments_lexer": "ipython3",
   "version": "3.6.6"
  }
 },
 "nbformat": 4,
 "nbformat_minor": 2
}
