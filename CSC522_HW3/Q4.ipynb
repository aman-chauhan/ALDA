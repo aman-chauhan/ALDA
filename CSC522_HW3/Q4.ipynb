{
 "cells": [
  {
   "cell_type": "markdown",
   "metadata": {},
   "source": [
    "# Q4 - Aritificial Neural Networks\n",
    "\n",
    "***Train, validate, and test a neural network model using the dataset in hw3q4.zip, which contains training data (75%), validation data (12.5%), and test data (12.5%). There are two output classes in this data set. You can either choose matlab or a python neural networks package, Keras for this problem.***"
   ]
  },
  {
   "cell_type": "markdown",
   "metadata": {},
   "source": [
    "## Import Libraries"
   ]
  },
  {
   "cell_type": "code",
   "execution_count": 1,
   "metadata": {},
   "outputs": [],
   "source": [
    "import matplotlib.pyplot as plt\n",
    "import numpy as np\n",
    "import zipfile\n",
    "import math\n",
    "import sys\n",
    "import os\n",
    "np.random.seed(7)\n",
    "from tensorflow.keras.layers import Activation\n",
    "from tensorflow.keras.layers import Input\n",
    "from tensorflow.keras.layers import Dense\n",
    "from tensorflow.keras import Model\n",
    "import tensorflow as tf\n",
    "tf.set_random_seed(7)\n",
    "%matplotlib inline"
   ]
  },
  {
   "cell_type": "markdown",
   "metadata": {},
   "source": [
    "## (a) Please briefly describe how to construct your working environments (e.g. language, package version, backend for neural networks, installation, etc.) in your report, and write how to execute your codes on 'readme' file."
   ]
  },
  {
   "cell_type": "markdown",
   "metadata": {},
   "source": [
    "***TODO:***"
   ]
  },
  {
   "cell_type": "markdown",
   "metadata": {},
   "source": [
    "## (b) Keras Model"
   ]
  },
  {
   "cell_type": "markdown",
   "metadata": {},
   "source": [
    "#### Helper Functions"
   ]
  },
  {
   "cell_type": "code",
   "execution_count": 2,
   "metadata": {},
   "outputs": [],
   "source": [
    "def get_data(zipname,filename):\n",
    "    zf = zipfile.ZipFile(zipname)\n",
    "    data = None\n",
    "    with zf.open(filename, 'r') as fp:\n",
    "        data = np.asarray([[float(v.strip()) for v in x.decode().strip().split(',')] for x in fp.readlines()])\n",
    "    return data"
   ]
  },
  {
   "cell_type": "code",
   "execution_count": 3,
   "metadata": {},
   "outputs": [],
   "source": [
    "def ANN(n_neurons, output_dims):\n",
    "    input_layer = Input(batch_shape = (None, 61), name='input_layer')\n",
    "    layer = Dense(n_neurons, name='hidden_layer')(input_layer)\n",
    "    layer = Activation(activation='relu', name='relu')(layer)\n",
    "    layer = Dense(output_dims, name='output_layer')(layer)\n",
    "    output_layer = Activation(activation='sigmoid', name='sigmoid')(layer)\n",
    "    model = Model(inputs=input_layer, outputs=output_layer, name='ann')\n",
    "    model.compile('adam', 'mse', ['accuracy'])\n",
    "    return model"
   ]
  },
  {
   "cell_type": "markdown",
   "metadata": {},
   "source": [
    "#### Read Data"
   ]
  },
  {
   "cell_type": "code",
   "execution_count": 4,
   "metadata": {},
   "outputs": [],
   "source": [
    "train_x = get_data('Data' + os.sep + 'hw3q4.zip','hw3q4' + os.sep + 'X_train.csv')\n",
    "train_y = get_data('Data' + os.sep + 'hw3q4.zip','hw3q4' + os.sep + 'Y_train.csv')\n",
    "val_x = get_data('Data' + os.sep + 'hw3q4.zip', 'hw3q4' + os.sep + 'X_val.csv')\n",
    "val_y = get_data('Data' + os.sep + 'hw3q4.zip', 'hw3q4' + os.sep + 'Y_val.csv')\n",
    "test_x = get_data('Data' + os.sep + 'hw3q4.zip', 'hw3q4' + os.sep + 'X_test.csv')\n",
    "test_y = get_data('Data' + os.sep + 'hw3q4.zip', 'hw3q4' + os.sep + 'Y_test.csv')"
   ]
  },
  {
   "cell_type": "markdown",
   "metadata": {},
   "source": [
    "### (1) Construct neural networks using the given training dataset (X train, Y train) using different number of hidden neurons. Set the parameters as follows: activation function for hidden layer='relu', activation for output layer ='sigmoid', loss function ='mse', metrics= 'accuracy', epochs=10, batch size=50. For each model, change the number of hidden neurons in the order of 2, 4, 6, 8, 10."
   ]
  },
  {
   "cell_type": "code",
   "execution_count": 5,
   "metadata": {
    "scrolled": false
   },
   "outputs": [
    {
     "name": "stdout",
     "output_type": "stream",
     "text": [
      "Training Model with 2 neurons in hidden layer\n",
      "Epoch 1/10\n",
      "1500/1500 [==============================] - 0s 277us/step - loss: 0.2538 - acc: 0.5333\n",
      "Epoch 2/10\n",
      "1500/1500 [==============================] - 0s 26us/step - loss: 0.2481 - acc: 0.5533\n",
      "Epoch 3/10\n",
      "1500/1500 [==============================] - 0s 25us/step - loss: 0.2432 - acc: 0.5727\n",
      "Epoch 4/10\n",
      "1500/1500 [==============================] - 0s 26us/step - loss: 0.2387 - acc: 0.5907\n",
      "Epoch 5/10\n",
      "1500/1500 [==============================] - 0s 24us/step - loss: 0.2338 - acc: 0.6087\n",
      "Epoch 6/10\n",
      "1500/1500 [==============================] - 0s 25us/step - loss: 0.2285 - acc: 0.6193\n",
      "Epoch 7/10\n",
      "1500/1500 [==============================] - 0s 27us/step - loss: 0.2229 - acc: 0.6307\n",
      "Epoch 8/10\n",
      "1500/1500 [==============================] - 0s 25us/step - loss: 0.2164 - acc: 0.6347\n",
      "Epoch 9/10\n",
      "1500/1500 [==============================] - 0s 26us/step - loss: 0.2095 - acc: 0.6480\n",
      "Epoch 10/10\n",
      "1500/1500 [==============================] - 0s 26us/step - loss: 0.2022 - acc: 0.6733\n",
      "\n",
      "Training Model with 4 neurons in hidden layer\n",
      "Epoch 1/10\n",
      "1500/1500 [==============================] - 0s 198us/step - loss: 0.3337 - acc: 0.4927\n",
      "Epoch 2/10\n",
      "1500/1500 [==============================] - 0s 23us/step - loss: 0.3077 - acc: 0.5280\n",
      "Epoch 3/10\n",
      "1500/1500 [==============================] - 0s 28us/step - loss: 0.2827 - acc: 0.5687\n",
      "Epoch 4/10\n",
      "1500/1500 [==============================] - 0s 23us/step - loss: 0.2595 - acc: 0.5967\n",
      "Epoch 5/10\n",
      "1500/1500 [==============================] - 0s 24us/step - loss: 0.2386 - acc: 0.6313\n",
      "Epoch 6/10\n",
      "1500/1500 [==============================] - 0s 23us/step - loss: 0.2212 - acc: 0.6553\n",
      "Epoch 7/10\n",
      "1500/1500 [==============================] - 0s 23us/step - loss: 0.2066 - acc: 0.6827\n",
      "Epoch 8/10\n",
      "1500/1500 [==============================] - 0s 25us/step - loss: 0.1944 - acc: 0.7140\n",
      "Epoch 9/10\n",
      "1500/1500 [==============================] - 0s 23us/step - loss: 0.1840 - acc: 0.7367\n",
      "Epoch 10/10\n",
      "1500/1500 [==============================] - 0s 23us/step - loss: 0.1753 - acc: 0.7580\n",
      "\n",
      "Training Model with 6 neurons in hidden layer\n",
      "Epoch 1/10\n",
      "1500/1500 [==============================] - 0s 201us/step - loss: 0.2943 - acc: 0.4933\n",
      "Epoch 2/10\n",
      "1500/1500 [==============================] - 0s 26us/step - loss: 0.2667 - acc: 0.5333\n",
      "Epoch 3/10\n",
      "1500/1500 [==============================] - 0s 28us/step - loss: 0.2441 - acc: 0.5673\n",
      "Epoch 4/10\n",
      "1500/1500 [==============================] - 0s 25us/step - loss: 0.2260 - acc: 0.6000\n",
      "Epoch 5/10\n",
      "1500/1500 [==============================] - 0s 25us/step - loss: 0.2110 - acc: 0.6453\n",
      "Epoch 6/10\n",
      "1500/1500 [==============================] - 0s 27us/step - loss: 0.1988 - acc: 0.6727\n",
      "Epoch 7/10\n",
      "1500/1500 [==============================] - 0s 24us/step - loss: 0.1883 - acc: 0.7087\n",
      "Epoch 8/10\n",
      "1500/1500 [==============================] - 0s 25us/step - loss: 0.1791 - acc: 0.7387\n",
      "Epoch 9/10\n",
      "1500/1500 [==============================] - 0s 27us/step - loss: 0.1711 - acc: 0.7573\n",
      "Epoch 10/10\n",
      "1500/1500 [==============================] - 0s 24us/step - loss: 0.1643 - acc: 0.7760\n",
      "\n",
      "Training Model with 8 neurons in hidden layer\n",
      "Epoch 1/10\n",
      "1500/1500 [==============================] - 0s 214us/step - loss: 0.2895 - acc: 0.5273\n",
      "Epoch 2/10\n",
      "1500/1500 [==============================] - 0s 26us/step - loss: 0.2614 - acc: 0.5653\n",
      "Epoch 3/10\n",
      "1500/1500 [==============================] - 0s 26us/step - loss: 0.2389 - acc: 0.6087\n",
      "Epoch 4/10\n",
      "1500/1500 [==============================] - 0s 27us/step - loss: 0.2202 - acc: 0.6460\n",
      "Epoch 5/10\n",
      "1500/1500 [==============================] - 0s 23us/step - loss: 0.2051 - acc: 0.6740\n",
      "Epoch 6/10\n",
      "1500/1500 [==============================] - 0s 25us/step - loss: 0.1924 - acc: 0.7073\n",
      "Epoch 7/10\n",
      "1500/1500 [==============================] - 0s 27us/step - loss: 0.1815 - acc: 0.7347\n",
      "Epoch 8/10\n",
      "1500/1500 [==============================] - 0s 24us/step - loss: 0.1725 - acc: 0.7533\n",
      "Epoch 9/10\n",
      "1500/1500 [==============================] - 0s 27us/step - loss: 0.1647 - acc: 0.7680\n",
      "Epoch 10/10\n",
      "1500/1500 [==============================] - 0s 25us/step - loss: 0.1580 - acc: 0.7747\n",
      "\n",
      "Training Model with 10 neurons in hidden layer\n",
      "Epoch 1/10\n",
      "1500/1500 [==============================] - 0s 264us/step - loss: 0.2728 - acc: 0.5547\n",
      "Epoch 2/10\n",
      "1500/1500 [==============================] - 0s 29us/step - loss: 0.2387 - acc: 0.6080\n",
      "Epoch 3/10\n",
      "1500/1500 [==============================] - 0s 26us/step - loss: 0.2110 - acc: 0.6700\n",
      "Epoch 4/10\n",
      "1500/1500 [==============================] - 0s 27us/step - loss: 0.1890 - acc: 0.7140\n",
      "Epoch 5/10\n",
      "1500/1500 [==============================] - 0s 25us/step - loss: 0.1722 - acc: 0.7473\n",
      "Epoch 6/10\n",
      "1500/1500 [==============================] - 0s 29us/step - loss: 0.1596 - acc: 0.7687\n",
      "Epoch 7/10\n",
      "1500/1500 [==============================] - 0s 26us/step - loss: 0.1499 - acc: 0.7880\n",
      "Epoch 8/10\n",
      "1500/1500 [==============================] - 0s 25us/step - loss: 0.1425 - acc: 0.8053\n",
      "Epoch 9/10\n",
      "1500/1500 [==============================] - 0s 25us/step - loss: 0.1364 - acc: 0.8220\n",
      "Epoch 10/10\n",
      "1500/1500 [==============================] - 0s 24us/step - loss: 0.1315 - acc: 0.8240\n",
      "\n"
     ]
    }
   ],
   "source": [
    "hidden_neurons = [2,4,6,8,10]\n",
    "models = [ANN(hidden_neurons[i], train_y.shape[1]) for i in range(len(hidden_neurons))]\n",
    "histories = []\n",
    "for i in range(len(models)):\n",
    "    print('Training Model with {} neurons in hidden layer'.format(hidden_neurons[i]))\n",
    "    history = models[i].fit(x=train_x,\n",
    "                  y=train_y,\n",
    "                  batch_size=50,\n",
    "                  epochs=10,\n",
    "                  shuffle=True)\n",
    "    histories.append(history)\n",
    "    print()"
   ]
  },
  {
   "cell_type": "markdown",
   "metadata": {},
   "source": [
    "### (2) Validate each neural network using the given validation dataset (X val, Y val). The validation accuracy is used to determine how many number of hidden neurons are optimal for this problem."
   ]
  },
  {
   "cell_type": "code",
   "execution_count": 6,
   "metadata": {},
   "outputs": [
    {
     "name": "stdout",
     "output_type": "stream",
     "text": [
      "Evaluating Model with 2 neurons in hidden layer\n",
      "250/250 [==============================] - 0s 368us/step\n",
      "Mean Squared Error - 0.1976\n",
      "Accuracy - 0.7400\n",
      "\n",
      "Evaluating Model with 4 neurons in hidden layer\n",
      "250/250 [==============================] - 0s 331us/step\n",
      "Mean Squared Error - 0.1650\n",
      "Accuracy - 0.7600\n",
      "\n",
      "Evaluating Model with 6 neurons in hidden layer\n",
      "250/250 [==============================] - 0s 346us/step\n",
      "Mean Squared Error - 0.1585\n",
      "Accuracy - 0.7920\n",
      "\n",
      "Evaluating Model with 8 neurons in hidden layer\n",
      "250/250 [==============================] - 0s 344us/step\n",
      "Mean Squared Error - 0.1595\n",
      "Accuracy - 0.7440\n",
      "\n",
      "Evaluating Model with 10 neurons in hidden layer\n",
      "250/250 [==============================] - 0s 318us/step\n",
      "Mean Squared Error - 0.1238\n",
      "Accuracy - 0.8280\n",
      "\n"
     ]
    }
   ],
   "source": [
    "eval_results = []\n",
    "for i in range(len(models)):\n",
    "    print('Evaluating Model with {} neurons in hidden layer'.format(hidden_neurons[i]))\n",
    "    eval_result = models[i].evaluate(x=val_x, y=val_y, batch_size=50)\n",
    "    print('Mean Squared Error - {:.4f}'.format(eval_result[0]))\n",
    "    print('Accuracy - {:.4f}'.format(eval_result[1]))\n",
    "    eval_results.append(eval_result)\n",
    "    print()"
   ]
  },
  {
   "cell_type": "markdown",
   "metadata": {},
   "source": [
    "## (c) Plot a figure, where the horizontal x-axis is the number of hidden neurons, and the vertical y-axis is the accuracy. Please plot both training and validation accuracy in your figure. (Note that the exact accuracy could be slightly different according to your working environments, however you can analyze the trend."
   ]
  },
  {
   "cell_type": "code",
   "execution_count": 7,
   "metadata": {},
   "outputs": [
    {
     "data": {
      "image/png": "[encoded data removed]",
      "text/plain": [
       "<Figure size 1152x360 with 2 Axes>"
      ]
     },
     "metadata": {
      "needs_background": "light"
     },
     "output_type": "display_data"
    }
   ],
   "source": [
    "fig, ax = plt.subplots(nrows=1, ncols=2, figsize=(16,5))\n",
    "ax[0].set_title('Hidden Number of Neurons vs Training Accuracy')\n",
    "ax[0].set_ylabel('Training Accuracy')\n",
    "ax[0].set_xlabel('Hidden Number of Neurons')\n",
    "ax[0].bar(hidden_neurons,\n",
    "          [histories[i].history['acc'][-1] for i in range(len(hidden_neurons))],\n",
    "          width=1,\n",
    "          color='orange')\n",
    "for i in range(len(hidden_neurons)):\n",
    "    ax[0].annotate('{:.4f}'.format(histories[i].history['acc'][-1]),\n",
    "                   (hidden_neurons[i]-0.4, histories[i].history['acc'][-1]-0.05))\n",
    "\n",
    "ax[1].set_title('Hidden Number of Neurons vs Validation Accuracy')\n",
    "ax[1].set_ylabel('Validation Accuracy')\n",
    "ax[1].set_xlabel('Hidden Number of Neurons')\n",
    "ax[1].bar(hidden_neurons,\n",
    "          [eval_results[i][1] for i in range(len(hidden_neurons))],\n",
    "          width=1,\n",
    "          color='gray')\n",
    "for i in range(len(hidden_neurons)):\n",
    "    ax[1].annotate('{:.4f}'.format(eval_results[i][1]),\n",
    "                   (hidden_neurons[i]-0.4, eval_results[i][1]-0.05))"
   ]
  },
  {
   "cell_type": "markdown",
   "metadata": {},
   "source": [
    "## (d) Provide a simple analysis about your results and choose the optimal number of hidden neuron from the analysis."
   ]
  },
  {
   "cell_type": "code",
   "execution_count": 8,
   "metadata": {},
   "outputs": [],
   "source": [
    "model = models[4]"
   ]
  },
  {
   "cell_type": "markdown",
   "metadata": {},
   "source": [
    "## (e) Report the test accuracy using the given test dataset (X test, Y test) on the neural network with the optimal number of hidden neurons."
   ]
  },
  {
   "cell_type": "code",
   "execution_count": 9,
   "metadata": {},
   "outputs": [
    {
     "name": "stdout",
     "output_type": "stream",
     "text": [
      "Testing Model with 10 neurons in hidden layer\n",
      "250/250 [==============================] - 0s 18us/step\n",
      "Mean Squared Error - 0.1594\n",
      "Accuracy - 0.7880\n",
      "\n"
     ]
    }
   ],
   "source": [
    "print('Testing Model with 10 neurons in hidden layer')\n",
    "eval_result = model.evaluate(x=test_x, y=test_y, batch_size=50)\n",
    "print('Mean Squared Error - {:.4f}'.format(eval_result[0]))\n",
    "print('Accuracy - {:.4f}'.format(eval_result[1]))\n",
    "print()"
   ]
  }
 ],
 "metadata": {
  "kernelspec": {
   "display_name": "Python 3",
   "language": "python",
   "name": "python3"
  },
  "language_info": {
   "codemirror_mode": {
    "name": "ipython",
    "version": 3
   },
   "file_extension": ".py",
   "mimetype": "text/x-python",
   "name": "python",
   "nbconvert_exporter": "python",
   "pygments_lexer": "ipython3",
   "version": "3.6.6"
  }
 },
 "nbformat": 4,
 "nbformat_minor": 2
}
