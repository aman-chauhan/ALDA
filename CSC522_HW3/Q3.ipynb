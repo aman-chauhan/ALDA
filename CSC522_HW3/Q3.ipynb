{
 "cells": [
  {
   "cell_type": "markdown",
   "metadata": {},
   "source": [
    "# Q3 - Linear Regression"
   ]
  },
  {
   "cell_type": "markdown",
   "metadata": {},
   "source": [
    "## Import Libraries"
   ]
  },
  {
   "cell_type": "code",
   "execution_count": null,
   "metadata": {},
   "outputs": [],
   "source": [
    "from sklearn.model_selection import LeaveOneOut, cross_val_predict\n",
    "from sklearn.linear_model import LinearRegression\n",
    "from sklearn.metrics import mean_squared_error\n",
    "import numpy as np\n",
    "import math\n",
    "import sys\n",
    "import os"
   ]
  },
  {
   "cell_type": "markdown",
   "metadata": {},
   "source": [
    "## (a) Given the following three data points of (x, y): (1; 2), (2; 1), (0;-1), try to use a linear regression y = b1.x+b0 to predict y. Determine the values of b1 and b0 and show each step of your work."
   ]
  },
  {
   "cell_type": "markdown",
   "metadata": {},
   "source": [
    "## (b) Linear Regression Programming Assignment\n",
    "\n",
    "***Apply the following three linear regressions:\n",
    "(1) \n",
    "(2) \n",
    "(3)\n",
    "to the provided data file \"hw3q3(b).csv\", which is from a combined cycle power plant dataset (https://archive.ics.uci.edu/ml/datasets/Combined+Cycle+Power+Plant). In the given data file, xi are features and y is the prediction target which indicates hourly electrical energy output.***"
   ]
  },
  {
   "cell_type": "markdown",
   "metadata": {},
   "source": [
    "### (i) Load the data. Fit the whole dataset to the three linear regression models, respectively. Report the coefficients (alphas, betas, gammas) of the three models."
   ]
  },
  {
   "cell_type": "code",
   "execution_count": null,
   "metadata": {},
   "outputs": [],
   "source": [
    "def data_and_headers(filename):\n",
    "    data = None\n",
    "    with open(filename) as fp:\n",
    "        data = [x.strip().split(',') for x in fp.readlines()]\n",
    "    headers = data[0]\n",
    "    headers = np.asarray(headers)\n",
    "    class_field = len(headers) - 1\n",
    "    data_x = [[float(x[i]) for i in range(class_field)] for x in data[1:]]\n",
    "    data_x = np.asarray(data_x)\n",
    "    data_y = [[float(x[i]) for i in range(class_field, class_field + 1)] for x in data[1:]]\n",
    "    data_y = np.asarray(data_y)\n",
    "    return headers, data_x, data_y"
   ]
  },
  {
   "cell_type": "code",
   "execution_count": null,
   "metadata": {},
   "outputs": [],
   "source": [
    "headers, features_x, labels_y = data_and_headers('Data' + os.sep + 'hw3q3(b).csv')"
   ]
  },
  {
   "cell_type": "code",
   "execution_count": null,
   "metadata": {},
   "outputs": [],
   "source": [
    "modela = LinearRegression().fit(features_x, labels_y.flatten())\n",
    "modelb = LinearRegression().fit(features_x**2, labels_y.flatten())\n",
    "modelc = LinearRegression().fit(features_x**3, labels_y.flatten())\n",
    "print('Coefficients of Simple LR - \\t{}, Intercept - {:.4f}'.format(modela.coef_,modela.intercept_))\n",
    "print('Coefficients of Quadratic LR - \\t{}, Intercept - {:.4f}'.format(modelb.coef_,modelb.intercept_))\n",
    "print('Coefficients of Cubic LR - \\t{}, Intercept - {:.4f}'.format(modelc.coef_,modelc.intercept_))"
   ]
  },
  {
   "cell_type": "markdown",
   "metadata": {},
   "source": [
    "### Use leave-one-out cross validation to determine the RMSE (root mean square error) for the three models. Specifically, in each fold, fit the training data to the model to determine the coefficients, then apply the coefficients to get predicted label for testing data (You don't need to report the coefficients in each fold). Report RMSE for the three models. Based on the RMSE, which model is the best for fitting the given data?"
   ]
  },
  {
   "cell_type": "code",
   "execution_count": null,
   "metadata": {},
   "outputs": [],
   "source": [
    "model1 = LinearRegression()\n",
    "model2 = LinearRegression()\n",
    "model3 = LinearRegression()\n",
    "loocv = LeaveOneOut()\n",
    "ypred1 = cross_val_predict(model1, features_x, labels_y.flatten(), cv=loocv)\n",
    "ypred2 = cross_val_predict(model2, features_x**2, labels_y.flatten(), cv=loocv)\n",
    "ypred3 = cross_val_predict(model3, features_x**3, labels_y.flatten(), cv=loocv)\n",
    "print('Normal LR RMSE - {:.4f}'.format(math.sqrt(mean_squared_error(labels_y.flatten(), ypred1))))\n",
    "print('Quadartic LR RMSE - {:.4f}'.format(math.sqrt(mean_squared_error(labels_y.flatten(), ypred2))))\n",
    "print('Cubic LR RMSE - {:.4f}'.format(math.sqrt(mean_squared_error(labels_y.flatten(), ypred3))))"
   ]
  }
 ],
 "metadata": {
  "kernelspec": {
   "display_name": "Python 3",
   "language": "python",
   "name": "python3"
  },
  "language_info": {
   "codemirror_mode": {
    "name": "ipython",
    "version": 3
   },
   "file_extension": ".py",
   "mimetype": "text/x-python",
   "name": "python",
   "nbconvert_exporter": "python",
   "pygments_lexer": "ipython3",
   "version": "3.6.6"
  }
 },
 "nbformat": 4,
 "nbformat_minor": 2
}
