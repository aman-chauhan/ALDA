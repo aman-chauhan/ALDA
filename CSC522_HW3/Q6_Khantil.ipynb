{
 "cells": [
  {
   "cell_type": "markdown",
   "metadata": {},
   "source": [
    "# (A) Load data."
   ]
  },
  {
   "cell_type": "markdown",
   "metadata": {},
   "source": [
    "## Report the size of positive and negative samples in dataset."
   ]
  },
  {
   "cell_type": "code",
   "execution_count": 5,
   "metadata": {},
   "outputs": [],
   "source": [
    "import numpy as np\n",
    "import os"
   ]
  },
  {
   "cell_type": "code",
   "execution_count": 6,
   "metadata": {},
   "outputs": [],
   "source": [
    "def data_and_headers(filename):\n",
    "    data = None\n",
    "    with open(filename) as fp:\n",
    "        data = [x.strip().split(',') for x in fp.readlines()]\n",
    "    headers = data[0]\n",
    "    headers = np.asarray(headers)\n",
    "    class_field = len(headers) - 1\n",
    "    data_x = [[float(x[i]) for i in range(class_field)] for x in data[1:]]\n",
    "    data_x = np.asarray(data_x)\n",
    "    data_y = [[str(x[i]) for i in range(class_field, class_field + 1)] for x in data[1:]]\n",
    "    data_y = np.asarray(data_y)\n",
    "    return headers, data_x, data_y"
   ]
  },
  {
   "cell_type": "code",
   "execution_count": 9,
   "metadata": {},
   "outputs": [],
   "source": [
    "headers, features_x, labels_y = data_and_headers('Data' + os.sep + 'hw3q6.csv')"
   ]
  },
  {
   "cell_type": "code",
   "execution_count": 10,
   "metadata": {},
   "outputs": [
    {
     "name": "stdout",
     "output_type": "stream",
     "text": [
      "Data\n",
      "Number of features - 12\n",
      "Total Number of observations - 200\n",
      "Number of Positive Samples - 90\n",
      "Number of Negative Samples - 0\n",
      "\n"
     ]
    }
   ],
   "source": [
    "print('Data')\n",
    "print('Number of features - ' + str(features_x.shape[1]))\n",
    "print('Total Number of observations - ' + str(features_x.shape[0]))\n",
    "print('Number of Positive Samples - ' + str(labels_y[labels_y=='1'].shape[0]))\n",
    "print('Number of Negative Samples - ' + str(labels_y[labels_y=='-1'].shape[0]))\n",
    "print()"
   ]
  },
  {
   "cell_type": "code",
   "execution_count": null,
   "metadata": {},
   "outputs": [],
   "source": []
  }
 ],
 "metadata": {
  "kernelspec": {
   "display_name": "Python 3",
   "language": "python",
   "name": "python3"
  },
  "language_info": {
   "codemirror_mode": {
    "name": "ipython",
    "version": 3
   },
   "file_extension": ".py",
   "mimetype": "text/x-python",
   "name": "python",
   "nbconvert_exporter": "python",
   "pygments_lexer": "ipython3",
   "version": "3.6.4"
  }
 },
 "nbformat": 4,
 "nbformat_minor": 2
}
