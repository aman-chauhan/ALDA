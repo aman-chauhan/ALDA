{
 "cells": [
  {
   "cell_type": "markdown",
   "metadata": {},
   "source": [
    "# Q4 - Association Analysis\n",
    "---\n",
    "\n",
    "Consider the following market basket transactions shown in the Table below.\n",
    "\n",
    "Transaction ID | Items Ordered\n",
    "--- | ---\n",
    "1 | {Flour, Eggs, Bread}\n",
    "2 | {Soda, Coffee}\n",
    "3 | {Flour, Butter, Milk, Eggs}\n",
    "4 | {Bread, Eggs, Juice, Detergent}\n",
    "5 | {Bread, Milk, Eggs}\n",
    "6 | {Eggs, Bread}\n",
    "7 | {Detergent, Milk}\n",
    "8 | {Coffee, Soda, Juice}\n",
    "9 | {Butter, Juice, Bread}\n",
    "10 | {Milk, Bread, Detergent}"
   ]
  },
  {
   "cell_type": "markdown",
   "metadata": {},
   "source": [
    "## Import Libraries"
   ]
  },
  {
   "cell_type": "code",
   "execution_count": 1,
   "metadata": {},
   "outputs": [],
   "source": [
    "from pprint import pprint\n",
    "import itertools\n",
    "import math"
   ]
  },
  {
   "cell_type": "markdown",
   "metadata": {},
   "source": [
    "## (a) How many items are in this data set? What is the maximum size of itemsets that can be extracted from this data set?"
   ]
  },
  {
   "cell_type": "markdown",
   "metadata": {},
   "source": [
    "### Transaction History"
   ]
  },
  {
   "cell_type": "code",
   "execution_count": 2,
   "metadata": {},
   "outputs": [],
   "source": [
    "transactions = [(1, frozenset({'Flour', 'Eggs', 'Bread'})),\n",
    "                (2, frozenset({'Soda', 'Coffee'})),\n",
    "                (3, frozenset({'Flour', 'Butter', 'Milk', 'Eggs'})),\n",
    "                (4, frozenset({'Bread', 'Eggs', 'Juice', 'Detergent'})),\n",
    "                (5, frozenset({'Bread', 'Milk', 'Eggs'})),\n",
    "                (6, frozenset({'Eggs', 'Bread'})),\n",
    "                (7, frozenset({'Detergent', 'Milk'})),\n",
    "                (8, frozenset({'Coffee', 'Soda', 'Juice'})),\n",
    "                (9, frozenset({'Butter', 'Juice', 'Bread'})),\n",
    "                (10, frozenset({'Milk', 'Bread', 'Detergent'})),\n",
    "               ]"
   ]
  },
  {
   "cell_type": "markdown",
   "metadata": {},
   "source": [
    "### Count of Items"
   ]
  },
  {
   "cell_type": "code",
   "execution_count": 3,
   "metadata": {},
   "outputs": [
    {
     "name": "stdout",
     "output_type": "stream",
     "text": [
      "Total items in the data set - 9\n",
      "The items are - {'Bread', 'Eggs', 'Soda', 'Flour', 'Detergent', 'Juice', 'Butter', 'Milk', 'Coffee'}\n"
     ]
    }
   ],
   "source": [
    "items = set()\n",
    "for i, x in transactions:\n",
    "    items.update(x)\n",
    "print('Total items in the data set - {}'.format(len(items)))\n",
    "print('The items are - {}'.format(items))"
   ]
  },
  {
   "cell_type": "markdown",
   "metadata": {},
   "source": [
    "### Itemsets with Support ≥ 1"
   ]
  },
  {
   "cell_type": "code",
   "execution_count": 4,
   "metadata": {
    "scrolled": false
   },
   "outputs": [
    {
     "name": "stdout",
     "output_type": "stream",
     "text": [
      "Total itemsets with support ≥ 1 are - 44\n"
     ]
    }
   ],
   "source": [
    "itemsets = {}\n",
    "for i in range(1, len(items)+1):\n",
    "    for x in itertools.combinations(items, i):\n",
    "        for _, y in transactions:\n",
    "            if set(x).issubset(y):\n",
    "                if frozenset(x) not in itemsets:\n",
    "                    itemsets[frozenset(x)]=0\n",
    "                itemsets[frozenset(x)]+=1\n",
    "print('Total itemsets with support ≥ 1 are - {}'.format(len(itemsets)))"
   ]
  },
  {
   "cell_type": "markdown",
   "metadata": {},
   "source": [
    "## (b) What is the maximum number of association rules that can be extracted from this data (including rules that have zero support)?"
   ]
  },
  {
   "cell_type": "code",
   "execution_count": 5,
   "metadata": {},
   "outputs": [
    {
     "name": "stdout",
     "output_type": "stream",
     "text": [
      "The maximum number of association rules that can be extracted are 512\n"
     ]
    }
   ],
   "source": [
    "print('The maximum number of association rules that can be extracted are {:.0f}'.format(math.pow(2,len(items))))"
   ]
  },
  {
   "cell_type": "markdown",
   "metadata": {},
   "source": [
    "## (c) What is the maximum number of 2-itemsets that can be derived from this data set (including those have zero support)?"
   ]
  },
  {
   "cell_type": "code",
   "execution_count": 6,
   "metadata": {},
   "outputs": [
    {
     "name": "stdout",
     "output_type": "stream",
     "text": [
      "The maximum number of 2-itemsets that can be derived from this data set are 36\n"
     ]
    }
   ],
   "source": [
    "print('The maximum number of 2-itemsets that can be derived from this data set are {:.0f}'.format(\n",
    "    math.factorial(len(items))/(math.factorial(len(items)-2)*2)))"
   ]
  },
  {
   "cell_type": "markdown",
   "metadata": {},
   "source": [
    "## (d) Find an itemset (of size 2 or larger) that has the largest support."
   ]
  },
  {
   "cell_type": "code",
   "execution_count": 7,
   "metadata": {},
   "outputs": [
    {
     "name": "stdout",
     "output_type": "stream",
     "text": [
      "The itemset of size 2 or larger with maximum support is -> {Bread, Eggs}\n"
     ]
    }
   ],
   "source": [
    "max_cnt=0\n",
    "max_set=None\n",
    "for x,cnt in itemsets.items():\n",
    "    if len(x)>=2 and cnt>max_cnt:\n",
    "        max_cnt=cnt\n",
    "        max_set=x\n",
    "print('The itemset of size 2 or larger with maximum support is -> {' + ', '.join(max_set) + '}')"
   ]
  },
  {
   "cell_type": "markdown",
   "metadata": {},
   "source": [
    "## (e) Given minconf = 0:5, find two pairs of items, a and b, such that the rules {a} -> {b} and {b} -> {a} have the same confidence, and their confidence is greater than or equal to the minconf threshold."
   ]
  },
  {
   "cell_type": "code",
   "execution_count": 8,
   "metadata": {
    "scrolled": false
   },
   "outputs": [
    {
     "name": "stdout",
     "output_type": "stream",
     "text": [
      "Confidence -> 1.00\t [Flour, Milk] [Butter, Flour, Eggs]\n",
      "Confidence -> 1.00\t [Flour, Milk] [Flour, Eggs, Milk]\n",
      "Confidence -> 1.00\t [Flour, Milk] [Butter, Flour, Milk]\n",
      "Confidence -> 1.00\t [Flour, Milk] [Butter, Flour]\n",
      "Confidence -> 1.00\t [Flour, Milk] [Butter, Flour, Eggs, Milk]\n",
      "Confidence -> 1.00\t [Flour, Milk] [Butter, Milk]\n",
      "Confidence -> 1.00\t [Flour, Milk] [Butter, Milk, Eggs]\n",
      "Confidence -> 1.00\t [Flour, Milk] [Butter, Eggs]\n",
      "Confidence -> 1.00\t [Juice, Butter] [Juice, Butter, Bread]\n",
      "Confidence -> 1.00\t [Juice, Butter] [Butter, Bread]\n",
      "Confidence -> 0.50\t [Juice, Bread] [Butter]\n",
      "Confidence -> 0.50\t [Juice, Bread] [Detergent, Bread]\n",
      "Confidence -> 1.00\t [Juice, Bread, Eggs] [Detergent, Bread, Eggs]\n",
      "Confidence -> 1.00\t [Juice, Bread, Eggs] [Juice, Detergent, Bread]\n",
      "Confidence -> 1.00\t [Juice, Bread, Eggs] [Juice, Detergent, Bread, Eggs]\n",
      "Confidence -> 1.00\t [Juice, Bread, Eggs] [Juice, Detergent, Eggs]\n",
      "Confidence -> 1.00\t [Juice, Bread, Eggs] [Juice, Detergent]\n",
      "Confidence -> 1.00\t [Juice, Bread, Eggs] [Detergent, Eggs]\n",
      "Confidence -> 1.00\t [Juice, Bread, Eggs] [Juice, Eggs]\n",
      "Confidence -> 1.00\t [Detergent, Bread, Eggs] [Juice, Detergent, Bread]\n",
      "Confidence -> 1.00\t [Detergent, Bread, Eggs] [Juice, Detergent, Bread, Eggs]\n",
      "Confidence -> 1.00\t [Detergent, Bread, Eggs] [Juice, Detergent, Eggs]\n",
      "Confidence -> 1.00\t [Detergent, Bread, Eggs] [Juice, Detergent]\n",
      "Confidence -> 1.00\t [Detergent, Bread, Eggs] [Detergent, Eggs]\n",
      "Confidence -> 1.00\t [Detergent, Bread, Eggs] [Juice, Eggs]\n",
      "Confidence -> 1.00\t [Juice, Detergent, Bread] [Juice, Detergent, Bread, Eggs]\n",
      "Confidence -> 1.00\t [Juice, Detergent, Bread] [Juice, Detergent, Eggs]\n",
      "Confidence -> 1.00\t [Juice, Detergent, Bread] [Juice, Detergent]\n",
      "Confidence -> 1.00\t [Juice, Detergent, Bread] [Detergent, Eggs]\n",
      "Confidence -> 1.00\t [Juice, Detergent, Bread] [Juice, Eggs]\n",
      "Confidence -> 1.00\t [Butter, Flour, Eggs] [Flour, Eggs, Milk]\n",
      "Confidence -> 1.00\t [Butter, Flour, Eggs] [Butter, Flour, Milk]\n",
      "Confidence -> 1.00\t [Butter, Flour, Eggs] [Butter, Flour]\n",
      "Confidence -> 1.00\t [Butter, Flour, Eggs] [Butter, Flour, Eggs, Milk]\n",
      "Confidence -> 1.00\t [Butter, Flour, Eggs] [Butter, Milk]\n",
      "Confidence -> 1.00\t [Butter, Flour, Eggs] [Butter, Milk, Eggs]\n",
      "Confidence -> 1.00\t [Butter, Flour, Eggs] [Butter, Eggs]\n",
      "Confidence -> 1.00\t [Flour, Eggs, Milk] [Butter, Flour, Milk]\n",
      "Confidence -> 1.00\t [Flour, Eggs, Milk] [Butter, Flour]\n",
      "Confidence -> 1.00\t [Flour, Eggs, Milk] [Butter, Flour, Eggs, Milk]\n",
      "Confidence -> 1.00\t [Flour, Eggs, Milk] [Butter, Milk]\n",
      "Confidence -> 1.00\t [Flour, Eggs, Milk] [Butter, Milk, Eggs]\n",
      "Confidence -> 1.00\t [Flour, Eggs, Milk] [Butter, Eggs]\n",
      "Confidence -> 1.00\t [Bread, Eggs, Flour] [Bread, Flour]\n",
      "Confidence -> 0.50\t [Butter] [Milk, Eggs]\n",
      "Confidence -> 0.50\t [Butter] [Flour]\n",
      "Confidence -> 0.50\t [Butter] [Flour, Eggs]\n",
      "Confidence -> 1.00\t [Juice, Detergent, Bread, Eggs] [Juice, Detergent, Eggs]\n",
      "Confidence -> 1.00\t [Juice, Detergent, Bread, Eggs] [Juice, Detergent]\n",
      "Confidence -> 1.00\t [Juice, Detergent, Bread, Eggs] [Detergent, Eggs]\n",
      "Confidence -> 1.00\t [Juice, Detergent, Bread, Eggs] [Juice, Eggs]\n",
      "Confidence -> 1.00\t [Juice, Detergent, Eggs] [Juice, Detergent]\n",
      "Confidence -> 1.00\t [Juice, Detergent, Eggs] [Detergent, Eggs]\n",
      "Confidence -> 1.00\t [Juice, Detergent, Eggs] [Juice, Eggs]\n",
      "Confidence -> 0.50\t [Milk, Eggs] [Flour]\n",
      "Confidence -> 0.50\t [Milk, Eggs] [Bread, Milk]\n",
      "Confidence -> 0.50\t [Milk, Eggs] [Flour, Eggs]\n",
      "Confidence -> 1.00\t [Butter, Flour, Milk] [Butter, Flour]\n",
      "Confidence -> 1.00\t [Butter, Flour, Milk] [Butter, Flour, Eggs, Milk]\n",
      "Confidence -> 1.00\t [Butter, Flour, Milk] [Butter, Milk]\n",
      "Confidence -> 1.00\t [Butter, Flour, Milk] [Butter, Milk, Eggs]\n",
      "Confidence -> 1.00\t [Butter, Flour, Milk] [Butter, Eggs]\n",
      "Confidence -> 0.50\t [Detergent, Milk] [Bread, Milk]\n",
      "Confidence -> 0.50\t [Detergent, Milk] [Detergent, Bread]\n",
      "Confidence -> 1.00\t [Butter, Flour] [Butter, Flour, Eggs, Milk]\n",
      "Confidence -> 1.00\t [Butter, Flour] [Butter, Milk]\n",
      "Confidence -> 1.00\t [Butter, Flour] [Butter, Milk, Eggs]\n",
      "Confidence -> 1.00\t [Butter, Flour] [Butter, Eggs]\n",
      "Confidence -> 1.00\t [Juice, Butter, Bread] [Butter, Bread]\n",
      "Confidence -> 1.00\t [Flour] [Flour, Eggs]\n",
      "Confidence -> 1.00\t [Soda] [Coffee]\n",
      "Confidence -> 1.00\t [Soda] [Soda, Coffee]\n",
      "Confidence -> 1.00\t [Juice, Soda] [Juice, Coffee]\n",
      "Confidence -> 1.00\t [Juice, Soda] [Juice, Soda, Coffee]\n",
      "Confidence -> 1.00\t [Juice, Detergent] [Detergent, Eggs]\n",
      "Confidence -> 1.00\t [Juice, Detergent] [Juice, Eggs]\n",
      "Confidence -> 1.00\t [Butter, Flour, Eggs, Milk] [Butter, Milk]\n",
      "Confidence -> 1.00\t [Butter, Flour, Eggs, Milk] [Butter, Milk, Eggs]\n",
      "Confidence -> 1.00\t [Butter, Flour, Eggs, Milk] [Butter, Eggs]\n",
      "Confidence -> 1.00\t [Detergent, Eggs] [Juice, Eggs]\n",
      "Confidence -> 1.00\t [Coffee] [Soda, Coffee]\n",
      "Confidence -> 0.50\t [Bread, Milk] [Detergent, Bread]\n",
      "Confidence -> 1.00\t [Juice, Coffee] [Juice, Soda, Coffee]\n",
      "Confidence -> 1.00\t [Butter, Milk] [Butter, Milk, Eggs]\n",
      "Confidence -> 1.00\t [Butter, Milk] [Butter, Eggs]\n",
      "Confidence -> 1.00\t [Butter, Milk, Eggs] [Butter, Eggs]\n"
     ]
    }
   ],
   "source": [
    "s = set(itemsets.keys())\n",
    "for x, y in itertools.combinations(s, 2):\n",
    "    union = x.union(y)\n",
    "    if union in itemsets and itemsets[x]==itemsets[y] and itemsets[union]/itemsets[x]>=0.5:\n",
    "        print('Confidence -> {:.2f}\\t'.format(itemsets[union]/itemsets[x]),\n",
    "              '[{}]'.format(', '.join(x)),\n",
    "              '[{}]'.format(', '.join(y)))"
   ]
  }
 ],
 "metadata": {
  "kernelspec": {
   "display_name": "Python 3",
   "language": "python",
   "name": "python3"
  },
  "language_info": {
   "codemirror_mode": {
    "name": "ipython",
    "version": 3
   },
   "file_extension": ".py",
   "mimetype": "text/x-python",
   "name": "python",
   "nbconvert_exporter": "python",
   "pygments_lexer": "ipython3",
   "version": "3.6.5"
  }
 },
 "nbformat": 4,
 "nbformat_minor": 2
}
