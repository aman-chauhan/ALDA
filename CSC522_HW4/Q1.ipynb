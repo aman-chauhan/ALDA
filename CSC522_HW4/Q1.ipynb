{
 "cells": [
  {
   "cell_type": "markdown",
   "metadata": {},
   "source": [
    "# Q1"
   ]
  },
  {
   "cell_type": "code",
   "execution_count": 56,
   "metadata": {},
   "outputs": [],
   "source": [
    "import numpy as np\n",
    "import pandas as pd\n",
    "from copy import deepcopy\n",
    "import matplotlib.pyplot as plt\n",
    "from scipy.spatial import distance\n",
    "%matplotlib inline"
   ]
  },
  {
   "cell_type": "code",
   "execution_count": 7,
   "metadata": {},
   "outputs": [],
   "source": [
    "data = np.array([[1,8], [1,1], [2,4], [3,3], [4,9], [4,6], [6,4], [7,7], [9,9], [9,1]])"
   ]
  },
  {
   "cell_type": "code",
   "execution_count": 21,
   "metadata": {},
   "outputs": [],
   "source": [
    "data_labels = np.array(['A','B','C','D','E','F','G','H','I','J'])"
   ]
  },
  {
   "cell_type": "code",
   "execution_count": 8,
   "metadata": {},
   "outputs": [
    {
     "data": {
      "text/plain": [
       "array([[1, 8],\n",
       "       [1, 1],\n",
       "       [2, 4],\n",
       "       [3, 3],\n",
       "       [4, 9],\n",
       "       [4, 6],\n",
       "       [6, 4],\n",
       "       [7, 7],\n",
       "       [9, 9],\n",
       "       [9, 1]])"
      ]
     },
     "execution_count": 8,
     "metadata": {},
     "output_type": "execute_result"
    }
   ],
   "source": [
    "data"
   ]
  },
  {
   "cell_type": "code",
   "execution_count": 52,
   "metadata": {},
   "outputs": [],
   "source": [
    "# Number of clusters: 3\n",
    "k = 3 \n",
    "# Number of datapoints: 10\n",
    "n = 10"
   ]
  },
  {
   "cell_type": "code",
   "execution_count": 34,
   "metadata": {},
   "outputs": [],
   "source": [
    "# Initial Seeds\n",
    "centroids = np.array([[1,1], [3,3], [9,1]])"
   ]
  },
  {
   "cell_type": "code",
   "execution_count": 79,
   "metadata": {},
   "outputs": [
    {
     "data": {
      "image/png": "[encoded data removed]",
      "text/plain": [
       "<matplotlib.figure.Figure at 0x11dd8ea20>"
      ]
     },
     "metadata": {},
     "output_type": "display_data"
    }
   ],
   "source": [
    "# Plot points\n",
    "figure = plt.figure(figsize=(5,5))\n",
    "plt.scatter(data[:,0], data[:,1], color='black')\n",
    "colors_map = ['blue', 'green', 'red']\n",
    "plt.xlim(0, 10)\n",
    "plt.ylim(0, 10)\n",
    "for i, text in enumerate(data_labels):\n",
    "    plt.annotate(text, (data[i,0]*(1.04), data[i,1]*(1.04)), fontsize = 14)\n",
    "for i in range(k):\n",
    "    plt.scatter(centroids[i,0], centroids[i,1], marker='*', color=colors_map[i], s=250)\n",
    "\n",
    "plt.grid(which='both', linestyle='dotted')\n",
    "plt.show()"
   ]
  },
  {
   "cell_type": "code",
   "execution_count": 83,
   "metadata": {},
   "outputs": [
    {
     "name": "stdout",
     "output_type": "stream",
     "text": [
      "Distances\n"
     ]
    },
    {
     "data": {
      "text/plain": [
       "array([[ 7.        ,  5.38516481, 10.63014581],\n",
       "       [ 0.        ,  2.82842712,  8.        ],\n",
       "       [ 3.16227766,  1.41421356,  7.61577311],\n",
       "       [ 2.82842712,  0.        ,  6.32455532],\n",
       "       [ 8.54400375,  6.08276253,  9.43398113],\n",
       "       [ 5.83095189,  3.16227766,  7.07106781],\n",
       "       [ 5.83095189,  3.16227766,  4.24264069],\n",
       "       [ 8.48528137,  5.65685425,  6.32455532],\n",
       "       [11.3137085 ,  8.48528137,  8.        ],\n",
       "       [ 8.        ,  6.32455532,  0.        ]])"
      ]
     },
     "execution_count": 83,
     "metadata": {},
     "output_type": "execute_result"
    }
   ],
   "source": [
    "distances = np.zeros(shape=(n,k))\n",
    "clusters = np.zeros(k)\n",
    "\n",
    "new_centroids = np.zeros(centroids.shape)\n",
    "old_centroids = deepcopy(centroids)\n",
    "error = np.linalg.norm(new_centroids - old_centroids)\n",
    "for i in range(k):\n",
    "    distances[:,i] = np.linalg.norm(data - centroids[i], axis = 1)\n",
    "clusters = np.argmin(distances, axis = 1)\n",
    "\n",
    "old_centroids = deepcopy(new_centroids)\n",
    "\n",
    "# Calculate mean for every cluster and update the center\n",
    "for i in range(k):\n",
    "    new_centroids[i] = np.mean(data[clusters == i], axis=0)\n",
    "error = np.linalg.norm(new_centroids - old_centroids)\n",
    "    \n",
    "print('Distances')\n",
    "distances\n"
   ]
  },
  {
   "cell_type": "code",
   "execution_count": 81,
   "metadata": {},
   "outputs": [],
   "source": [
    "# Helper Functions to draw chart:\n",
    "# Plot points\n",
    "def scatter_plot(data, centroids):\n",
    "    figure = plt.figure(figsize=(8,8))\n",
    "    plt.scatter(data[:,0], data[:,1], color='b')\n",
    "    colors_map = ['blue', 'green', 'red']\n",
    "    plt.xlim(0, 10)\n",
    "    plt.ylim(0, 10)\n",
    "    for i, text in enumerate(data_labels):\n",
    "        plt.annotate(text, (data[i,0]*(1.04), data[i,1]*(1.04)), fontsize = 14)\n",
    "    for i in range(k):\n",
    "        plt.scatter(centroids[i,0], centroids[i,1], marker='*', color=colors_map[i], s=250)\n",
    "    for i in range(n):\n",
    "        plt.scatter(data[i,0], data[i,1],color=colors_map[clusters[i]])\n",
    "    plt.grid(which='both', linestyle='dotted')\n",
    "    plt.show() "
   ]
  },
  {
   "cell_type": "code",
   "execution_count": 82,
   "metadata": {},
   "outputs": [
    {
     "data": {
      "image/png": "[encoded data removed]",
      "text/plain": [
       "<matplotlib.figure.Figure at 0x11de6cc88>"
      ]
     },
     "metadata": {},
     "output_type": "display_data"
    }
   ],
   "source": [
    "# Plot points\n",
    "# figure = plt.figure(figsize=(8,8))\n",
    "# plt.scatter(data[:,0], data[:,1], color='b')\n",
    "# colors_map = ['blue', 'green', 'red']\n",
    "# plt.xlim(0, 10)\n",
    "# plt.ylim(0, 10)\n",
    "# for i, text in enumerate(data_labels):\n",
    "#     plt.annotate(text, (data[i,0]*(1.04), data[i,1]*(1.04)), fontsize = 14)\n",
    "# for i in range(k):\n",
    "#     plt.scatter(new_centroids[i,0], new_centroids[i,1], marker='*', color=colors_map[i], s=250)\n",
    "# for i in range(n):\n",
    "#     plt.scatter(data[i,0], data[i,1],color=colors_map[clusters[i]])\n",
    "# plt.grid(which='both', linestyle='dotted')\n",
    "# plt.show() \n",
    "scatter_plot(data, new_centroids)"
   ]
  },
  {
   "cell_type": "code",
   "execution_count": null,
   "metadata": {},
   "outputs": [],
   "source": [
    "while !np.array_equal(new_centroids, old_centroids) :\n",
    "    print('EPOCH : ')\n",
    "    distances = np.zeros(shape=(n,k))\n",
    "    clusters = np.zeros(k)\n",
    "\n",
    "    new_centroids = np.zeros(centroids.shape)\n",
    "    old_centroids = deepcopy(centroids)\n",
    "    error = np.linalg.norm(new_centroids - old_centroids)\n",
    "    for i in range(k):\n",
    "        distances[:,i] = np.linalg.norm(data - centroids[i], axis = 1)\n",
    "    clusters = np.argmin(distances, axis = 1)\n",
    "\n",
    "    old_centroids = deepcopy(new_centroids)\n",
    "\n",
    "    # Calculate mean for every cluster and update the center\n",
    "    for i in range(k):\n",
    "        new_centroids[i] = np.mean(data[clusters == i], axis=0)\n",
    "    error = np.linalg.norm(new_centroids - old_centroids)\n",
    "    scatter_plot(data, new_centroids)"
   ]
  }
 ],
 "metadata": {
  "kernelspec": {
   "display_name": "Python 3",
   "language": "python",
   "name": "python3"
  },
  "language_info": {
   "codemirror_mode": {
    "name": "ipython",
    "version": 3
   },
   "file_extension": ".py",
   "mimetype": "text/x-python",
   "name": "python",
   "nbconvert_exporter": "python",
   "pygments_lexer": "ipython3",
   "version": "3.6.4"
  }
 },
 "nbformat": 4,
 "nbformat_minor": 2
}
