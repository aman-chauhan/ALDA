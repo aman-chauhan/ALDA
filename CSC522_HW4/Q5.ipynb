{
 "cells": [
  {
   "cell_type": "markdown",
   "metadata": {},
   "source": [
    "# Q5"
   ]
  },
  {
   "cell_type": "code",
   "execution_count": 1,
   "metadata": {},
   "outputs": [],
   "source": [
    "from pprint import pprint\n",
    "import itertools\n",
    "import math"
   ]
  },
  {
   "cell_type": "code",
   "execution_count": 2,
   "metadata": {},
   "outputs": [],
   "source": [
    "transactions = [(1, frozenset('{B,D,F,H}'[1:-1].split(','))),\n",
    "                (2, frozenset('{C,D,F,G}'[1:-1].split(','))),\n",
    "                (3, frozenset('{A,D,F,G}'[1:-1].split(','))),\n",
    "                (4, frozenset('{A,B,C,D,H}'[1:-1].split(','))),\n",
    "                (5, frozenset('{A,C,F,G}'[1:-1].split(','))),\n",
    "                (6, frozenset('{D,H}'[1:-1].split(','))),\n",
    "                (7, frozenset('{A,B,E,F}'[1:-1].split(','))),\n",
    "                (8, frozenset('{A,D,F,G,H}'[1:-1].split(','))),\n",
    "                (9, frozenset('{A,C,D,F,G}'[1:-1].split(','))),\n",
    "                (10, frozenset('{D,F,G,H}'[1:-1].split(','))),\n",
    "                (11, frozenset('{A,C,D,E}'[1:-1].split(','))),\n",
    "                (12, frozenset('{B,E,F,H}'[1:-1].split(','))),\n",
    "                (13, frozenset('{D,F,G}'[1:-1].split(','))),\n",
    "                (14, frozenset('{C,F,G,H}'[1:-1].split(','))),\n",
    "                (15, frozenset('{A,C,D,F,H}'[1:-1].split(',')))\n",
    "               ]"
   ]
  },
  {
   "cell_type": "code",
   "execution_count": 3,
   "metadata": {},
   "outputs": [
    {
     "name": "stdout",
     "output_type": "stream",
     "text": [
      "Total items in the data set - 8\n",
      "The items are - {'H', 'C', 'A', 'B', 'E', 'F', 'G', 'D'}\n"
     ]
    }
   ],
   "source": [
    "items = set()\n",
    "for i, x in transactions:\n",
    "    items.update(x)\n",
    "print('Total items in the data set - {}'.format(len(items)))\n",
    "print('The items are - {}'.format(items))"
   ]
  },
  {
   "cell_type": "code",
   "execution_count": 4,
   "metadata": {},
   "outputs": [
    {
     "name": "stdout",
     "output_type": "stream",
     "text": [
      "Total itemsets with support ≥ 1 are - 96\n"
     ]
    }
   ],
   "source": [
    "itemsets = {}\n",
    "for i in range(1, len(items)+1):\n",
    "    for x in itertools.combinations(items, i):\n",
    "        for _, y in transactions:\n",
    "            if set(x).issubset(y):\n",
    "                if frozenset(x) not in itemsets:\n",
    "                    itemsets[frozenset(x)]=0\n",
    "                itemsets[frozenset(x)]+=1\n",
    "print('Total itemsets with support ≥ 1 are - {}'.format(len(itemsets)))"
   ]
  },
  {
   "cell_type": "code",
   "execution_count": 9,
   "metadata": {},
   "outputs": [
    {
     "name": "stdout",
     "output_type": "stream",
     "text": [
      "{frozenset({'H'}): 8,\n",
      " frozenset({'C'}): 7,\n",
      " frozenset({'A'}): 8,\n",
      " frozenset({'B'}): 4,\n",
      " frozenset({'E'}): 3,\n",
      " frozenset({'F'}): 12,\n",
      " frozenset({'G'}): 8,\n",
      " frozenset({'D'}): 11}\n"
     ]
    }
   ],
   "source": [
    "pprint({k:v for k,v in itemsets.items() if len(k)==1})"
   ]
  }
 ],
 "metadata": {
  "kernelspec": {
   "display_name": "Python 3",
   "language": "python",
   "name": "python3"
  },
  "language_info": {
   "codemirror_mode": {
    "name": "ipython",
    "version": 3
   },
   "file_extension": ".py",
   "mimetype": "text/x-python",
   "name": "python",
   "nbconvert_exporter": "python",
   "pygments_lexer": "ipython3",
   "version": "3.6.5"
  }
 },
 "nbformat": 4,
 "nbformat_minor": 2
}
