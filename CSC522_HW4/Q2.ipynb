{
 "cells": [
  {
   "cell_type": "markdown",
   "metadata": {},
   "source": [
    "# Q2"
   ]
  },
  {
   "cell_type": "markdown",
   "metadata": {},
   "source": [
    "## Import Libraries"
   ]
  },
  {
   "cell_type": "code",
   "execution_count": 1,
   "metadata": {},
   "outputs": [],
   "source": [
    "import math\n",
    "import numpy as np\n",
    "import pandas as pd\n",
    "from copy import deepcopy\n",
    "import matplotlib.pyplot as plt\n",
    "from scipy.cluster.hierarchy import dendrogram, linkage  \n",
    "from scipy.spatial import distance\n",
    "%matplotlib inline"
   ]
  },
  {
   "cell_type": "code",
   "execution_count": 2,
   "metadata": {},
   "outputs": [],
   "source": [
    "# number of datapoints \n",
    "n = 10\n",
    "data = np.array([[1,8], [1,1], [2,4], [3,3], [4,9], [4,6], [6,4], [7,7], [9,9], [9,1]])\n",
    "data_labels = np.array(['A','B','C','D','E','F','G','H','I','J'])"
   ]
  },
  {
   "cell_type": "code",
   "execution_count": 3,
   "metadata": {},
   "outputs": [
    {
     "name": "stdout",
     "output_type": "stream",
     "text": [
      "Distances from-\n",
      "\tA\tB\tC\tD\tE\tF\tG\tH\tI\tJ\n",
      "A\t0.0000\t7.0000\t4.1231\t5.3852\t3.1623\t3.6056\t6.4031\t6.0828\t8.0623\t10.6301\n",
      "B\t7.0000\t0.0000\t3.1623\t2.8284\t8.5440\t5.8310\t5.8310\t8.4853\t11.3137\t8.0000\n",
      "C\t4.1231\t3.1623\t0.0000\t1.4142\t5.3852\t2.8284\t4.0000\t5.8310\t8.6023\t7.6158\n",
      "D\t5.3852\t2.8284\t1.4142\t0.0000\t6.0828\t3.1623\t3.1623\t5.6569\t8.4853\t6.3246\n",
      "E\t3.1623\t8.5440\t5.3852\t6.0828\t0.0000\t3.0000\t5.3852\t3.6056\t5.0000\t9.4340\n",
      "F\t3.6056\t5.8310\t2.8284\t3.1623\t3.0000\t0.0000\t2.8284\t3.1623\t5.8310\t7.0711\n",
      "G\t6.4031\t5.8310\t4.0000\t3.1623\t5.3852\t2.8284\t0.0000\t3.1623\t5.8310\t4.2426\n",
      "H\t6.0828\t8.4853\t5.8310\t5.6569\t3.6056\t3.1623\t3.1623\t0.0000\t2.8284\t6.3246\n",
      "I\t8.0623\t11.3137\t8.6023\t8.4853\t5.0000\t5.8310\t5.8310\t2.8284\t0.0000\t8.0000\n",
      "J\t10.6301\t8.0000\t7.6158\t6.3246\t9.4340\t7.0711\t4.2426\t6.3246\t8.0000\t0.0000\n"
     ]
    }
   ],
   "source": [
    "k = n\n",
    "distances = np.zeros(shape=(n,n))\n",
    "for i in range(n):\n",
    "    distances[:,i] = np.linalg.norm(data - data[i], axis = 1)\n",
    "print('Distances from-')\n",
    "clusters = np.zeros(k)\n",
    "clusters = deepcopy(data)\n",
    "clusters_label = deepcopy(data_labels)\n",
    "for cluster_label in clusters_label:\n",
    "    print('\\t{}'.format(cluster_label), end='')\n",
    "print()\n",
    "for i in range(k):\n",
    "    print('{}'.format(clusters_label[i]), end='')\n",
    "    for j in range(k):\n",
    "        print ('\\t{:.4f}'.format(distances[i][j]), end='')\n",
    "    print()"
   ]
  },
  {
   "cell_type": "code",
   "execution_count": 4,
   "metadata": {},
   "outputs": [
    {
     "name": "stdout",
     "output_type": "stream",
     "text": [
      "Single Link SSE: 107.875\n"
     ]
    }
   ],
   "source": [
    "# Single Link\n",
    "# Cluster 0 {B,C,D,E,F,G,H,I}\n",
    "# Cluster 1 {J}\n",
    "# Cluster 2 {A}\n",
    "k = 3\n",
    "single_link_centroids = np.zeros(shape=(k,2))\n",
    "clusters = np.zeros(10)\n",
    "clusters = [2,0,0,0,0,0,0,0,0,1]\n",
    "\n",
    "# Calculating new centroids\n",
    "# new_centroids[i] = np.mean(data[clusters == i], axis=0)\n",
    "for i in range(k):\n",
    "    # print('Cluster points: {}'.format([list(x) for x,y in zip(data,clusters) if y == i]))\n",
    "    single_link_centroids[i] = np.mean([list(x) for x,y in zip(data,clusters) if y == i], axis=0)\n",
    "    \n",
    "ss = 0\n",
    "for i in range(k):\n",
    "        cluster_points = [list(x) for x,y in zip(data,clusters) if y == i]\n",
    "        # print('Cluster Points: {}'.format(cluster_points))\n",
    "        distances = np.linalg.norm(cluster_points - single_link_centroids[i], axis = 1)\n",
    "        ss += sum([x*x for x in distances ])\n",
    "print('Single Link SSE: {}'.format(ss))"
   ]
  },
  {
   "cell_type": "code",
   "execution_count": 5,
   "metadata": {},
   "outputs": [
    {
     "name": "stdout",
     "output_type": "stream",
     "text": [
      "Complete Link SSE: 72.0\n"
     ]
    }
   ],
   "source": [
    "# Complete Link\n",
    "# Cluster 0 {A,B,C,D,F,G,E}\n",
    "# Cluster 1 {J}\n",
    "# Cluster 2 {H,I}\n",
    "k = 3\n",
    "single_link_centroids = np.zeros(shape=(k,2))\n",
    "clusters = np.zeros(10)\n",
    "clusters = [0,0,0,0,0,0,0,2,2,1]\n",
    "\n",
    "# Calculating new centroids\n",
    "# new_centroids[i] = np.mean(data[clusters == i], axis=0)\n",
    "for i in range(k):\n",
    "    # print('Cluster points: {}'.format([list(x) for x,y in zip(data,clusters) if y == i]))\n",
    "    single_link_centroids[i] = np.mean([list(x) for x,y in zip(data,clusters) if y == i], axis=0)\n",
    "    \n",
    "ss = 0\n",
    "for i in range(k):\n",
    "        cluster_points = [list(x) for x,y in zip(data,clusters) if y == i]\n",
    "        # print('Cluster Points: {}'.format(cluster_points))\n",
    "        distances = np.linalg.norm(cluster_points - single_link_centroids[i], axis = 1)\n",
    "        ss += sum([x*x for x in distances ])\n",
    "print('Complete Link SSE: {}'.format(ss))"
   ]
  },
  {
   "cell_type": "code",
   "execution_count": null,
   "metadata": {},
   "outputs": [],
   "source": []
  }
 ],
 "metadata": {
  "kernelspec": {
   "display_name": "Python 3",
   "language": "python",
   "name": "python3"
  },
  "language_info": {
   "codemirror_mode": {
    "name": "ipython",
    "version": 3
   },
   "file_extension": ".py",
   "mimetype": "text/x-python",
   "name": "python",
   "nbconvert_exporter": "python",
   "pygments_lexer": "ipython3",
   "version": "3.6.4"
  }
 },
 "nbformat": 4,
 "nbformat_minor": 2
}
