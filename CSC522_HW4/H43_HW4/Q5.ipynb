{
 "cells": [
  {
   "cell_type": "markdown",
   "metadata": {},
   "source": [
    "# Q5"
   ]
  },
  {
   "cell_type": "markdown",
   "metadata": {},
   "source": [
    "# Import Libraries"
   ]
  },
  {
   "cell_type": "code",
   "execution_count": 1,
   "metadata": {},
   "outputs": [],
   "source": [
    "from pprint import pprint\n",
    "import itertools\n",
    "import math"
   ]
  },
  {
   "cell_type": "code",
   "execution_count": 2,
   "metadata": {},
   "outputs": [],
   "source": [
    "# Transactions\n",
    "transactions = [(1, frozenset({'A','C','D','E'})),\n",
    "                (2, frozenset({'A','B','D','E'})),\n",
    "                (3, frozenset({'C','E'})),\n",
    "                (4, frozenset({'C','D'})),\n",
    "                (5, frozenset({'A','B','D'})),\n",
    "                (6, frozenset({'B','D','E'})),\n",
    "                (7, frozenset({'A','C','D'})),\n",
    "                (8, frozenset({'B','C','D','E'})),\n",
    "               ]"
   ]
  },
  {
   "cell_type": "code",
   "execution_count": 3,
   "metadata": {},
   "outputs": [
    {
     "name": "stdout",
     "output_type": "stream",
     "text": [
      "The unique items are - {'E', 'A', 'D', 'C', 'B'}\n"
     ]
    }
   ],
   "source": [
    "# unique items\n",
    "items = set()\n",
    "for i, x in transactions:\n",
    "    items.update(x)\n",
    "# print('Total items in the data set - {}'.format(len(items)))\n",
    "print('The unique items are - {}'.format(items))"
   ]
  },
  {
   "cell_type": "code",
   "execution_count": 4,
   "metadata": {},
   "outputs": [
    {
     "name": "stdout",
     "output_type": "stream",
     "text": [
      "Candidate Set C1\n",
      "\t Itemset \t Support Count\n",
      "\t[E] \t 5\n",
      "\t[A] \t 4\n",
      "\t[D] \t 7\n",
      "\t[C] \t 5\n",
      "\t[B] \t 4\n",
      "Pruning Not Required.\n",
      "Step 1 L1\n",
      "1 - Itemsets with support = 3 are as following: \n",
      "[B]  Support Count: 4\n",
      "[A]  Support Count: 4\n",
      "[D]  Support Count: 7\n",
      "[C]  Support Count: 5\n",
      "[E]  Support Count: 5\n",
      "--------------------------------------------------------------\n",
      "--------------------------------------------------------------\n",
      "Step: 2 L(2)\n",
      "Candidate Set C2\n",
      "\t Itemset \t Support Count\n",
      "\t[B, A] \t 2\n",
      "\t[D, B] \t 4\n",
      "\t[C, B] \t 1\n",
      "\t[E, B] \t 3\n",
      "\t[D, A] \t 4\n",
      "\t[C, A] \t 2\n",
      "\t[E, A] \t 2\n",
      "\t[C, D] \t 4\n",
      "\t[E, D] \t 4\n",
      "\t[C, E] \t 3\n",
      "Pruning\n",
      "L2 Itemsets with support = 3 are as following: \n",
      "\tItemset \tSupport Count\n",
      "\t[D, B] \t\t 4\n",
      "\t[E, B] \t\t 3\n",
      "\t[D, A] \t\t 4\n",
      "\t[C, D] \t\t 4\n",
      "\t[E, D] \t\t 4\n",
      "\t[C, E] \t\t 3\n",
      "--------------------------------------------------------------\n",
      "--------------------------------------------------------------\n",
      "Step: 3 L(3)\n",
      "Candidate Set C3\n",
      "\t Itemset \t Support Count\n",
      "\t[E, D, A] \t 2\n",
      "\t[D, B, A] \t 2\n",
      "\t[C, D, A] \t 2\n",
      "\t[C, E, B] \t 1\n",
      "\t[E, D, B] \t 3\n",
      "\t[C, E, D] \t 2\n",
      "\t[C, D, B] \t 1\n",
      "Pruning\n",
      "L3 Itemsets with support = 3 are as following: \n",
      "\tItemset \tSupport Count\n",
      "\t[E, D, B] \t\t 3\n",
      "--------------------------------------------------------------\n",
      "--------------------------------------------------------------\n",
      "Step: 4 L(4)\n",
      "Candidate Set C4\n",
      "\t Itemset \t Support Count\n",
      "Pruning Not Required.\n",
      "L4 Itemsets with support = 3 are as following: \n",
      "\tItemset \tSupport Count\n",
      "No new frequent itemsets identified\n"
     ]
    }
   ],
   "source": [
    "# Apriori Algorithm\n",
    "# L1\n",
    "itemsets = {}\n",
    "for x in itertools.combinations(items, 1):\n",
    "    for _, y in transactions:\n",
    "        if set(x).issubset(y):\n",
    "            if frozenset(x) not in itemsets:\n",
    "                itemsets[frozenset(x)]=0\n",
    "            itemsets[frozenset(x)]+=1\n",
    "\n",
    "# Candidate Set\n",
    "print('Candidate Set C{0}'.format(1))\n",
    "print('\\t Itemset \\t Support Count')\n",
    "for x in itemsets.keys():\n",
    "    print('\\t[{}]'.format(', '.join(x)), '\\t {}'.format(itemsets[x]))\n",
    "\n",
    "itemsets_support3 = dict((itemset,count)for itemset, count in itemsets.items() if count >= 3)\n",
    "if len(itemsets_support3) < len(itemsets):\n",
    "    print('Pruning')\n",
    "else:\n",
    "    print('Pruning Not Required.')\n",
    "itemsets_support3 = dict((itemset,count)for itemset, count in itemsets.items() if count >= 3)\n",
    "s = set(itemsets_support3.keys())\n",
    "print('Step 1 L1')\n",
    "print('1 - Itemsets with support = 3 are as following: ')\n",
    "for x in s:\n",
    "   print('[{}]'.format(', '.join(x)), ' Support Count: {}'.format(itemsets_support3[x]))\n",
    "\n",
    "##################################\n",
    "\n",
    "for i in range(2, len(items)+1):\n",
    "    if len(itemsets_support3) == 0:\n",
    "        print('No new frequent itemsets identified')\n",
    "        break\n",
    "    print('--------------------------------------------------------------')\n",
    "    print('--------------------------------------------------------------')\n",
    "    print('Step: {0} L({0})'.format(i))\n",
    "    itemsets = {}\n",
    "    # Take only frequent itemsets for next step, prune step of Apriori\n",
    "    items = set(itemsets_support3.keys())\n",
    "    for x1,x2 in itertools.combinations(items, 2):\n",
    "        # Union Step\n",
    "        next_frequent_itemset = set(x1.union(x2))\n",
    "        if frozenset(next_frequent_itemset) not in itemsets:\n",
    "            for _, y in transactions:\n",
    "                # print('next_frequent_itemset: {}'.format(next_frequent_itemset))\n",
    "                if len(next_frequent_itemset) == i and next_frequent_itemset.issubset(y):\n",
    "                    # print('next_frequent_itemset: {}'.format(next_frequent_itemset))\n",
    "                    if frozenset(next_frequent_itemset) not in itemsets:\n",
    "                        itemsets[frozenset(next_frequent_itemset)]=0\n",
    "                    itemsets[frozenset(next_frequent_itemset)]+=1\n",
    "\n",
    "    # Candidate Set\n",
    "    print('Candidate Set C{0}'.format(i))\n",
    "    print('\\t Itemset \\t Support Count')\n",
    "    for x in itemsets.keys():\n",
    "        print('\\t[{}]'.format(', '.join(x)), '\\t {}'.format(itemsets[x]))\n",
    "    \n",
    "    itemsets_support3 = dict((itemset,count)for itemset, count in itemsets.items() if count >= 3)\n",
    "    if len(itemsets_support3) < len(itemsets):\n",
    "        print('Pruning')\n",
    "    else:\n",
    "        print('Pruning Not Required.')\n",
    "\n",
    "    print('L{0} Itemsets with support = 3 are as following: '.format(i))\n",
    "    print('\\tItemset \\tSupport Count')\n",
    "    for x in itemsets_support3.keys():\n",
    "        print('\\t[{}]'.format(', '.join(x)), '\\t\\t {}'.format(itemsets_support3[x]))"
   ]
  }
 ],
 "metadata": {
  "kernelspec": {
   "display_name": "Python 3",
   "language": "python",
   "name": "python3"
  },
  "language_info": {
   "codemirror_mode": {
    "name": "ipython",
    "version": 3
   },
   "file_extension": ".py",
   "mimetype": "text/x-python",
   "name": "python",
   "nbconvert_exporter": "python",
   "pygments_lexer": "ipython3",
   "version": "3.6.4"
  }
 },
 "nbformat": 4,
 "nbformat_minor": 2
}
