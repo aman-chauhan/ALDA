{
 "cells": [
  {
   "cell_type": "markdown",
   "metadata": {},
   "source": [
    "# Q3"
   ]
  },
  {
   "cell_type": "markdown",
   "metadata": {},
   "source": [
    "## Import Libraries"
   ]
  },
  {
   "cell_type": "code",
   "execution_count": 1,
   "metadata": {},
   "outputs": [],
   "source": [
    "from pprint import pprint\n",
    "import itertools\n",
    "import math"
   ]
  },
  {
   "cell_type": "markdown",
   "metadata": {},
   "source": [
    "### (a) Explain what is frequent itemset and give an example of 2-itemset that is frequent itemset with support count = 8."
   ]
  },
  {
   "cell_type": "markdown",
   "metadata": {},
   "source": [
    "**Frequent Itemset:**\n",
    "Itemset is collection of one or more itemsets.\n",
    "Frequent itemset is whose support is greater than or equal to a minimum support threshold defined.\n"
   ]
  },
  {
   "cell_type": "code",
   "execution_count": 2,
   "metadata": {},
   "outputs": [],
   "source": [
    "# Transactions\n",
    "transactions = [(1, frozenset({'B','D','F','H'})),\n",
    "                (2, frozenset({'C','D','F','G'})),\n",
    "                (3, frozenset({'A','D','F','G'})),\n",
    "                (4, frozenset({'A','B','C','D','H'})),\n",
    "                (5, frozenset({'A','C','F','G'})),\n",
    "                (6, frozenset({'D','H'})),\n",
    "                (7, frozenset({'A','B','E','F'})),\n",
    "                (8, frozenset({'A','D','F','G','H'})),\n",
    "                (9, frozenset({'A','C','D','F','G'})),\n",
    "                (10, frozenset({'D','F','G','H'})),\n",
    "                (11, frozenset({'A','C','D','E'})),\n",
    "                (12, frozenset({'B','E','F','H'})),\n",
    "                (13, frozenset({'D','F','G'})),\n",
    "                (14, frozenset({'C','F','G','H'})),\n",
    "                (15, frozenset({'A','C','D','F','H'})),\n",
    "               ]"
   ]
  },
  {
   "cell_type": "code",
   "execution_count": 3,
   "metadata": {},
   "outputs": [
    {
     "name": "stdout",
     "output_type": "stream",
     "text": [
      "Total items in the data set - 8\n",
      "The items are - {'B', 'C', 'A', 'G', 'H', 'D', 'F', 'E'}\n"
     ]
    }
   ],
   "source": [
    "# unique items\n",
    "items = set()\n",
    "for i, x in transactions:\n",
    "    items.update(x)\n",
    "print('Total items in the data set - {}'.format(len(items)))\n",
    "print('The items are - {}'.format(items))"
   ]
  },
  {
   "cell_type": "code",
   "execution_count": 4,
   "metadata": {},
   "outputs": [
    {
     "name": "stdout",
     "output_type": "stream",
     "text": [
      "Itemsets with support = 8 are as following: \n",
      "[F, G]\n",
      "[D, F]\n",
      "Total itemsets with support = 8 are -> 2\n"
     ]
    }
   ],
   "source": [
    "# Itemsets with support >= 1\n",
    "itemsets = {}\n",
    "\n",
    "for x in itertools.combinations(items, 2):\n",
    "    for _, y in transactions:\n",
    "        if set(x).issubset(y):\n",
    "            if frozenset(x) not in itemsets:\n",
    "                itemsets[frozenset(x)]=0\n",
    "            itemsets[frozenset(x)]+=1\n",
    "\n",
    "itemsets_support8 = dict((itemset,count)for itemset, count in itemsets.items() if count >= 8)\n",
    "s = set(itemsets_support8.keys())\n",
    "print('Itemsets with support = 8 are as following: ')\n",
    "for x in s:\n",
    "   print('[{}]'.format(', '.join(x)))\n",
    "print('Total itemsets with support = 8 are -> {}'.format(len(itemsets_support8)))"
   ]
  },
  {
   "cell_type": "markdown",
   "metadata": {},
   "source": [
    "## (b) Explain what is closed frequent itemset and list all of them with supportcount = 8."
   ]
  },
  {
   "cell_type": "markdown",
   "metadata": {},
   "source": [
    "**Closed Frequent Itemset:** \n",
    "It is a frequent itemset that is both closed and its support is greater than or equal to minsup. \n",
    "An itemset is closed in a data set if there exists no superset that has the same support count as this original itemset.\n",
    "Ref: http://www.hypertextbookshop.com/dataminingbook/public_version/contents/chapters/chapter002/section004/blue/page002.html"
   ]
  },
  {
   "cell_type": "code",
   "execution_count": 5,
   "metadata": {},
   "outputs": [
    {
     "name": "stdout",
     "output_type": "stream",
     "text": [
      "Closed Itemsets with support >= 8 are as following: \n",
      "[A]\n",
      "[H]\n",
      "[D]\n",
      "[F]\n",
      "[F, G]\n",
      "[D, F]\n"
     ]
    }
   ],
   "source": [
    "itemsets = {}\n",
    "for i in range(1, len(items)+1):\n",
    "    for x in itertools.combinations(items, i):\n",
    "        for _, y in transactions:\n",
    "            if set(x).issubset(y):\n",
    "                if frozenset(x) not in itemsets:\n",
    "                    itemsets[frozenset(x)]=0\n",
    "                itemsets[frozenset(x)]+=1\n",
    "itemsets\n",
    "\n",
    "itemsets_support8_dict = dict((itemset,count)for itemset, count in itemsets.items() if count >= 8)\n",
    "itemsets_support8 = list(itemsets_support8_dict.keys())\n",
    "\n",
    "# Find closed itemset\n",
    "closed_frequent_itemsets = []\n",
    "for i in range(len(itemsets_support8)):\n",
    "    subsetFound = False\n",
    "    for j in range(i+1,len(itemsets_support8)):\n",
    "        \n",
    "        if itemsets_support8[i].issubset(itemsets_support8[j]) and itemsets_support8_dict[itemsets_support8[i]] <= itemsets_support8_dict[itemsets_support8[j]]:\n",
    "            subsetFound = True\n",
    "            break\n",
    "    \n",
    "    if not subsetFound:\n",
    "        closed_frequent_itemsets.append(itemsets_support8[i])\n",
    "\n",
    "# print('itemsets_support8_dict: {}'.format(itemsets_support8_dict))\n",
    "# s = set(itemsets_support8_dict.keys())\n",
    "# for x in s:\n",
    "#    print('[{}]'.format(', '.join(x)))\n",
    "\n",
    "print('Closed Itemsets with support >= 8 are as following: ')\n",
    "for x in closed_frequent_itemsets:\n",
    "   print('[{}]'.format(', '.join(x)))\n",
    "# print('Closed itemsets with support >= 8 are -> {}'.format(len(itemsets_support8)))   "
   ]
  },
  {
   "cell_type": "markdown",
   "metadata": {},
   "source": [
    "## (c) Explain what is maximal frequent itemset and list all of maximal itemset with support count = 8."
   ]
  },
  {
   "cell_type": "markdown",
   "metadata": {},
   "source": [
    "**Maximal Frequent Itemset:** It is a frequent itemset for which none of its immediate supersets are frequent.\n",
    "Ref: http://www.hypertextbookshop.com/dataminingbook/public_version/contents/chapters/chapter002/section004/blue/page001.html"
   ]
  },
  {
   "cell_type": "code",
   "execution_count": 6,
   "metadata": {},
   "outputs": [
    {
     "name": "stdout",
     "output_type": "stream",
     "text": [
      "Maximal Frequent Itemsets with support >= 8 are as following: \n",
      "[A]\n",
      "[H]\n",
      "[F, G]\n",
      "[D, F]\n"
     ]
    }
   ],
   "source": [
    "itemsets = {}\n",
    "for i in range(1, len(items)+1):\n",
    "    for x in itertools.combinations(items, i):\n",
    "        for _, y in transactions:\n",
    "            if set(x).issubset(y):\n",
    "                if frozenset(x) not in itemsets:\n",
    "                    itemsets[frozenset(x)]=0\n",
    "                itemsets[frozenset(x)]+=1\n",
    "itemsets\n",
    "\n",
    "itemsets_support8_dict = dict((itemset,count)for itemset, count in itemsets.items() if count >= 8)\n",
    "itemsets_support8 = list(itemsets_support8_dict.keys())\n",
    "\n",
    "# Find closed itemset\n",
    "maximal_frequent_itemsets = []\n",
    "for i in range(len(itemsets_support8)):\n",
    "    subsetFound = False\n",
    "    for j in range(i+1,len(itemsets_support8)):\n",
    "        if itemsets_support8[i].issubset(itemsets_support8[j]) and len(itemsets_support8[i])+1 == len(itemsets_support8[j]):\n",
    "                subsetFound = True\n",
    "                break\n",
    "    \n",
    "    if not subsetFound:\n",
    "        maximal_frequent_itemsets.append(itemsets_support8[i])\n",
    "\n",
    "# s = set(itemsets_support8_dict.keys())\n",
    "# for x in s:\n",
    "#    print('[{}]'.format(', '.join(x)))\n",
    "\n",
    "print('Maximal Frequent Itemsets with support >= 8 are as following: ')\n",
    "for x in maximal_frequent_itemsets:\n",
    "   print('[{}]'.format(', '.join(x)))\n",
    "# print('Closed itemsets with support >= 8 are -> {}'.format(len(itemsets_support8))) \n",
    "\n"
   ]
  },
  {
   "cell_type": "markdown",
   "metadata": {},
   "source": [
    "## (d) Compute the support and confidence for association rule {D, F} -> {G}"
   ]
  },
  {
   "cell_type": "code",
   "execution_count": 7,
   "metadata": {},
   "outputs": [
    {
     "name": "stdout",
     "output_type": "stream",
     "text": [
      "Support for association rule {D, F} -> {G} is 0.4\n",
      "Confidence for association rule {D, F} -> {G} is 0.75\n"
     ]
    }
   ],
   "source": [
    "# Support: Fraction of transactions that contains {D,F,G}\n",
    "association_rule_set = frozenset({'D','F','G'})\n",
    "support = 0\n",
    "# for i in range(len(association_rule_set), len(items)+1):\n",
    "#     for x in itertools.combinations(items, i):\n",
    "for _,t in transactions:\n",
    "    # print('Transaction: {}'.format(t))\n",
    "    if association_rule_set.issubset(t):\n",
    "        support += 1\n",
    "print('Support for association rule {{D, F}} -> {{G}} is {}'.format(support/len(transactions)))\n",
    "\n",
    "# Confidence\n",
    "x_set = frozenset({'D','F'})\n",
    "support_x = 0\n",
    "for _,t in transactions:\n",
    "    # print('Transaction: {}'.format(t))\n",
    "    if x_set.issubset(t):\n",
    "        support_x += 1\n",
    "print('Confidence for association rule {{D, F}} -> {{G}} is {}'.format(support/support_x))"
   ]
  }
 ],
 "metadata": {
  "kernelspec": {
   "display_name": "Python 3",
   "language": "python",
   "name": "python3"
  },
  "language_info": {
   "codemirror_mode": {
    "name": "ipython",
    "version": 3
   },
   "file_extension": ".py",
   "mimetype": "text/x-python",
   "name": "python",
   "nbconvert_exporter": "python",
   "pygments_lexer": "ipython3",
   "version": "3.6.4"
  }
 },
 "nbformat": 4,
 "nbformat_minor": 2
}
