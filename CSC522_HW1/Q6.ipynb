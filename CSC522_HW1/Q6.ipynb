{
 "cells": [
  {
   "cell_type": "markdown",
   "metadata": {},
   "source": [
    "# Q6"
   ]
  },
  {
   "cell_type": "markdown",
   "metadata": {},
   "source": [
    "## Import Libraries"
   ]
  },
  {
   "cell_type": "code",
   "execution_count": 1,
   "metadata": {},
   "outputs": [],
   "source": [
    "from scipy import stats\n",
    "\n",
    "import matplotlib.pyplot as plt\n",
    "import numpy as np\n",
    "import os\n",
    "%matplotlib inline"
   ]
  },
  {
   "cell_type": "markdown",
   "metadata": {},
   "source": [
    "## Load Data"
   ]
  },
  {
   "cell_type": "code",
   "execution_count": 2,
   "metadata": {},
   "outputs": [
    {
     "name": "stdout",
     "output_type": "stream",
     "text": [
      "Total Observations - 768\n",
      "\n",
      "Attributes - \n",
      "Glucos\tBloodP\tSkinTh\tBMI\tDiabet\tAge\tClass\n",
      "148.0\t72.0\t35.0\t33.6\t0.627\t50.0\t1\n",
      "85.0\t66.0\t29.0\t26.6\t0.351\t31.0\t0\n",
      "183.0\t64.0\t0.0\t23.3\t0.672\t32.0\t1\n",
      "89.0\t66.0\t23.0\t28.1\t0.167\t21.0\t0\n",
      "137.0\t40.0\t35.0\t43.1\t2.288\t33.0\t1\n",
      "116.0\t74.0\t0.0\t25.6\t0.201\t30.0\t0\n",
      "78.0\t50.0\t32.0\t31.0\t0.248\t26.0\t1\n",
      "115.0\t0.0\t0.0\t35.3\t0.134\t29.0\t0\n",
      "197.0\t70.0\t45.0\t30.5\t0.158\t53.0\t1\n",
      "125.0\t96.0\t0.0\t0.0\t0.232\t54.0\t1\n",
      "...\n",
      "758 more rows.\n"
     ]
    }
   ],
   "source": [
    "data = None\n",
    "with open('Data' + os.sep + 'hw1q6_data.csv') as fp:\n",
    "    data = [x.strip().split(',') for x in fp.readlines()]\n",
    "    \n",
    "headers = data[0]\n",
    "class_field = len(headers)-1\n",
    "data = [[int(x[i]) if i==class_field else float(x[i]) for i in range(len(x))] for x in data[1:]]\n",
    "\n",
    "print('Total Observations - ' + str(len(data)) + '\\n')\n",
    "print('Attributes - ')\n",
    "print('\\t'.join([x[:6] for x in headers]))\n",
    "for i in range(len(data[:10])):\n",
    "    print('\\t'.join(['{}'.format(x) for x in data[i]]))\n",
    "print('...')\n",
    "print(str(len(data)-10) + ' more rows.')"
   ]
  },
  {
   "cell_type": "markdown",
   "metadata": {},
   "source": [
    "## Helper Functions"
   ]
  },
  {
   "cell_type": "code",
   "execution_count": 3,
   "metadata": {},
   "outputs": [],
   "source": [
    "def countPatients(data):\n",
    "    diabetic = 0\n",
    "    nondiabetic = 0\n",
    "    \n",
    "    for i in data[:,6]:\n",
    "        if i == 1:\n",
    "            diabetic += 1\n",
    "        else:\n",
    "            nondiabetic += 1\n",
    "    \n",
    "    return (diabetic, nondiabetic)"
   ]
  },
  {
   "cell_type": "markdown",
   "metadata": {},
   "source": [
    "## (A) Number of diabetic and nondiabetic patients"
   ]
  },
  {
   "cell_type": "code",
   "execution_count": 4,
   "metadata": {},
   "outputs": [
    {
     "name": "stdout",
     "output_type": "stream",
     "text": [
      "Number of diabetic patients in the dataset: 268\n",
      "Number of nondiabetic patients in the dataset: 500\n"
     ]
    }
   ],
   "source": [
    "data = np.asarray(data)\n",
    "diabetic, nondiabetic = countPatients(data)\n",
    "print(f'Number of diabetic patients in the dataset: {diabetic}')\n",
    "print(f'Number of nondiabetic patients in the dataset: {nondiabetic}')"
   ]
  },
  {
   "cell_type": "markdown",
   "metadata": {},
   "source": [
    "## (B) Missing rate for each feature"
   ]
  },
  {
   "cell_type": "code",
   "execution_count": 5,
   "metadata": {},
   "outputs": [
    {
     "name": "stdout",
     "output_type": "stream",
     "text": [
      "Missing Rates:\n",
      "Glucose : 0.65% \n",
      "BloodPressure : 4.56% \n",
      "SkinThickness : 29.56% \n",
      "BMI : 1.43% \n",
      "DiabetesPedigreeFunction : 0.00% \n",
      "Age : 0.00% \n"
     ]
    }
   ],
   "source": [
    "def countMissingValue(data):\n",
    "    missing_values = 0\n",
    "    for i in data:\n",
    "        if i == 0:\n",
    "            missing_values += 1\n",
    "    return '{:.2f}'.format(missing_values/len(data) * 100)\n",
    "    \n",
    "print('Missing Rates:')\n",
    "for i in range(len(headers)-1):\n",
    "    percent = countMissingValue(data[:,i])\n",
    "    print(f'{headers[i]} : {percent}% ')"
   ]
  },
  {
   "cell_type": "markdown",
   "metadata": {},
   "source": [
    "## (C) Methods to handle missing data\n",
    "\n",
    "### Listwise Deletion\n",
    "\n",
    "The most simple method for handling missing data is to simply remove/neglect the rows (objects) having at least one missing attribute and analyze the rest of the data.\n",
    "\n",
    "**Advantages**:\n",
    "- The remaining dataset is complete and accurate.\n",
    "- Most frequently used method in many fields. Therefore it is also called the default option in many statistical procedures in statistical libraries. \n",
    "\n",
    "**Disadvantages**: \n",
    "- Reduced sample size caused by removing incomplete data\n",
    "- If there is not a large sample or the assumption of missing completely at random is not satisfied, this is not the optimal strategy.\t\t\n",
    "- It increases chance of having a biased dataset to be substantial if data is not most completely at random.\n",
    "\n",
    "---\n",
    "\n",
    "### Mean Substitution\n",
    "\n",
    "As the name suggests, the missing data value for the attribute of a row(object) is replaced by mean value of that attribute in place of that. \t\t\t\t\t \t\t\t\t\n",
    "\n",
    "**Advantages**:\n",
    "- Allows the whole data to be used for analysis in a given incomplete dataset.\n",
    "- As mean seems a reasonable estimate for a randomly selected observation from given normal distribution.\n",
    "\n",
    "**Disadvantages**: \t\t\n",
    "- For missing values that are not strictly random, especially in presence of a great inequality in number of missing values for different variables, the mean substitution method may lead to inconsistent bias. \n",
    "- May underestimate the error."
   ]
  },
  {
   "cell_type": "markdown",
   "metadata": {},
   "source": [
    "## Removing missing data, rows of patient"
   ]
  },
  {
   "cell_type": "code",
   "execution_count": 6,
   "metadata": {},
   "outputs": [
    {
     "name": "stdout",
     "output_type": "stream",
     "text": [
      "Total Observations - 532\n",
      "\n",
      "Attributes - \n",
      "Glucos\tBloodP\tSkinTh\tBMI\tDiabet\tAge\tClass\n",
      "148.0\t72.0\t35.0\t33.6\t0.627\t50.0\t1.0\n",
      "85.0\t66.0\t29.0\t26.6\t0.351\t31.0\t0.0\n",
      "89.0\t66.0\t23.0\t28.1\t0.167\t21.0\t0.0\n",
      "137.0\t40.0\t35.0\t43.1\t2.288\t33.0\t1.0\n",
      "78.0\t50.0\t32.0\t31.0\t0.248\t26.0\t1.0\n",
      "197.0\t70.0\t45.0\t30.5\t0.158\t53.0\t1.0\n",
      "189.0\t60.0\t23.0\t30.1\t0.398\t59.0\t1.0\n",
      "166.0\t72.0\t19.0\t25.8\t0.587\t51.0\t1.0\n",
      "118.0\t84.0\t47.0\t45.8\t0.551\t31.0\t1.0\n",
      "103.0\t30.0\t38.0\t43.3\t0.183\t33.0\t0.0\n",
      "...\n",
      "522 more rows.\n"
     ]
    }
   ],
   "source": [
    "remaining_data = data[(data[:,0:6]!=0).all(1)]\n",
    "print('Total Observations - ' + str(len(remaining_data)) + '\\n')\n",
    "print('Attributes - ')\n",
    "print('\\t'.join([x[:6] for x in headers]))\n",
    "for i in range(len(remaining_data[:10])):\n",
    "    print('\\t'.join(['{}'.format(x) for x in remaining_data[i]]))\n",
    "print('...')\n",
    "print(str(len(remaining_data)-10) + ' more rows.')"
   ]
  },
  {
   "cell_type": "code",
   "execution_count": 7,
   "metadata": {},
   "outputs": [
    {
     "name": "stdout",
     "output_type": "stream",
     "text": [
      "After removing missing data, missing Rates:\n",
      "Glucose : 0.00%\n",
      "BloodPressure : 0.00%\n",
      "SkinThickness : 0.00%\n",
      "BMI : 0.00%\n",
      "DiabetesPedigreeFunction : 0.00%\n",
      "Age : 0.00%\n"
     ]
    }
   ],
   "source": [
    "print('After removing missing data, missing Rates:')\n",
    "for i in range(len(headers)-1):\n",
    "    percent = countMissingValue(remaining_data[:,i])\n",
    "    print(f'{headers[i]} : {percent}%')"
   ]
  },
  {
   "cell_type": "markdown",
   "metadata": {},
   "source": [
    "## (D) Number of diabetic and nondiabetic patients in remaining data"
   ]
  },
  {
   "cell_type": "code",
   "execution_count": 8,
   "metadata": {},
   "outputs": [
    {
     "name": "stdout",
     "output_type": "stream",
     "text": [
      "Number of diabetic patients in the dataset: 177\n",
      "Number of nondiabetic patients in the dataset: 355\n"
     ]
    }
   ],
   "source": [
    "diabetic, nondiabetic = countPatients(remaining_data)\n",
    "print(f'Number of diabetic patients in the dataset: {diabetic}')\n",
    "print(f'Number of nondiabetic patients in the dataset: {nondiabetic}')"
   ]
  },
  {
   "cell_type": "markdown",
   "metadata": {},
   "source": [
    "## (E) Summary Statistics"
   ]
  },
  {
   "cell_type": "code",
   "execution_count": 9,
   "metadata": {},
   "outputs": [
    {
     "name": "stdout",
     "output_type": "stream",
     "text": [
      "After removing missing data, Statistics:\n",
      "\n",
      "Glucose :-> Mean: 121.030, \n",
      "\t Median: 115.000, \n",
      "\t Standard Deviation: 30.970, \n",
      "\t Range: 143.000, \n",
      "\t 25th percentile: 98.750, \n",
      "\t 50th percentile: 115.000, \n",
      "\t 75th percentile: 141.250\n",
      "\n",
      "BloodPressure :-> Mean: 71.506, \n",
      "\t Median: 72.000, \n",
      "\t Standard Deviation: 12.299, \n",
      "\t Range: 86.000, \n",
      "\t 25th percentile: 64.000, \n",
      "\t 50th percentile: 72.000, \n",
      "\t 75th percentile: 80.000\n",
      "\n",
      "SkinThickness :-> Mean: 29.182, \n",
      "\t Median: 29.000, \n",
      "\t Standard Deviation: 10.514, \n",
      "\t Range: 92.000, \n",
      "\t 25th percentile: 22.000, \n",
      "\t 50th percentile: 29.000, \n",
      "\t 75th percentile: 36.000\n",
      "\n",
      "BMI :-> Mean: 32.890, \n",
      "\t Median: 32.800, \n",
      "\t Standard Deviation: 6.875, \n",
      "\t Range: 48.900, \n",
      "\t 25th percentile: 27.875, \n",
      "\t 50th percentile: 32.800, \n",
      "\t 75th percentile: 36.900\n",
      "\n",
      "DiabetesPedigreeFunction :-> Mean: 0.503, \n",
      "\t Median: 0.416, \n",
      "\t Standard Deviation: 0.344, \n",
      "\t Range: 2.335, \n",
      "\t 25th percentile: 0.259, \n",
      "\t 50th percentile: 0.416, \n",
      "\t 75th percentile: 0.659\n",
      "\n",
      "Age :-> Mean: 31.615, \n",
      "\t Median: 28.000, \n",
      "\t Standard Deviation: 10.751, \n",
      "\t Range: 60.000, \n",
      "\t 25th percentile: 23.000, \n",
      "\t 50th percentile: 28.000, \n",
      "\t 75th percentile: 38.000\n"
     ]
    }
   ],
   "source": [
    "print('After removing missing data, Statistics:')\n",
    "for i in range(len(headers)-1):\n",
    "    mean = np.average(remaining_data[:,i])\n",
    "    median = np.median(remaining_data[:,i])\n",
    "    std_deviation = np.std(remaining_data[:,i])\n",
    "    data_range = np.ptp(remaining_data[:,i])\n",
    "    percentile_25 = np.percentile(remaining_data[:,i],25)\n",
    "    percentile_50 = np.percentile(remaining_data[:,i],50)\n",
    "    percentile_75 = np.percentile(remaining_data[:,i],75)\n",
    "    print(f'\\n{headers[i]} :-> Mean: {mean:.3f}, \\n\\t Median: {median:.3f}, \\n\\t Standard Deviation: {std_deviation:.3f}, \\n\\t Range: {data_range:.3f}, '\n",
    "          f'\\n\\t 25th percentile: {percentile_25:.3f}, \\n\\t 50th percentile: {percentile_50:.3f}, \\n\\t 75th percentile: {percentile_75:.3f}')"
   ]
  },
  {
   "cell_type": "markdown",
   "metadata": {},
   "source": [
    "## (F) Histograms for Blood Pressure and Diabetes Pedigree Function"
   ]
  },
  {
   "cell_type": "code",
   "execution_count": 10,
   "metadata": {},
   "outputs": [
    {
     "data": {
      "image/png": "[encoded data removed]",
      "text/plain": [
       "<Figure size 576x432 with 1 Axes>"
      ]
     },
     "metadata": {},
     "output_type": "display_data"
    }
   ],
   "source": [
    "#Histogram for Blood Pressure\n",
    "bins = np.histogram(remaining_data[:,1])\n",
    "fig, axes = plt.subplots(nrows=1, ncols=1)\n",
    "fig.set_figheight(6)\n",
    "fig.set_figwidth(8)\n",
    "axes.set_title('Histogram for Diastolic Blood Pressure (10 bins)')\n",
    "axes.set_xlabel(headers[1])\n",
    "axes.set_ylabel('Frequency')\n",
    "axes.hist(remaining_data[:,1], bins[1])\n",
    "plt.show()"
   ]
  },
  {
   "cell_type": "code",
   "execution_count": 11,
   "metadata": {},
   "outputs": [
    {
     "data": {
      "image/png": "[encoded data removed]",
      "text/plain": [
       "<Figure size 576x432 with 1 Axes>"
      ]
     },
     "metadata": {},
     "output_type": "display_data"
    }
   ],
   "source": [
    "#Histogram for DiabetesPedigreeFunction\n",
    "bins = np.histogram(remaining_data[:,4])\n",
    "fig, axes = plt.subplots(nrows=1, ncols=1)\n",
    "fig.set_figheight(6)\n",
    "fig.set_figwidth(8)\n",
    "axes.set_title('Histogram for Diabetes Pedigree Function (10 bins)')\n",
    "axes.set_xlabel(headers[4])\n",
    "axes.set_ylabel('Frequency')\n",
    "axes.hist(remaining_data[:,4], bins[1])\n",
    "plt.show()"
   ]
  },
  {
   "cell_type": "code",
   "execution_count": 12,
   "metadata": {},
   "outputs": [
    {
     "data": {
      "image/png": "[encoded data removed]",
      "text/plain": [
       "<Figure size 1152x576 with 2 Axes>"
      ]
     },
     "metadata": {},
     "output_type": "display_data"
    }
   ],
   "source": [
    "fig, axes = plt.subplots(nrows=1, ncols=2)\n",
    "fig.set_figheight(8)\n",
    "fig.set_figwidth(16)\n",
    "stats.probplot(remaining_data[:,1], plot=axes[0])\n",
    "stats.probplot(remaining_data[:,4], plot=axes[1])\n",
    "axes[0].set_title('QQ Plot for Blood Pressure')\n",
    "axes[1].set_title('QQ Plot for Diabetes Pedigree Function')\n",
    "plt.show()"
   ]
  },
  {
   "cell_type": "markdown",
   "metadata": {},
   "source": [
    "## (G) QQ Plot Analysis\n",
    "\n",
    "QQ Plot is often used to compare the distribution of data with the standard normal distibution. This helps us in predicting the shape of the distribution and figure out how to select outliers.\n",
    "\n",
    "If we extend the zero point on x-axis to the red line, the y co-ordinate of that intersection will be the mean of our distribution. We compare the other points with a horizontal line parallel to x-axis that passes through that intersection. The red line then dictates how far the points should be from the mean if our distribution is similar to the standard normal distribution.\n",
    "\n",
    "Long tails mean that the values at extremes of the distribution have a higher chance of occuring when compared with the standard normal distribution. Short tails mean that there are limited values with significant probability of occuring compared to the standard normal distribution.\n",
    "\n",
    "- QQ Plot for Blood Pressure - We can see that on the left hand of 0 on the x-axis, the values are deviating from the red line and ***away*** from mean. This means that the distribution of Blood Pressure has a ***long left tail***. Similarly, the values on to the right of 0 are also deviating from the red line and ***away*** from the mean, which means that the Blood Pressure distribution has a ***long right tail***.\n",
    "- QQ Plot for Diabetes Pedigree Function - We can see that on the left hand of 0 on the x-axis, the values are deviating largely from the red line and ***towards*** the mean. This means that the distribution of Diabetes Pedigree Function has a ***very short left tail***. On the contrary, the values to the right of 0 are deviating largely from the red line but ***away*** from the mean, which mean that Diabetes Pedigree Function distibution has a ***long right tail***.\n",
    "\n",
    "These conclusions can be backed by looking at the histograms we plotted above. They show the same structure as suggested here."
   ]
  }
 ],
 "metadata": {
  "kernelspec": {
   "display_name": "Python 3",
   "language": "python",
   "name": "python3"
  },
  "language_info": {
   "codemirror_mode": {
    "name": "ipython",
    "version": 3
   },
   "file_extension": ".py",
   "mimetype": "text/x-python",
   "name": "python",
   "nbconvert_exporter": "python",
   "pygments_lexer": "ipython3",
   "version": "3.6.4"
  }
 },
 "nbformat": 4,
 "nbformat_minor": 2
}
