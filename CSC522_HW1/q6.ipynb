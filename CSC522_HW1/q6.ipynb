{
 "cells": [
  {
   "cell_type": "markdown",
   "metadata": {},
   "source": [
    "# Q6"
   ]
  },
  {
   "cell_type": "markdown",
   "metadata": {},
   "source": [
    "## Import Libraries"
   ]
  },
  {
   "cell_type": "code",
   "execution_count": 91,
   "metadata": {},
   "outputs": [],
   "source": [
    "import os\n",
    "import numpy as np"
   ]
  },
  {
   "cell_type": "markdown",
   "metadata": {},
   "source": [
    "## Load Data"
   ]
  },
  {
   "cell_type": "code",
   "execution_count": 98,
   "metadata": {},
   "outputs": [
    {
     "name": "stdout",
     "output_type": "stream",
     "text": [
      "Attributes - \n",
      "Glucose, BloodPressure, SkinThickness, BMI, DiabetesPedigreeFunction, Age, Class\n",
      "\n",
      "Shape of loaded dataset - \n",
      "(768, 7)\n"
     ]
    }
   ],
   "source": [
    "data = None\n",
    "with open('Data' + os.sep + 'hw1q6_data.csv') as fp:\n",
    "    data = [x.strip().split(',') for x in fp.readlines()]\n",
    "    \n",
    "headers = data[0]\n",
    "class_field = len(headers)-1\n",
    "data = [[int(x[i]) if i==class_field else float(x[i]) for i in range(len(x))] for x in data[1:]]\n",
    "data = np.asarray(data)\n",
    "\n",
    "print('Attributes - ')\n",
    "print(', '.join(headers))\n",
    "print()\n",
    "print('Shape of loaded dataset - ')\n",
    "print(data.shape)\n",
    "#     csv_reader = csv.reader(csv_file, delimiter=',')\n",
    "#     line_count = 0\n",
    "#     for row in csv_reader:\n",
    "#         if line_count == 0:\n",
    "#             print(f'Column names are {\", \".join(row)}')\n",
    "#             line_count += 1\n",
    "#         else:\n",
    "#             print(f'\\t{row[0]},{row[1]},{row[2]},{row[3]},{row[4]},{row[5]},{row[6]}')\n",
    "#             line_count += 1\n",
    "#     print(f'Processed {line_count} lines.')"
   ]
  },
  {
   "cell_type": "code",
   "execution_count": 99,
   "metadata": {},
   "outputs": [
    {
     "data": {
      "text/plain": [
       "array([[148.   ,  72.   ,  35.   , ...,   0.627,  50.   ,   1.   ],\n",
       "       [ 85.   ,  66.   ,  29.   , ...,   0.351,  31.   ,   0.   ],\n",
       "       [183.   ,  64.   ,   0.   , ...,   0.672,  32.   ,   1.   ],\n",
       "       ...,\n",
       "       [121.   ,  72.   ,  23.   , ...,   0.245,  30.   ,   0.   ],\n",
       "       [126.   ,  60.   ,   0.   , ...,   0.349,  47.   ,   1.   ],\n",
       "       [ 93.   ,  70.   ,  31.   , ...,   0.315,  23.   ,   0.   ]])"
      ]
     },
     "execution_count": 99,
     "metadata": {},
     "output_type": "execute_result"
    }
   ],
   "source": [
    "data"
   ]
  },
  {
   "cell_type": "markdown",
   "metadata": {},
   "source": [
    "## Helper Functions"
   ]
  },
  {
   "cell_type": "code",
   "execution_count": 100,
   "metadata": {},
   "outputs": [],
   "source": [
    "def countPatients(data):\n",
    "    diabetic = 0\n",
    "    nondiabetic = 0\n",
    "    \n",
    "    # np.bincount(data[:,6])\n",
    "    for i in data[:,6]:\n",
    "        if i == 1:\n",
    "            diabetic += 1\n",
    "        else:\n",
    "            nondiabetic += 1\n",
    "    \n",
    "    return (diabetic, nondiabetic)"
   ]
  },
  {
   "cell_type": "markdown",
   "metadata": {},
   "source": [
    "## (A) Number of diabetic and nondiabetic patients"
   ]
  },
  {
   "cell_type": "code",
   "execution_count": 101,
   "metadata": {},
   "outputs": [
    {
     "name": "stdout",
     "output_type": "stream",
     "text": [
      "Number of diabetic patients in the dataset: 268\n",
      "Number of nondiabetic patients in the dataset: 500\n"
     ]
    }
   ],
   "source": [
    "diabetic, nondiabetic = countPatients(data)\n",
    "print(f'Number of diabetic patients in the dataset: {diabetic}')\n",
    "print(f'Number of nondiabetic patients in the dataset: {nondiabetic}')"
   ]
  },
  {
   "cell_type": "markdown",
   "metadata": {},
   "source": [
    "## (B) Missing rate for each feature"
   ]
  },
  {
   "cell_type": "code",
   "execution_count": 114,
   "metadata": {},
   "outputs": [
    {
     "name": "stdout",
     "output_type": "stream",
     "text": [
      "Missing Rates:\n",
      "Glucose : 0.6510416666666667 \n",
      "BloodPressure : 4.557291666666666 \n",
      "SkinThickness : 29.557291666666668 \n",
      "BMI : 1.4322916666666665 \n",
      "DiabetesPedigreeFunction : 0.0 \n",
      "Age : 0.0 \n"
     ]
    }
   ],
   "source": [
    "def countMissingValue(data):\n",
    "    missing_values = 0\n",
    "    for i in data:\n",
    "        if i == 0:\n",
    "            missing_values += 1\n",
    "    return missing_values/len(data) * 100\n",
    "    \n",
    "print('Missing Rates:')\n",
    "for i in range(len(headers)-1):\n",
    "    percent = countMissingValue(data[:,i])\n",
    "    print(f'{headers[i]} : {percent} ')"
   ]
  },
  {
   "cell_type": "markdown",
   "metadata": {},
   "source": [
    "## Removing missing data, rows of patient"
   ]
  },
  {
   "cell_type": "code",
   "execution_count": 115,
   "metadata": {},
   "outputs": [
    {
     "name": "stdout",
     "output_type": "stream",
     "text": [
      "<class 'numpy.ndarray'>\n"
     ]
    },
    {
     "data": {
      "text/plain": [
       "array([[148.   ,  72.   ,  35.   , ...,   0.627,  50.   ,   1.   ],\n",
       "       [ 85.   ,  66.   ,  29.   , ...,   0.351,  31.   ,   0.   ],\n",
       "       [ 89.   ,  66.   ,  23.   , ...,   0.167,  21.   ,   0.   ],\n",
       "       ...,\n",
       "       [122.   ,  70.   ,  27.   , ...,   0.34 ,  27.   ,   0.   ],\n",
       "       [121.   ,  72.   ,  23.   , ...,   0.245,  30.   ,   0.   ],\n",
       "       [ 93.   ,  70.   ,  31.   , ...,   0.315,  23.   ,   0.   ]])"
      ]
     },
     "execution_count": 115,
     "metadata": {},
     "output_type": "execute_result"
    }
   ],
   "source": [
    "missing_data = (data == 0).sum(1)\n",
    "#remaining_data = data[missing_data == 0, :]\n",
    "print(type(data))\n",
    "remaining_data = data[(data[:,0:5]!=0).all(1)]\n",
    "remaining_data"
   ]
  },
  {
   "cell_type": "code",
   "execution_count": 116,
   "metadata": {},
   "outputs": [
    {
     "name": "stdout",
     "output_type": "stream",
     "text": [
      "Missing Rates:\n",
      "Glucose : 0.0 \n",
      "BloodPressure : 0.0 \n",
      "SkinThickness : 0.0 \n",
      "BMI : 0.0 \n",
      "DiabetesPedigreeFunction : 0.0 \n",
      "Age : 0.0 \n"
     ]
    }
   ],
   "source": [
    "print('After removing missing data, missing Rates:')\n",
    "for i in range(len(headers)-1):\n",
    "    percent = countMissingValue(remaining_data[:,i])\n",
    "    print(f'{headers[i]} : {percent} ')"
   ]
  },
  {
   "cell_type": "markdown",
   "metadata": {},
   "source": [
    "## (D) Number of diabetic and nondiabetic patients in remaining data"
   ]
  },
  {
   "cell_type": "code",
   "execution_count": 120,
   "metadata": {},
   "outputs": [
    {
     "name": "stdout",
     "output_type": "stream",
     "text": [
      "Number of diabetic patients in the dataset: 177\n",
      "Number of nondiabetic patients in the dataset: 355\n"
     ]
    }
   ],
   "source": [
    "diabetic, nondiabetic = countPatients(remaining_data)\n",
    "print(f'Number of diabetic patients in the dataset: {diabetic}')\n",
    "print(f'Number of nondiabetic patients in the dataset: {nondiabetic}')"
   ]
  },
  {
   "cell_type": "code",
   "execution_count": 126,
   "metadata": {},
   "outputs": [
    {
     "name": "stdout",
     "output_type": "stream",
     "text": [
      "After removing missing data, Statistics:\n",
      "\n",
      "Glucose :-> Mean: 121.03007518796993, \n",
      "\t Median: 115.0, \n",
      "\t Standard Deviation: 30.970077688382087, \n",
      "\t Range: 143.0, \n",
      "\t 25th percentile: 98.75, \n",
      "\t 50th percentile: 115.0, \n",
      "\t 75th percentile: 141.25  \n",
      "\n",
      "BloodPressure :-> Mean: 71.50563909774436, \n",
      "\t Median: 72.0, \n",
      "\t Standard Deviation: 12.298678262218631, \n",
      "\t Range: 86.0, \n",
      "\t 25th percentile: 64.0, \n",
      "\t 50th percentile: 72.0, \n",
      "\t 75th percentile: 80.0  \n",
      "\n",
      "SkinThickness :-> Mean: 29.18233082706767, \n",
      "\t Median: 29.0, \n",
      "\t Standard Deviation: 10.51398226832601, \n",
      "\t Range: 92.0, \n",
      "\t 25th percentile: 22.0, \n",
      "\t 50th percentile: 29.0, \n",
      "\t 75th percentile: 36.0  \n",
      "\n",
      "BMI :-> Mean: 32.89022556390977, \n",
      "\t Median: 32.8, \n",
      "\t Standard Deviation: 6.874638633419096, \n",
      "\t Range: 48.89999999999999, \n",
      "\t 25th percentile: 27.874999999999996, \n",
      "\t 50th percentile: 32.8, \n",
      "\t 75th percentile: 36.9  \n",
      "\n",
      "DiabetesPedigreeFunction :-> Mean: 0.5029661654135338, \n",
      "\t Median: 0.416, \n",
      "\t Standard Deviation: 0.34422227745866446, \n",
      "\t Range: 2.335, \n",
      "\t 25th percentile: 0.25875000000000004, \n",
      "\t 50th percentile: 0.416, \n",
      "\t 75th percentile: 0.6585000000000001  \n",
      "\n",
      "Age :-> Mean: 31.61466165413534, \n",
      "\t Median: 28.0, \n",
      "\t Standard Deviation: 10.751464810071871, \n",
      "\t Range: 60.0, \n",
      "\t 25th percentile: 23.0, \n",
      "\t 50th percentile: 28.0, \n",
      "\t 75th percentile: 38.0  \n"
     ]
    }
   ],
   "source": [
    "print('After removing missing data, Statistics:')\n",
    "for i in range(len(headers)-1):\n",
    "    mean = np.average(remaining_data[:,i])\n",
    "    median = np.median(remaining_data[:,i])\n",
    "    std_deviation = np.std(remaining_data[:,i])\n",
    "    data_range = np.ptp(remaining_data[:,i])\n",
    "    percentile_25 = np.percentile(remaining_data[:,i],25)\n",
    "    percentile_50 = np.percentile(remaining_data[:,i],50)\n",
    "    percentile_75 = np.percentile(remaining_data[:,i],75)\n",
    "    print(f'\\n{headers[i]} :-> Mean: {mean}, \\n\\t Median: {median}, \\n\\t Standard Deviation: {std_deviation}, \\n\\t Range: {data_range}, '\n",
    "          f'\\n\\t 25th percentile: {percentile_25}, \\n\\t 50th percentile: {percentile_50}, \\n\\t 75th percentile: {percentile_75}  ')"
   ]
  },
  {
   "cell_type": "code",
   "execution_count": 127,
   "metadata": {},
   "outputs": [
    {
     "data": {
      "text/plain": [
       "(array([  3,   2,   9,  57, 114, 152, 119,  60,   8,   8]),\n",
       " array([ 24. ,  32.6,  41.2,  49.8,  58.4,  67. ,  75.6,  84.2,  92.8,\n",
       "        101.4, 110. ]))"
      ]
     },
     "execution_count": 127,
     "metadata": {},
     "output_type": "execute_result"
    }
   ],
   "source": [
    "#Histogram for Blood Pressure\n",
    "np.histogram(remaining_data[:,1])"
   ]
  },
  {
   "cell_type": "code",
   "execution_count": null,
   "metadata": {},
   "outputs": [],
   "source": [
    "#Histogram for \n",
    "np.histogram(remaining_data[:,])"
   ]
  }
 ],
 "metadata": {
  "kernelspec": {
   "display_name": "Python 3",
   "language": "python",
   "name": "python3"
  },
  "language_info": {
   "codemirror_mode": {
    "name": "ipython",
    "version": 3
   },
   "file_extension": ".py",
   "mimetype": "text/x-python",
   "name": "python",
   "nbconvert_exporter": "python",
   "pygments_lexer": "ipython3",
   "version": "3.6.4"
  }
 },
 "nbformat": 4,
 "nbformat_minor": 2
}
