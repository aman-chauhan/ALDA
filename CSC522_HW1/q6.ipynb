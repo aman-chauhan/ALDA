{
 "cells": [
  {
   "cell_type": "markdown",
   "metadata": {},
   "source": [
    "# Q6"
   ]
  },
  {
   "cell_type": "markdown",
   "metadata": {},
   "source": [
    "## Import Libraries"
   ]
  },
  {
   "cell_type": "code",
   "execution_count": null,
   "metadata": {},
   "outputs": [],
   "source": [
    "import os\n",
    "import numpy as np"
   ]
  },
  {
   "cell_type": "markdown",
   "metadata": {},
   "source": [
    "## Load Data"
   ]
  },
  {
   "cell_type": "code",
   "execution_count": null,
   "metadata": {},
   "outputs": [],
   "source": [
    "data = None\n",
    "with open('Data' + os.sep + 'hw1q6_data.csv') as fp:\n",
    "    data = [x.strip().split(',') for x in fp.readlines()]\n",
    "    \n",
    "headers = data[0]\n",
    "class_field = len(headers)-1\n",
    "data = [[int(x[i]) if i==class_field else float(x[i]) for i in range(len(x))] for x in data[1:]]\n",
    "data = np.asarray(data)\n",
    "\n",
    "print('Attributes - ')\n",
    "print(', '.join(headers))\n",
    "print()\n",
    "print('Shape of loaded dataset - ')\n",
    "print(data.shape)\n",
    "#     csv_reader = csv.reader(csv_file, delimiter=',')\n",
    "#     line_count = 0\n",
    "#     for row in csv_reader:\n",
    "#         if line_count == 0:\n",
    "#             print(f'Column names are {\", \".join(row)}')\n",
    "#             line_count += 1\n",
    "#         else:\n",
    "#             print(f'\\t{row[0]},{row[1]},{row[2]},{row[3]},{row[4]},{row[5]},{row[6]}')\n",
    "#             line_count += 1\n",
    "#     print(f'Processed {line_count} lines.')"
   ]
  },
  {
   "cell_type": "code",
   "execution_count": null,
   "metadata": {},
   "outputs": [],
   "source": [
    "data"
   ]
  },
  {
   "cell_type": "markdown",
   "metadata": {},
   "source": [
    "## Helper Functions"
   ]
  },
  {
   "cell_type": "code",
   "execution_count": null,
   "metadata": {},
   "outputs": [],
   "source": [
    "def countPatients(data):\n",
    "    diabetic = 0\n",
    "    nondiabetic = 0\n",
    "    \n",
    "    # np.bincount(data[:,6])\n",
    "    for i in data[:,6]:\n",
    "        if i == 1:\n",
    "            diabetic += 1\n",
    "        else:\n",
    "            nondiabetic += 1\n",
    "    \n",
    "    return (diabetic, nondiabetic)"
   ]
  },
  {
   "cell_type": "markdown",
   "metadata": {},
   "source": [
    "## (A) Number of diabetic and nondiabetic patients"
   ]
  },
  {
   "cell_type": "code",
   "execution_count": null,
   "metadata": {},
   "outputs": [],
   "source": [
    "diabetic, nondiabetic = countPatients(data)\n",
    "print(f'Number of diabetic patients in the dataset: {diabetic}')\n",
    "print(f'Number of nondiabetic patients in the dataset: {nondiabetic}')"
   ]
  },
  {
   "cell_type": "markdown",
   "metadata": {},
   "source": [
    "## (B) Missing rate for each feature"
   ]
  },
  {
   "cell_type": "code",
   "execution_count": null,
   "metadata": {},
   "outputs": [],
   "source": [
    "def countMissingValue(data):\n",
    "    missing_values = 0\n",
    "    for i in data:\n",
    "        if i == 0:\n",
    "            missing_values += 1\n",
    "    return missing_values/len(data) * 100\n",
    "    \n",
    "print('Missing Rates:')\n",
    "for i in range(len(headers)-1):\n",
    "    percent = countMissingValue(data[:,i])\n",
    "    print(f'{headers[i]} : {percent} ')"
   ]
  },
  {
   "cell_type": "markdown",
   "metadata": {},
   "source": [
    "## Removing missing data, rows of patient"
   ]
  },
  {
   "cell_type": "code",
   "execution_count": null,
   "metadata": {},
   "outputs": [],
   "source": [
    "missing_data = (data == 0).sum(1)\n",
    "#remaining_data = data[missing_data == 0, :]\n",
    "print(type(data))\n",
    "remaining_data = data[(data[:,0:5]!=0).all(1)]\n",
    "remaining_data"
   ]
  },
  {
   "cell_type": "code",
   "execution_count": null,
   "metadata": {},
   "outputs": [],
   "source": [
    "print('After removing missing data, missing Rates:')\n",
    "for i in range(len(headers)-1):\n",
    "    percent = countMissingValue(remaining_data[:,i])\n",
    "    print(f'{headers[i]} : {percent} ')"
   ]
  },
  {
   "cell_type": "markdown",
   "metadata": {},
   "source": [
    "## (D) Number of diabetic and nondiabetic patients in remaining data"
   ]
  },
  {
   "cell_type": "code",
   "execution_count": null,
   "metadata": {},
   "outputs": [],
   "source": [
    "diabetic, nondiabetic = countPatients(remaining_data)\n",
    "print(f'Number of diabetic patients in the dataset: {diabetic}')\n",
    "print(f'Number of nondiabetic patients in the dataset: {nondiabetic}')"
   ]
  },
  {
   "cell_type": "code",
   "execution_count": null,
   "metadata": {},
   "outputs": [],
   "source": [
    "print('After removing missing data, Statistics:')\n",
    "for i in range(len(headers)-1):\n",
    "    mean = np.average(remaining_data[:,i])\n",
    "    median = np.median(remaining_data[:,i])\n",
    "    std_deviation = np.std(remaining_data[:,i])\n",
    "    data_range = np.ptp(remaining_data[:,i])\n",
    "    percentile_25 = np.percentile(remaining_data[:,i],25)\n",
    "    percentile_50 = np.percentile(remaining_data[:,i],50)\n",
    "    percentile_75 = np.percentile(remaining_data[:,i],75)\n",
    "    print(f'\\n{headers[i]} :-> Mean: {mean}, \\n\\t Median: {median}, \\n\\t Standard Deviation: {std_deviation}, \\n\\t Range: {data_range}, '\n",
    "          f'\\n\\t 25th percentile: {percentile_25}, \\n\\t 50th percentile: {percentile_50}, \\n\\t 75th percentile: {percentile_75}  ')"
   ]
  },
  {
   "cell_type": "code",
   "execution_count": null,
   "metadata": {},
   "outputs": [],
   "source": [
    "#Histogram for Blood Pressure\n",
    "np.histogram(remaining_data[:,1])"
   ]
  },
  {
   "cell_type": "code",
   "execution_count": null,
   "metadata": {},
   "outputs": [],
   "source": [
    "#Histogram for \n",
    "np.histogram(remaining_data[:,])"
   ]
  }
 ],
 "metadata": {
  "kernelspec": {
   "display_name": "Python 3",
   "language": "python",
   "name": "python3"
  },
  "language_info": {
   "codemirror_mode": {
    "name": "ipython",
    "version": 3
   },
   "file_extension": ".py",
   "mimetype": "text/x-python",
   "name": "python",
   "nbconvert_exporter": "python",
   "pygments_lexer": "ipython3",
   "version": "3.6.5"
  }
 },
 "nbformat": 4,
 "nbformat_minor": 2
}
