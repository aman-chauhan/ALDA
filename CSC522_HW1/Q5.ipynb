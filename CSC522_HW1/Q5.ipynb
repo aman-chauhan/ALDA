{
 "cells": [
  {
   "cell_type": "markdown",
   "metadata": {},
   "source": [
    "# Q5"
   ]
  },
  {
   "cell_type": "markdown",
   "metadata": {},
   "source": [
    "## Import the libraries"
   ]
  },
  {
   "cell_type": "code",
   "execution_count": null,
   "metadata": {
    "scrolled": false
   },
   "outputs": [],
   "source": [
    "import scipy.spatial.distance as dist\n",
    "import matplotlib.pyplot as plt\n",
    "import numpy as np\n",
    "import os\n",
    "%matplotlib inline"
   ]
  },
  {
   "cell_type": "markdown",
   "metadata": {},
   "source": [
    "## Load the data"
   ]
  },
  {
   "cell_type": "code",
   "execution_count": null,
   "metadata": {
    "scrolled": false
   },
   "outputs": [],
   "source": [
    "data = None\n",
    "with open('Data' + os.sep + 'seeds.csv') as fp:\n",
    "    data = [x.strip().split(',') for x in fp.readlines()]\n",
    "\n",
    "headers = data[0]\n",
    "class_field = len(headers)-1\n",
    "data = [[int(x[i]) if i==class_field else float(x[i]) for i in range(len(x))] for x in data[1:]]\n",
    "data = np.asarray(data)\n",
    "\n",
    "print('Attributes - ')\n",
    "print('\\t'.join([x[:6] for x in headers]))\n",
    "for i in range(len(data[:10])):\n",
    "    print('\\t'.join(['{0:.3f}'.format(x) for x in data[i]]))\n",
    "print('...')\n",
    "print(str(len(data)-10) + ' more rows.')"
   ]
  },
  {
   "cell_type": "code",
   "execution_count": null,
   "metadata": {
    "scrolled": false
   },
   "outputs": [],
   "source": [
    "types = {'[ORIGINAL]': None, '[NORMALIZED]': None, '[STANDARDIZED]': None}\n",
    "type_names = ['[ORIGINAL]', '[NORMALIZED]', '[STANDARDIZED]']\n",
    "dists = {'[EUCLIDEAN]': dist.euclidean,\n",
    "         '[MAHALANOBIS]': dist.mahalanobis,\n",
    "         '[CITY BLOCK]': dist.cityblock,\n",
    "         '[MINKOWSKI (R=3)]': dist.minkowski,\n",
    "         '[CHEBYSHEV]': dist.chebyshev,\n",
    "         '[COSINE]': dist.cosine,\n",
    "         '[CANBERRA]': dist.canberra}\n",
    "dist_funcs = (dist.euclidean, dist.mahalanobis, dist.cityblock, dist.minkowski, dist.chebyshev, dist.cosine, dist.canberra)\n",
    "dist_names = ('[EUCLIDEAN]', '[MAHALANOBIS]', '[CITY BLOCK]', '[MINKOWSKI (R=3)]', '[CHEBYSHEV]', '[COSINE]', '[CANBERRA]')"
   ]
  },
  {
   "cell_type": "markdown",
   "metadata": {},
   "source": [
    "## (A) Select the attributes and normalize/standardize"
   ]
  },
  {
   "cell_type": "code",
   "execution_count": null,
   "metadata": {
    "scrolled": false
   },
   "outputs": [],
   "source": [
    "select_headers = [headers[0], headers[4]]\n",
    "select = data[:,[0,4]]\n",
    "\n",
    "print('Attributes - ')\n",
    "print('\\t'.join([x[:6] for x in select_headers]))\n",
    "for i in range(len(select[:10])):\n",
    "    print('\\t'.join(['{0:.3f}'.format(x) for x in select[i]]))\n",
    "print('...')\n",
    "print(str(len(data)-10) + ' more rows.')"
   ]
  },
  {
   "cell_type": "code",
   "execution_count": null,
   "metadata": {
    "scrolled": false
   },
   "outputs": [],
   "source": [
    "def printrange(val, headers, dtype):\n",
    "    print(dtype + ' Range of values - ')\n",
    "    amin = np.amin(val, axis=0)\n",
    "    amax = np.amax(val, axis=0)\n",
    "    print('\\t' + '\\t'.join(headers))\n",
    "    print('min\\t' + '\\t'.join(['{0:.3f}'.format(x) for x in amin]))\n",
    "    print('max\\t' + '\\t'.join(['{0:.3f}'.format(x) for x in amax]))\n",
    "    print('range\\t' + '\\t'.join(['{0:.3f}'.format(x) for x in amax-amin]))\n",
    "    print('\\n')\n",
    "    return amin, amax"
   ]
  },
  {
   "cell_type": "code",
   "execution_count": null,
   "metadata": {
    "scrolled": false
   },
   "outputs": [],
   "source": [
    "amin, amax = printrange(select, select_headers, '[ORIGINAL]')\n",
    "types['[ORIGINAL]'] = select\n",
    "\n",
    "normal = np.copy(select)\n",
    "normal = (normal - amin)/(amax - amin)\n",
    "amin, amax = printrange(normal, select_headers, '[NORMALIZED]')\n",
    "types['[NORMALIZED]'] = normal\n",
    "\n",
    "amean = np.mean(select, axis=0)\n",
    "astd = np.std(select, axis=0)\n",
    "standard = np.copy(select)\n",
    "standard = (standard - amean)/astd\n",
    "amin, amax = printrange(standard, select_headers, '[STANDARDIZED]')\n",
    "types['[STANDARDIZED]'] = standard"
   ]
  },
  {
   "cell_type": "code",
   "execution_count": null,
   "metadata": {
    "scrolled": false
   },
   "outputs": [],
   "source": [
    "print('\\t'.join(type_names))\n",
    "print('\\t'.join(['\\t'.join([x[:6] for x in select_headers])]*3))\n",
    "for i in range(len(select[:20])):\n",
    "    t = []\n",
    "    for y in type_names:\n",
    "        t.append('\\t'.join(['{0:.3f}'.format(x) for x in types[y][i]]))\n",
    "    print('\\t'.join(t))\n",
    "print('...')\n",
    "print(str(len(select)-20) + ' more rows.')"
   ]
  },
  {
   "cell_type": "markdown",
   "metadata": {},
   "source": [
    "## (B) Distance Metrics"
   ]
  },
  {
   "cell_type": "markdown",
   "metadata": {},
   "source": [
    "### (i) Scatter Plots"
   ]
  },
  {
   "cell_type": "code",
   "execution_count": null,
   "metadata": {
    "scrolled": false
   },
   "outputs": [],
   "source": [
    "fig, axes = plt.subplots(nrows=1, ncols=3)\n",
    "fig.set_figheight(6)\n",
    "fig.set_figwidth(24)\n",
    "\n",
    "for i, data in enumerate(type_names):\n",
    "    axes[i].set_title(data)\n",
    "    axes[i].set_xlabel(select_headers[0])\n",
    "    axes[i].set_ylabel(select_headers[1])\n",
    "    axes[i].scatter(types[data][:,0], types[data][:,1], c='orange')\n",
    "\n",
    "plt.show()"
   ]
  },
  {
   "cell_type": "markdown",
   "metadata": {},
   "source": [
    "#### Analysis\n",
    "\n",
    "1. All the plots show that there is high colinearity between the 2 attributes.\n",
    "2. Normalization and Standardization do not change the relative positioning of the elements, but scale the values.\n",
    "3. Normalization only scales the values so that the range of values in the dataset is 1 and the minimum and maximum are 1 and 0 respectively. This effectively reduces the spread of the dataset to 1 unit if we plot its histogram.\n",
    "4. Standardization scales the data so that the mean of the dataset is 0 and has a unit standard deviation. This helps preserve the spread of the data, allowing us to compare the distribution of this data with the standard normal distribution."
   ]
  },
  {
   "cell_type": "markdown",
   "metadata": {},
   "source": [
    "### (ii) Mean values for all categories"
   ]
  },
  {
   "cell_type": "code",
   "execution_count": null,
   "metadata": {
    "scrolled": false
   },
   "outputs": [],
   "source": [
    "def getmeanstd(val, headers, dtype):\n",
    "    print(dtype + ' Mean and Standard Deviation - ')\n",
    "    mean = np.mean(val, axis=0)\n",
    "    std = np.std(val, axis=0)\n",
    "    print('\\t' + '\\t'.join(headers))\n",
    "    print('mean\\t' + '\\t'.join(['{0:.3f}'.format(x) for x in mean]))\n",
    "    print('st.dev\\t' + '\\t'.join(['{0:.3f}'.format(x) for x in std]))\n",
    "    print()\n",
    "    return mean, std"
   ]
  },
  {
   "cell_type": "code",
   "execution_count": null,
   "metadata": {
    "scrolled": false
   },
   "outputs": [],
   "source": [
    "mean = {x:None for x in types.keys()}\n",
    "std = {x:None for x in types.keys()}\n",
    "\n",
    "for data in types.keys():\n",
    "    mean[data], std[data] = getmeanstd(types[data], select_headers, data)\n",
    "\n",
    "fig, axes = plt.subplots(nrows=1, ncols=3)\n",
    "fig.set_figheight(6)\n",
    "fig.set_figwidth(24)\n",
    "\n",
    "for i, data in enumerate(type_names):\n",
    "    axes[i].set_title(data + ' [MEAN (X) IN BLACK]')\n",
    "    axes[i].set_xlabel(select_headers[0])\n",
    "    axes[i].set_ylabel(select_headers[1])\n",
    "    axes[i].scatter(types[data][:,0], types[data][:,1], c='orange')\n",
    "    axes[i].scatter(mean[data][0], mean[data][1], s=100, c='black', marker='x')\n",
    "\n",
    "plt.show()"
   ]
  },
  {
   "cell_type": "markdown",
   "metadata": {},
   "source": [
    "### (iii) Distance from mean for all categories over all distance metrics"
   ]
  },
  {
   "cell_type": "code",
   "execution_count": null,
   "metadata": {
    "scrolled": false
   },
   "outputs": [],
   "source": [
    "def getdists(types, mean, dist_funcs, dist_names, type_names):\n",
    "    t = [] \n",
    "    for i in range(len(dist_funcs)):\n",
    "        ret = []\n",
    "        for x in type_names:\n",
    "            if dist_names[i]=='[MAHALANOBIS]':\n",
    "                ret.append([dist_funcs[i](mean[x], y, np.cov(types[x].T)) for y in types[x]])\n",
    "            elif dist_names[i]=='[MINKOWSKI (R=3)]':\n",
    "                ret.append([dist_funcs[i](mean[x], y, 3) for y in types[x]])\n",
    "            else:\n",
    "                ret.append([dist_funcs[i](mean[x], y) for y in types[x]])\n",
    "        ret = np.asarray(ret)\n",
    "        ret = np.transpose(ret)\n",
    "        t.append(ret)\n",
    "    return t"
   ]
  },
  {
   "cell_type": "code",
   "execution_count": null,
   "metadata": {
    "scrolled": false
   },
   "outputs": [],
   "source": [
    "alldists = getdists(types, mean, dist_funcs, dist_names, type_names)"
   ]
  },
  {
   "cell_type": "markdown",
   "metadata": {},
   "source": [
    "### (iv) Top 10 nearest points for each distance metric"
   ]
  },
  {
   "cell_type": "code",
   "execution_count": null,
   "metadata": {
    "scrolled": false
   },
   "outputs": [],
   "source": [
    "def gettop10s(alldists, type_names):\n",
    "    t = []\n",
    "    for x in alldists:\n",
    "        d = {key:None for key in type_names}\n",
    "        c = np.copy(x)\n",
    "        c.sort(axis=0)\n",
    "        c = c[9]\n",
    "        for i in range(len(type_names)):\n",
    "            d[type_names[i]] = np.where(x[:,i]<=c[i])[0]\n",
    "        t.append(d)\n",
    "    return t"
   ]
  },
  {
   "cell_type": "code",
   "execution_count": null,
   "metadata": {
    "scrolled": false
   },
   "outputs": [],
   "source": [
    "top10s = gettop10s(alldists, type_names)"
   ]
  },
  {
   "cell_type": "code",
   "execution_count": null,
   "metadata": {},
   "outputs": [],
   "source": [
    "for i,x in enumerate(dist_names):\n",
    "    print(x)\n",
    "    for y in type_names:\n",
    "        print('\\t' + y + ' : ' + ', '.join([str(n) for n in top10s[i][y]]))\n",
    "    print()"
   ]
  },
  {
   "cell_type": "markdown",
   "metadata": {},
   "source": [
    "### (v) Plot top 10 nearest points"
   ]
  },
  {
   "cell_type": "code",
   "execution_count": null,
   "metadata": {
    "scrolled": false
   },
   "outputs": [],
   "source": [
    "def gplot(axes, i, j, title, dist, mean, headers, original, labels):\n",
    "    axes[i,j].set_title(title)\n",
    "    axes[i,j].scatter(dist[:,0], dist[:,1], s=150, c='orange')\n",
    "    axes[i,j].scatter(mean[0], mean[1], s=150, c='black', marker='x')\n",
    "    axes[i,j].set_xlabel(headers[0])\n",
    "    axes[i,j].set_ylabel(headers[1])\n",
    "    for k,label in enumerate(labels):\n",
    "        axes[i,j].annotate(label, (dist[k,0], dist[k,1]))"
   ]
  },
  {
   "cell_type": "code",
   "execution_count": null,
   "metadata": {
    "scrolled": false
   },
   "outputs": [],
   "source": [
    "fig, axes = plt.subplots(nrows=len(alldists), ncols=len(type_names))\n",
    "fig.set_figheight(56)\n",
    "fig.set_figwidth(24)\n",
    "\n",
    "for i in range(len(alldists)):\n",
    "    for j in range(len(type_names)):\n",
    "        gplot(axes, i, j, type_names[j] + ' ' + dist_names[i] + ' [MEAN IN BLACK]', types[type_names[j]][top10s[i][type_names[j]]], mean[type_names[j]], select_headers, types[type_names[j]], top10s[i][type_names[j]])\n",
    "\n",
    "plt.show()"
   ]
  },
  {
   "cell_type": "markdown",
   "metadata": {},
   "source": [
    "### (vi) Verification if the nearest points are similar across all distance metrics"
   ]
  },
  {
   "cell_type": "code",
   "execution_count": null,
   "metadata": {},
   "outputs": [],
   "source": [
    "s = {}\n",
    "for y in type_names:\n",
    "    print(y)\n",
    "    t = set()\n",
    "    for i,x in enumerate(dist_names):\n",
    "        if x not in ['[MAHALANOBIS]', '[COSINE]', '[CANBERRA]']:\n",
    "            if len(t)==0:\n",
    "                t = set(top10s[i][y])\n",
    "            else:\n",
    "                t = t.intersection(top10s[i][y])\n",
    "        print('\\t' + x + ' : ' + ', '.join([str(n) for n in top10s[i][y]]))\n",
    "    s[y] = sorted(list(t))\n",
    "    print()"
   ]
  },
  {
   "cell_type": "markdown",
   "metadata": {},
   "source": [
    "#### Analysis\n",
    "\n",
    "1. The top 10 points are not same for all distance metrics. Apart from **MAHALANOBIS, COSINE and CANBERRA**, almost all other metrics share more than 70% of the points.\n",
    " - For **original data**, apart from the above 3, all other distance metrics give the same points - 1, 6, 24, 34, 38, 47, 48, 49, 55, 57\n",
    " - For **normalized data**, apart from the above 3, 80% of the points are same across all metrics - 6, 10, 24, 38, 48, 49, 50, 55\n",
    " - For **standardized data**, apart from the above 3, 80% of the points are same across all metrics - 6, 10, 24, 38, 48, 49, 50, 55\n",
    "\n",
    "2. **MAHALANOBIS** gives different points as it lets the data decide the coordinate system, ie - it transforms the coordinates along the 1st and 2nd PCA components(in case of 2 dimensional data) and then calculates the Euclidean distance between points in this tranformed space. If the 2 features, in our case would have been uncorrelated, MAHALANOBIS distance is same as Euclidean distance.\n",
    "\n",
    "3. **COSINE** distance selects points that are radially close to each other from the center. In our case, one of those points is the mean, hence this metric tends to select points which are lying on or near the line connecting the mean and origin. If the angle between 2 points from the center is near to 0, cosine reaches its maximum. Cosine Distance is 1-cos(theta), hence this distance is minimum when the cosine is maximum.\n",
    "\n",
    "4. **CANBERRA** distance for standardized distance is just random selection of 10 points. Canberra distance from mean (0,0) is 1 for all the points. This distance metric tends to select the points whose abcissa or ordinate is the same as the other point (in our case the mean). Hence most of the points are near the imaginary vertical and horizontal line intersecting at the mean."
   ]
  },
  {
   "cell_type": "markdown",
   "metadata": {},
   "source": [
    "### (vii) Results\n",
    "\n",
    "We can clearly see from the above scenario that most of the distance metrics are heavily affected by the range of values along each dimension of the data. If the range of one of the dimensions is much greater than the other, it tends to dominate the distance value. This might lead to unequal contribution of each dimension in calculating distance between 2 points.\n",
    "\n",
    "Some distance metrics like Mahalanobis, Canberra and Cosine overcome this issue and give different points. Cosine is very favorable for calculating similarity between vectors. Mahalanobis is completely independent of the Euclidean co-ordinate axis, and calculates the distance along completely different co-ordinate system dictated by the variance in the data.\n",
    "\n",
    "Thus it is important to transform the data to avoid effect of dimension with large range of values. \n",
    "\n",
    "Normalization scales all the dimensions in the range of [0,1] Thus all dimensions have equal weightage. But this also incorporates the outliers in the actual data, thus it is not useful in scenarios which are highly sensitive to outliers. \n",
    "\n",
    "Standardization on the other hand preserves the spread of the distribution along each dimension and also centers the mean of each dimension at 0 with a standard deviation of 1. This allows us to make comparisions with the Standard Normal Distribution and also helps eliminate outliers, while also reduces the range of data."
   ]
  }
 ],
 "metadata": {
  "kernelspec": {
   "display_name": "Python 3",
   "language": "python",
   "name": "python3"
  },
  "language_info": {
   "codemirror_mode": {
    "name": "ipython",
    "version": 3
   },
   "file_extension": ".py",
   "mimetype": "text/x-python",
   "name": "python",
   "nbconvert_exporter": "python",
   "pygments_lexer": "ipython3",
   "version": "3.6.5"
  }
 },
 "nbformat": 4,
 "nbformat_minor": 2
}
