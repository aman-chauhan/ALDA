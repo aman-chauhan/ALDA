{
 "cells": [
  {
   "cell_type": "markdown",
   "metadata": {},
   "source": [
    "# Q5"
   ]
  },
  {
   "cell_type": "markdown",
   "metadata": {},
   "source": [
    "## Import the libraries"
   ]
  },
  {
   "cell_type": "code",
   "execution_count": null,
   "metadata": {
    "scrolled": false
   },
   "outputs": [],
   "source": [
    "import scipy.spatial.distance as dist\n",
    "import matplotlib.pyplot as plt\n",
    "import numpy as np\n",
    "import os\n",
    "%matplotlib inline"
   ]
  },
  {
   "cell_type": "markdown",
   "metadata": {},
   "source": [
    "## Load the data"
   ]
  },
  {
   "cell_type": "code",
   "execution_count": null,
   "metadata": {
    "scrolled": false
   },
   "outputs": [],
   "source": [
    "data = None\n",
    "with open('Data' + os.sep + 'seeds.csv') as fp:\n",
    "    data = [x.strip().split(',') for x in fp.readlines()]\n",
    "\n",
    "headers = data[0]\n",
    "class_field = len(headers)-1\n",
    "data = [[int(x[i]) if i==class_field else float(x[i]) for i in range(len(x))] for x in data[1:]]\n",
    "data = np.asarray(data)\n",
    "\n",
    "print('Attributes - ')\n",
    "print('\\t'.join([x[:6] for x in headers]))\n",
    "for i in range(len(data[:10])):\n",
    "    print('\\t'.join(['{0:.3f}'.format(x) for x in data[i]]))\n",
    "print('...')\n",
    "print(str(len(data)-10) + ' more rows.')"
   ]
  },
  {
   "cell_type": "code",
   "execution_count": null,
   "metadata": {
    "scrolled": false
   },
   "outputs": [],
   "source": [
    "types = {'[ORIGINAL]': None, '[NORMALIZED]': None, '[STANDARDIZED]': None}\n",
    "type_names = ['[ORIGINAL]', '[NORMALIZED]', '[STANDARDIZED]']\n",
    "dists = {'[EUCLIDEAN]': dist.euclidean,\n",
    "         '[MAHALANOBIS]': dist.mahalanobis,\n",
    "         '[CITY BLOCK]': dist.cityblock,\n",
    "         '[MINKOWSKI (R=3)]': dist.minkowski,\n",
    "         '[CHEBYSHEV]': dist.chebyshev,\n",
    "         '[COSINE]': dist.cosine,\n",
    "         '[CANBERRA]': dist.canberra}\n",
    "dist_funcs = (dist.euclidean, dist.mahalanobis, dist.cityblock, dist.minkowski, dist.chebyshev, dist.cosine, dist.canberra)\n",
    "dist_names = ('[EUCLIDEAN]', '[MAHALANOBIS]', '[CITY BLOCK]', '[MINKOWSKI (R=3)]', '[CHEBYSHEV]', '[COSINE]', '[CANBERRA]')"
   ]
  },
  {
   "cell_type": "markdown",
   "metadata": {},
   "source": [
    "## (A) Select the attributes and normalize/standardize"
   ]
  },
  {
   "cell_type": "code",
   "execution_count": null,
   "metadata": {
    "scrolled": false
   },
   "outputs": [],
   "source": [
    "select_headers = [headers[0], headers[4]]\n",
    "select = data[:,[0,4]]\n",
    "\n",
    "print('Attributes - ')\n",
    "print('\\t'.join([x[:6] for x in select_headers]))\n",
    "for i in range(len(select[:10])):\n",
    "    print('\\t'.join(['{0:.3f}'.format(x) for x in select[i]]))\n",
    "print('...')\n",
    "print(str(len(data)-10) + ' more rows.')"
   ]
  },
  {
   "cell_type": "code",
   "execution_count": null,
   "metadata": {
    "scrolled": false
   },
   "outputs": [],
   "source": [
    "def printrange(val, headers, dtype):\n",
    "    print(dtype + ' Range of values - ')\n",
    "    amin = np.amin(val, axis=0)\n",
    "    amax = np.amax(val, axis=0)\n",
    "    print('\\t' + '\\t'.join(headers))\n",
    "    print('min\\t' + '\\t'.join(['{0:.3f}'.format(x) for x in amin]))\n",
    "    print('max\\t' + '\\t'.join(['{0:.3f}'.format(x) for x in amax]))\n",
    "    print('range\\t' + '\\t'.join(['{0:.3f}'.format(x) for x in amax-amin]))\n",
    "    print('\\n')\n",
    "    return amin, amax"
   ]
  },
  {
   "cell_type": "code",
   "execution_count": null,
   "metadata": {
    "scrolled": false
   },
   "outputs": [],
   "source": [
    "amin, amax = printrange(select, select_headers, '[ORIGINAL]')\n",
    "types['[ORIGINAL]'] = select\n",
    "\n",
    "normal = np.copy(select)\n",
    "normal = (normal - amin)/(amax - amin)\n",
    "amin, amax = printrange(normal, select_headers, '[NORMALIZED]')\n",
    "types['[NORMALIZED]'] = normal\n",
    "\n",
    "amean = np.mean(select, axis=0)\n",
    "astd = np.std(select, axis=0)\n",
    "standard = np.copy(select)\n",
    "standard = (standard - amean)/astd\n",
    "amin, amax = printrange(standard, select_headers, '[STANDARDIZED]')\n",
    "types['[STANDARDIZED]'] = standard"
   ]
  },
  {
   "cell_type": "code",
   "execution_count": null,
   "metadata": {
    "scrolled": false
   },
   "outputs": [],
   "source": [
    "print('\\t'.join(type_names))\n",
    "print('\\t'.join(['\\t'.join([x[:6] for x in select_headers])]*3))\n",
    "for i in range(len(select[:20])):\n",
    "    t = []\n",
    "    for y in type_names:\n",
    "        t.append('\\t'.join(['{0:.3f}'.format(x) for x in types[y][i]]))\n",
    "    print('\\t'.join(t))\n",
    "print('...')\n",
    "print(str(len(select)-20) + ' more rows.')"
   ]
  },
  {
   "cell_type": "markdown",
   "metadata": {},
   "source": [
    "## (B) Distance Metrics"
   ]
  },
  {
   "cell_type": "markdown",
   "metadata": {},
   "source": [
    "### (i) Scatter Plots"
   ]
  },
  {
   "cell_type": "code",
   "execution_count": null,
   "metadata": {
    "scrolled": false
   },
   "outputs": [],
   "source": [
    "fig, axes = plt.subplots(nrows=1, ncols=3)\n",
    "fig.set_figheight(8)\n",
    "fig.set_figwidth(24)\n",
    "\n",
    "for i, data in enumerate(type_names):\n",
    "    axes[i].set_title(data)\n",
    "    axes[i].set_xlabel(select_headers[0])\n",
    "    axes[i].set_ylabel(select_headers[1])\n",
    "    axes[i].scatter(types[data][:,0], types[data][:,1], c='orange')\n",
    "\n",
    "plt.show()"
   ]
  },
  {
   "cell_type": "markdown",
   "metadata": {},
   "source": [
    "#### Analysis\n",
    "\n",
    "TODO"
   ]
  },
  {
   "cell_type": "markdown",
   "metadata": {},
   "source": [
    "### (ii) Mean values for all categories"
   ]
  },
  {
   "cell_type": "code",
   "execution_count": null,
   "metadata": {
    "scrolled": false
   },
   "outputs": [],
   "source": [
    "def getmeanstd(val, headers, dtype):\n",
    "    print(dtype + ' Mean and Standard Deviation - ')\n",
    "    mean = np.mean(val, axis=0)\n",
    "    std = np.std(val, axis=0)\n",
    "    print('\\t' + '\\t'.join(headers))\n",
    "    print('mean\\t' + '\\t'.join(['{0:.3f}'.format(x) for x in mean]))\n",
    "    print('st.dev\\t' + '\\t'.join(['{0:.3f}'.format(x) for x in std]))\n",
    "    print()\n",
    "    return mean, std"
   ]
  },
  {
   "cell_type": "code",
   "execution_count": null,
   "metadata": {
    "scrolled": false
   },
   "outputs": [],
   "source": [
    "mean = {x:None for x in types.keys()}\n",
    "std = {x:None for x in types.keys()}\n",
    "\n",
    "for data in types.keys():\n",
    "    mean[data], std[data] = getmeanstd(types[data], select_headers, data)\n",
    "\n",
    "fig, axes = plt.subplots(nrows=1, ncols=3)\n",
    "fig.set_figheight(8)\n",
    "fig.set_figwidth(24)\n",
    "\n",
    "for i, data in enumerate(type_names):\n",
    "    axes[i].set_title(data + ' [MEAN (X) IN BLACK]')\n",
    "    axes[i].set_xlabel(select_headers[0])\n",
    "    axes[i].set_ylabel(select_headers[1])\n",
    "    axes[i].scatter(types[data][:,0], types[data][:,1], c='orange')\n",
    "    axes[i].scatter(mean[data][0], mean[data][1], s=100, c='black', marker='x')\n",
    "\n",
    "plt.show()"
   ]
  },
  {
   "cell_type": "markdown",
   "metadata": {},
   "source": [
    "### (iii) Distance from mean for all categories over all distance metrics"
   ]
  },
  {
   "cell_type": "code",
   "execution_count": null,
   "metadata": {
    "scrolled": false
   },
   "outputs": [],
   "source": [
    "def getdists(types, mean, dist_funcs, dist_names, type_names):\n",
    "    t = [] \n",
    "    for i in range(len(dist_funcs)):\n",
    "        ret = []\n",
    "        for x in type_names:\n",
    "            if dist_names[i]=='[MAHALANOBIS]':\n",
    "                ret.append([dist_funcs[i](mean[x], y, np.cov(types[x].T)) for y in types[x]])\n",
    "            elif dist_names[i]=='[MINKOWSKI (R=3)]':\n",
    "                ret.append([dist_funcs[i](mean[x], y, 3) for y in types[x]])\n",
    "            else:\n",
    "                ret.append([dist_funcs[i](mean[x], y) for y in types[x]])\n",
    "        ret = np.asarray(ret)\n",
    "        ret = np.transpose(ret)\n",
    "        t.append(ret)\n",
    "    return t"
   ]
  },
  {
   "cell_type": "code",
   "execution_count": null,
   "metadata": {
    "scrolled": false
   },
   "outputs": [],
   "source": [
    "alldists = getdists(types, mean, dist_funcs, dist_names, type_names)"
   ]
  },
  {
   "cell_type": "markdown",
   "metadata": {},
   "source": [
    "### (iv) Top 10 nearest points for each distance metric"
   ]
  },
  {
   "cell_type": "code",
   "execution_count": null,
   "metadata": {
    "scrolled": false
   },
   "outputs": [],
   "source": [
    "def gettop10s(alldists, type_names):\n",
    "    t = []\n",
    "    for x in alldists:\n",
    "        d = {key:None for key in type_names}\n",
    "        c = np.copy(x)\n",
    "        c.sort(axis=0)\n",
    "        c = c[9]\n",
    "        for i in range(len(type_names)):\n",
    "            d[type_names[i]] = np.where(x[:,i]<=c[i])[0]\n",
    "        t.append(d)\n",
    "    return t"
   ]
  },
  {
   "cell_type": "code",
   "execution_count": null,
   "metadata": {
    "scrolled": false
   },
   "outputs": [],
   "source": [
    "top10s = gettop10s(alldists, type_names)"
   ]
  },
  {
   "cell_type": "code",
   "execution_count": null,
   "metadata": {},
   "outputs": [],
   "source": [
    "for i,x in enumerate(dist_names):\n",
    "    print(x)\n",
    "    for y in type_names:\n",
    "        print('\\t' + y + ' : ' + ', '.join([str(n) for n in top10s[i][y]]))\n",
    "    print()"
   ]
  },
  {
   "cell_type": "markdown",
   "metadata": {},
   "source": [
    "### (v) Plot top 10 nearest points"
   ]
  },
  {
   "cell_type": "code",
   "execution_count": null,
   "metadata": {
    "scrolled": false
   },
   "outputs": [],
   "source": [
    "def gplot(axes, i, j, title, dist, mean, headers, original, labels):\n",
    "    axes[i,j].set_title(title)\n",
    "    axes[i,j].scatter(dist[:,0], dist[:,1], c='orange')\n",
    "    axes[i,j].scatter(mean[0], mean[1], s=100, c='black', marker='x')\n",
    "    axes[i,j].set_xlabel(headers[0])\n",
    "    axes[i,j].set_ylabel(headers[1])\n",
    "    for k,label in enumerate(labels):\n",
    "        axes[i,j].annotate(label, (dist[k,0], dist[k,1]))"
   ]
  },
  {
   "cell_type": "code",
   "execution_count": null,
   "metadata": {
    "scrolled": false
   },
   "outputs": [],
   "source": [
    "fig, axes = plt.subplots(nrows=len(alldists), ncols=len(type_names))\n",
    "fig.set_figheight(56)\n",
    "fig.set_figwidth(24)\n",
    "\n",
    "for i in range(len(alldists)):\n",
    "    for j in range(len(type_names)):\n",
    "        gplot(axes, i, j, type_names[j] + ' ' + dist_names[i] + ' [MEAN IN BLACK]', types[type_names[j]][top10s[i][type_names[j]]], mean[type_names[j]], select_headers, types[type_names[j]], top10s[i][type_names[j]])\n",
    "\n",
    "plt.show()"
   ]
  },
  {
   "cell_type": "markdown",
   "metadata": {},
   "source": [
    "### (vi) Verification if the nearest points are similar across all distance metrics"
   ]
  },
  {
   "cell_type": "markdown",
   "metadata": {},
   "source": [
    "### (vii) Results"
   ]
  }
 ],
 "metadata": {
  "kernelspec": {
   "display_name": "Python 3",
   "language": "python",
   "name": "python3"
  },
  "language_info": {
   "codemirror_mode": {
    "name": "ipython",
    "version": 3
   },
   "file_extension": ".py",
   "mimetype": "text/x-python",
   "name": "python",
   "nbconvert_exporter": "python",
   "pygments_lexer": "ipython3",
   "version": "3.6.5"
  }
 },
 "nbformat": 4,
 "nbformat_minor": 2
}
