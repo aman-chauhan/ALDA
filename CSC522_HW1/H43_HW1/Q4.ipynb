{
 "cells": [
  {
   "cell_type": "markdown",
   "metadata": {},
   "source": [
    "# Q4"
   ]
  },
  {
   "cell_type": "markdown",
   "metadata": {},
   "source": [
    "## Import the libraries"
   ]
  },
  {
   "cell_type": "code",
   "execution_count": 1,
   "metadata": {},
   "outputs": [],
   "source": [
    "import random\n",
    "import math\n",
    "import sys\n",
    "import os"
   ]
  },
  {
   "cell_type": "markdown",
   "metadata": {},
   "source": [
    "## Helper Functions"
   ]
  },
  {
   "cell_type": "markdown",
   "metadata": {},
   "source": [
    "### Function to print the matrix"
   ]
  },
  {
   "cell_type": "code",
   "execution_count": 2,
   "metadata": {},
   "outputs": [],
   "source": [
    "def pprint(mat):\n",
    "    pad = '{:>' + str(len(str(max([max(mat[i]) for i in range(len(mat))])))) + '}'\n",
    "    print('[' + '\\n '.join(['[' + ', '.join([pad.format(mat[i][j]) for j in range(len(mat[0]))]) + ']' for i in range(len(mat))]) + ']')"
   ]
  },
  {
   "cell_type": "markdown",
   "metadata": {},
   "source": [
    "### Function to create identity matrix of size 'dim'"
   ]
  },
  {
   "cell_type": "code",
   "execution_count": 3,
   "metadata": {},
   "outputs": [],
   "source": [
    "def identity_matrix(dim):\n",
    "    return [[1 if j==i else 0 for j in range(dim)] for i in range(dim)]"
   ]
  },
  {
   "cell_type": "markdown",
   "metadata": {},
   "source": [
    "### Function to set the column to a particular value"
   ]
  },
  {
   "cell_type": "code",
   "execution_count": 4,
   "metadata": {},
   "outputs": [],
   "source": [
    "def column_manipulate(mat, col, val):\n",
    "    for row in mat:\n",
    "        row[col] = val\n",
    "    return mat"
   ]
  },
  {
   "cell_type": "markdown",
   "metadata": {},
   "source": [
    "### Function to sum all values in the matrix"
   ]
  },
  {
   "cell_type": "code",
   "execution_count": 5,
   "metadata": {},
   "outputs": [],
   "source": [
    "def matrix_sum(mat):\n",
    "    cnt = 0\n",
    "    for row in mat:\n",
    "        for col in row:\n",
    "            cnt += col\n",
    "    return cnt"
   ]
  },
  {
   "cell_type": "markdown",
   "metadata": {},
   "source": [
    "### Transpose any given MxN matrix"
   ]
  },
  {
   "cell_type": "code",
   "execution_count": 6,
   "metadata": {},
   "outputs": [],
   "source": [
    "def transpose(mat):\n",
    "    result = [[None for j in range(len(mat))] for i in range(len(mat[0]))]\n",
    "    for i in range(len(mat)):\n",
    "        for j in range(len(mat[i])):\n",
    "            result[j][i] = mat[i][j]\n",
    "    return result"
   ]
  },
  {
   "cell_type": "markdown",
   "metadata": {},
   "source": [
    "### Calculate sum for a given row and sum of diagonal elements"
   ]
  },
  {
   "cell_type": "code",
   "execution_count": 7,
   "metadata": {},
   "outputs": [],
   "source": [
    "def row_diagonal_sum(mat, row):\n",
    "    rowcnt = 0\n",
    "    dcnt = 0\n",
    "    for i in range(len(mat)):\n",
    "        for j in range(len(mat[i])):\n",
    "            if i==j:\n",
    "                dcnt += mat[i][j]\n",
    "            if i==row:\n",
    "                rowcnt += mat[i][j]\n",
    "    return rowcnt, dcnt"
   ]
  },
  {
   "cell_type": "markdown",
   "metadata": {},
   "source": [
    "### Generate NxN Gaussian Matrix for a given mean and variance"
   ]
  },
  {
   "cell_type": "code",
   "execution_count": 8,
   "metadata": {},
   "outputs": [],
   "source": [
    "def gaussian_matrix(dim, mean, variance, dtype):\n",
    "    if dtype==\"int\":\n",
    "        return [[math.floor(random.gauss(mean, math.sqrt(variance))) for j in range(dim)] for i in range(dim)]\n",
    "    else:\n",
    "        return [[random.gauss(mean, math.sqrt(variance)) for j in range(dim)] for i in range(dim)]"
   ]
  },
  {
   "cell_type": "markdown",
   "metadata": {},
   "source": [
    "### Function to multiply 2 matrices"
   ]
  },
  {
   "cell_type": "code",
   "execution_count": 9,
   "metadata": {},
   "outputs": [],
   "source": [
    "def matrix_multiply(a, b):\n",
    "    result = [[0 for j in range(len(b[0]))] for i in range(len(a))]\n",
    "    for i in range(len(a)):\n",
    "        for j in range(len(b[0])):\n",
    "            for k in range(len(b)):\n",
    "                result[i][j] += a[i][k] * b[k][j]\n",
    "    return result"
   ]
  },
  {
   "cell_type": "markdown",
   "metadata": {},
   "source": [
    "### Function to multiply individual elements of given 2 matrices"
   ]
  },
  {
   "cell_type": "code",
   "execution_count": 10,
   "metadata": {},
   "outputs": [],
   "source": [
    "def multiply(a, b):\n",
    "    result = [[0 for j in range(len(a[0]))] for i in range(len(a))]\n",
    "    for i in range(len(a)):\n",
    "        for j in range(len(a[0])):\n",
    "            result[i][j] = a[i][j] * b[i][j]\n",
    "    return result"
   ]
  },
  {
   "cell_type": "markdown",
   "metadata": {},
   "source": [
    "### Function to add 2 matrices"
   ]
  },
  {
   "cell_type": "code",
   "execution_count": 11,
   "metadata": {},
   "outputs": [],
   "source": [
    "def add(a, b):\n",
    "    result = [[0 for j in range(len(a[0]))] for i in range(len(a))]\n",
    "    for i in range(len(a)):\n",
    "        for j in range(len(a[0])):\n",
    "            result[i][j] = a[i][j] + b[i][j]\n",
    "    return result"
   ]
  },
  {
   "cell_type": "markdown",
   "metadata": {},
   "source": [
    "### Function to shift all rows up by 1"
   ]
  },
  {
   "cell_type": "code",
   "execution_count": 12,
   "metadata": {},
   "outputs": [],
   "source": [
    "def row_shift(mat):\n",
    "    return mat[1:] + [mat[0]]"
   ]
  },
  {
   "cell_type": "markdown",
   "metadata": {},
   "source": [
    "### Function to find covariance between 2 vectors"
   ]
  },
  {
   "cell_type": "code",
   "execution_count": 13,
   "metadata": {},
   "outputs": [],
   "source": [
    "def covariance(x, y):\n",
    "    mean_x = sum(x)/len(x)\n",
    "    mean_y = sum(y)/len(y)\n",
    "    sumo = 0.0\n",
    "    for i in range(len(x)):\n",
    "        sumo += (x[i] - mean_x) * (y[i] - mean_y)\n",
    "    sumo /= (len(x) - 1)\n",
    "    return sumo"
   ]
  },
  {
   "cell_type": "markdown",
   "metadata": {},
   "source": [
    "## (A) Generate 5x5 identity matrix"
   ]
  },
  {
   "cell_type": "code",
   "execution_count": 14,
   "metadata": {},
   "outputs": [
    {
     "name": "stdout",
     "output_type": "stream",
     "text": [
      "[[1, 0, 0, 0, 0]\n",
      " [0, 1, 0, 0, 0]\n",
      " [0, 0, 1, 0, 0]\n",
      " [0, 0, 0, 1, 0]\n",
      " [0, 0, 0, 0, 1]]\n"
     ]
    }
   ],
   "source": [
    "A = identity_matrix(5)\n",
    "pprint(A)"
   ]
  },
  {
   "cell_type": "markdown",
   "metadata": {},
   "source": [
    "## (B) Change all elements in the 2nd column of A to 3."
   ]
  },
  {
   "cell_type": "code",
   "execution_count": 15,
   "metadata": {},
   "outputs": [
    {
     "name": "stdout",
     "output_type": "stream",
     "text": [
      "[[1, 3, 0, 0, 0]\n",
      " [0, 3, 0, 0, 0]\n",
      " [0, 3, 1, 0, 0]\n",
      " [0, 3, 0, 1, 0]\n",
      " [0, 3, 0, 0, 1]]\n"
     ]
    }
   ],
   "source": [
    "A = column_manipulate(A, 1, 3)\n",
    "pprint(A)"
   ]
  },
  {
   "cell_type": "markdown",
   "metadata": {},
   "source": [
    "## (C) Sum of all elements in the matrix"
   ]
  },
  {
   "cell_type": "code",
   "execution_count": 16,
   "metadata": {},
   "outputs": [
    {
     "name": "stdout",
     "output_type": "stream",
     "text": [
      "19\n"
     ]
    }
   ],
   "source": [
    "print(matrix_sum(A))"
   ]
  },
  {
   "cell_type": "markdown",
   "metadata": {},
   "source": [
    "## (D) Transpose the matrix A"
   ]
  },
  {
   "cell_type": "code",
   "execution_count": 17,
   "metadata": {},
   "outputs": [
    {
     "name": "stdout",
     "output_type": "stream",
     "text": [
      "[[1, 0, 0, 0, 0]\n",
      " [3, 3, 3, 3, 3]\n",
      " [0, 0, 1, 0, 0]\n",
      " [0, 0, 0, 1, 0]\n",
      " [0, 0, 0, 0, 1]]\n"
     ]
    }
   ],
   "source": [
    "A = transpose(A)\n",
    "pprint(A)"
   ]
  },
  {
   "cell_type": "markdown",
   "metadata": {},
   "source": [
    "## (E) Calculate sum of the 3rd row, and the diagonal in the matrix A."
   ]
  },
  {
   "cell_type": "code",
   "execution_count": 18,
   "metadata": {},
   "outputs": [
    {
     "name": "stdout",
     "output_type": "stream",
     "text": [
      "Sum of 3rd row - 1\n",
      "Sum of major diagonal - 7\n"
     ]
    }
   ],
   "source": [
    "rowcnt, dcnt = row_diagonal_sum(A, 2)\n",
    "print('Sum of 3rd row - ' + str(rowcnt))\n",
    "print('Sum of major diagonal - ' + str(dcnt))"
   ]
  },
  {
   "cell_type": "markdown",
   "metadata": {},
   "source": [
    "## (F) Generate a 5*5 matrix B following Gaussian Distribution with mean 5 and variance 3."
   ]
  },
  {
   "cell_type": "code",
   "execution_count": 19,
   "metadata": {},
   "outputs": [
    {
     "name": "stdout",
     "output_type": "stream",
     "text": [
      "[[6.553949808796716, 2.6765486378685925, 5.112339140039608, 2.9867555148151443, 5.838317151324131]\n",
      " [6.746055183205681, 2.6134217273407083, 4.855955922297797, 5.501274042388236, 4.451438302899952]\n",
      " [6.008063366670697, 4.896860519470676, 2.566739462844203, 5.132107630273344, 3.2608952385391996]\n",
      " [3.4764569773293443, 3.4997584462633435, 3.4621900797798624, 6.057309319859733, 4.955735840415083]\n",
      " [2.8716336666146933, 5.635432959502835, 8.726641496061548, 6.114874571760626,  5.57508711293983]]\n"
     ]
    }
   ],
   "source": [
    "B = gaussian_matrix(5, 5, 3, \"float\")\n",
    "pprint(B)"
   ]
  },
  {
   "cell_type": "markdown",
   "metadata": {},
   "source": [
    "## (G) "
   ]
  },
  {
   "cell_type": "code",
   "execution_count": 20,
   "metadata": {},
   "outputs": [
    {
     "name": "stdout",
     "output_type": "stream",
     "text": [
      "[[44.21330707810297, 6.9949503644899576, 24.82529352387016, 16.430960584612464, 25.98890859188197]\n",
      " [6.612886677385349, 2.761186006231184, -2.6977119534374827, 5.074542378372452, 2.641543966014453]]\n"
     ]
    }
   ],
   "source": [
    "C1 = multiply(matrix_multiply([[1,0,0,0,0]]*5, row_shift(B)), identity_matrix(5))\n",
    "C2 = matrix_multiply(matrix_multiply([[1,0,0,0,0], [0,0,0,0,0]], B), C1)\n",
    "C3 = matrix_multiply([[0,0,0,0,0], [0,0,1,1,-1]], B)\n",
    "C = add(C2, C3)\n",
    "pprint(C)"
   ]
  },
  {
   "cell_type": "markdown",
   "metadata": {},
   "source": [
    "## (H)"
   ]
  },
  {
   "cell_type": "code",
   "execution_count": 21,
   "metadata": {},
   "outputs": [
    {
     "name": "stdout",
     "output_type": "stream",
     "text": [
      "[[ 88.42661415620594,  20.98485109346987,  99.30117409548065,  82.15480292306232, 155.93345155129182]\n",
      " [13.225773354770698,  8.283558018693551, -10.79084781374993,  25.37271189186226, 15.849263796086717]]\n"
     ]
    }
   ],
   "source": [
    "D1 = multiply([[2,3,4,5,6]]*5, identity_matrix(5))\n",
    "D = matrix_multiply(C, D1)\n",
    "pprint(D)"
   ]
  },
  {
   "cell_type": "markdown",
   "metadata": {},
   "source": [
    "## (I) Covariance Matrix"
   ]
  },
  {
   "cell_type": "code",
   "execution_count": 22,
   "metadata": {},
   "outputs": [
    {
     "name": "stdout",
     "output_type": "stream",
     "text": [
      "X\tY\tZ\n",
      "-\t-\t-\n",
      "2\t6\t1\n",
      "4\t5\t3\n",
      "6\t4\t5\n",
      "8\t3\t7\n",
      "\n",
      "Covariance Matrix\n",
      "\tX\tY\tZ\n",
      "X\t6.67\t-3.33\t6.67\n",
      "Y\t-3.33\t1.67\t-3.33\n",
      "Z\t6.67\t-3.33\t6.67\n"
     ]
    }
   ],
   "source": [
    "print('X\\tY\\tZ')\n",
    "print('-\\t-\\t-')\n",
    "print('{}\\t{}\\t{}'.format(2, 6, 1))\n",
    "print('{}\\t{}\\t{}'.format(4, 5, 3))\n",
    "print('{}\\t{}\\t{}'.format(6, 4, 5))\n",
    "print('{}\\t{}\\t{}'.format(8, 3, 7))\n",
    "X = [2, 4, 6, 8]\n",
    "Y = [6, 5, 4, 3]\n",
    "Z = [1, 3, 5, 7]\n",
    "print('\\nCovariance Matrix')\n",
    "print('\\tX\\tY\\tZ')\n",
    "print('X\\t{:0.2f}\\t{:0.2f}\\t{:0.2f}'.format(covariance(X, X), covariance(X, Y), covariance(X, Z)))\n",
    "print('Y\\t{:0.2f}\\t{:0.2f}\\t{:0.2f}'.format(covariance(Y, X), covariance(Y, Y), covariance(Y, Z)))\n",
    "print('Z\\t{:0.2f}\\t{:0.2f}\\t{:0.2f}'.format(covariance(Z, X), covariance(Z, Y), covariance(Z, Z)))"
   ]
  },
  {
   "cell_type": "markdown",
   "metadata": {},
   "source": [
    "## (J) Verify the equation"
   ]
  },
  {
   "cell_type": "code",
   "execution_count": 23,
   "metadata": {},
   "outputs": [
    {
     "name": "stdout",
     "output_type": "stream",
     "text": [
      "Mean - 11.0\n",
      "Standard Deviation (sd) - 5.744562646538029\n",
      "Mean of Squares - 154.0\n",
      "Sum of square of mean (121.0) and square of standard deviation (33.0) - 154.0\n"
     ]
    }
   ],
   "source": [
    "x = [2, 4, 6, 8, 10, 12, 14, 16, 18, 20]\n",
    "mean = sum(x)/len(x)\n",
    "std = math.sqrt(sum([(y-mean)**2 for y in x])/len(x))\n",
    "print('Mean - ' + str(mean))\n",
    "print('Standard Deviation (sd) - ' + '{}'.format(std))\n",
    "print('Mean of Squares - ' + '{}'.format(sum([y**2 for y in x])/len(x)))\n",
    "print('Sum of square of mean (' + str(mean**2) + ') and square of standard deviation (' + str(std**2) + ') - ' + str(mean**2 + std**2))"
   ]
  },
  {
   "cell_type": "markdown",
   "metadata": {},
   "source": [
    "***NOTE: This is considering the sample is the population itself. Hence we use the 'Uncorrected sample standard deviation'***"
   ]
  }
 ],
 "metadata": {
  "kernelspec": {
   "display_name": "Python 3",
   "language": "python",
   "name": "python3"
  },
  "language_info": {
   "codemirror_mode": {
    "name": "ipython",
    "version": 3
   },
   "file_extension": ".py",
   "mimetype": "text/x-python",
   "name": "python",
   "nbconvert_exporter": "python",
   "pygments_lexer": "ipython3",
   "version": "3.6.5"
  }
 },
 "nbformat": 4,
 "nbformat_minor": 2
}
